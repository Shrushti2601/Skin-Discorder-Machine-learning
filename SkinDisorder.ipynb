{
 "cells": [
  {
   "cell_type": "markdown",
   "id": "32371717",
   "metadata": {},
   "source": [
    "# PRCP-1027-Skin Disorder"
   ]
  },
  {
   "cell_type": "markdown",
   "id": "74f4e8d8-1116-4847-9781-5f60dcb00bf1",
   "metadata": {},
   "source": [
    "# Project team's ID : PTID-CDS-JUL-24-1984"
   ]
  },
  {
   "cell_type": "markdown",
   "id": "afdc7002-fd9e-4210-b9e1-e568226ce6f1",
   "metadata": {},
   "source": [
    "PRCP-1027-Skin Disorder\n",
    "\n",
    "Problem Statement\n",
    "\n",
    "Task 1:-Prepare a complete data analysis report on the given data.\n",
    "\n",
    "Task 2:-Create a predictive model  using machine learning techniques to predict the various classes of skin disease. \n",
    "\n",
    "Task3:-Suggestions to the Doctors to identify the skin diseases of the patient at the earliest. \n",
    "\n",
    "Dataset Information:\n",
    "\n",
    "This database contains 34 attributes, 33 of which are linear valued and one of them is nominal.The differential diagnosis of erythemato-squamous diseases is a real problem in dermatology. They all share the clinical features of erythema and scaling, with very little differences. The diseases in this group are psoriasis, seboreic dermatitis, lichen planus, pityriasis rosea, cronic dermatitis, and pityriasis rubra pilaris. Usually a biopsy is necessary for the diagnosis but unfortunately these diseases share many histopathological features as well. Another difficulty for the differential diagnosis is that a disease may show the features of another disease at the beginning stage and may have the characteristic features at the following stages. Patients were first evaluated clinically with 12 features. Afterwards, skin samples were taken for the evaluation of 22 histopathological features. The values of the histopathological features are determined by an analysis of the samples under a microscope.In the dataset constructed for this domain, the family history feature has the value 1 if any of these diseases has been observed in the family, and 0 otherwise. The age feature simply represents the age of the patient. Every other feature (clinical and histopathological) was given a degree in the range of 0 to 3. Here, 0 indicates that the feature was not present, 3 indicates the largest amount possible, and 1, 2 indicate the relative intermediate values.The names and id numbers of the patients were recently removed from the database.\n",
    "\n",
    "Domain: Healthcare\n",
    "\n",
    "Attribute Information:\n",
    "\n",
    "Clinical Attributes: (take values 0, 1, 2, 3, unless otherwise indicated)\n",
    "\n",
    "1: erythema\n",
    "2: scaling\n",
    "3: definite borders\n",
    "4: itching\n",
    "5: koebner phenomenon\n",
    "6: polygonal papules\n",
    "7: follicular papules\n",
    "8: oral mucosal involvement\n",
    "9: knee and elbow involvement\n",
    "10: scalp involvement\n",
    "11: family history, (0 or 1)\n",
    "Histopathological Attributes: (take values 0, 1, 2, 3)\n",
    "12: melanin incontinence\n",
    "13: eosinophils in the infiltrate\n",
    "14: PNL infiltrate\n",
    "15: fibrosis of the papillary dermis\n",
    "16: exocytosis\n",
    "17: acanthosis\n",
    "18: hyperkeratosis\n",
    "19: parakeratosis\n",
    "20: clubbing of the rete ridges\n",
    "21: elongation of the rete ridges\n",
    "22: thinning of the suprapapillary epidermis\n",
    "23: spongiform pustule\n",
    "24: munro microabcess\n",
    "25: focal hypergranulosis\n",
    "26: disappearance of the granular layer\n",
    "27: vacuolisation and damage of basal layer\n",
    "28: spongiosis\n",
    "29: saw-tooth appearance of retes\n",
    "30: follicular horn plug\n",
    "31: perifollicular parakeratosis\n",
    "32: inflammatory monoluclear inflitrate\n",
    "33: band-like infiltrate\n",
    "34: Age (linear)\n",
    "\n",
    "Model Comparison Report\n",
    "\n",
    "Create a report stating the performance of multiple models on this data and suggest the best model for production.\n",
    "\n",
    "\n",
    "Report on Challenges faced\n",
    "\n",
    "Create a report which should include challenges you faced on data and what technique used with proper reason.\n",
    "\n",
    "\n",
    "Note:-All above task has been created on single jupyter notebook and share the same while final submission of project.\n"
   ]
  },
  {
   "cell_type": "markdown",
   "id": "874ef886",
   "metadata": {},
   "source": [
    "# 1. Attribute Information :"
   ]
  },
  {
   "cell_type": "markdown",
   "id": "36243f88",
   "metadata": {},
   "source": [
    "### 1.1 Clinical Attributes :"
   ]
  },
  {
   "cell_type": "markdown",
   "id": "77ad7274",
   "metadata": {},
   "source": [
    "> **1. Erythema :** \n",
    ">- The presence or absence of redness or inflammation of the skin.\n",
    "\n",
    ">**2. Scaling :**\n",
    ">- Whether there are visible scales or flakes on the skin's surface.\n",
    "\n",
    ">**3. Definite Borders :** \n",
    ">- Describes whether the skin lesion has well-defined or clear borders.\n",
    "\n",
    ">**4. Itching :** \n",
    ">- Indicates whether the patient experiences itching or pruritus associated with the skin condition.\n",
    "\n",
    ">**5. Koebner Phenomenon :**\n",
    ">- Refers to whether new skin lesions appear at sites of trauma or injury to the skin.\n",
    "\n",
    ">**6. Polygonal Papules :** \n",
    ">- Presence or absence of polygonal-shaped raised skin lesions.\n",
    "\n",
    ">**7. Follicular Papules :** \n",
    ">- Whether there are raised lesions involving hair follicles.\n",
    "\n",
    ">**8. Oral Mucosal Involvement :** \n",
    ">- Indicates if the condition affects the mucous membranes inside the mouth.\n",
    "\n",
    ">**9. Knee and Elbow Involvement :** \n",
    ">- Describes whether the skin condition is specifically located on the knees and elbows.\n",
    "\n",
    ">**10. Scalp Involvement :**\n",
    ">- Whether the condition affects the scalp.\n",
    "\n",
    ">**11. Family History (0 or 1) :** \n",
    ">- Indicates whether there is a family history of similar skin conditions or relevant genetic factors.\n",
    "\n",
    ">**12. Age :** \n",
    ">- The age of the patient at the time of data collection."
   ]
  },
  {
   "cell_type": "markdown",
   "id": "2600f3fb",
   "metadata": {},
   "source": [
    ">**13. Summary of all the above Attributes :**\n",
    ">- These clinical attributes are important for dermatologists to assess and diagnose various skin conditions accurately. They are used in clinical examinations and research to characterize the presentation and progression of dermatological diseases. Researchers and healthcare providers can analyze these attributes to understand patterns and correlations in different skin conditions and to develop treatment plans tailored to individual patients."
   ]
  },
  {
   "cell_type": "markdown",
   "id": "da4f7f3e",
   "metadata": {},
   "source": [
    "### 1.2 Histopathological Attributes:"
   ]
  },
  {
   "cell_type": "markdown",
   "id": "130eb0c7",
   "metadata": {},
   "source": [
    ">**1. Melanin Incontinence :** \n",
    ">- Melanin incontinence refers to the presence of melanin pigment within the dermis. It can occur when melanocytes are damaged or when melanin leaks from epidermal cells into the deeper skin layers. Melanin incontinence is often associated with conditions like melanoma and lichen planus.\n",
    "\n",
    ">**2. Eosinophils in the Infiltrate :** \n",
    ">- Eosinophils are a type of white blood cell involved in allergic and inflammatory responses. The presence of eosinophils in the inflammatory infiltrate can be indicative of certain allergic or eosinophilic skin conditions.\n",
    "\n",
    ">**3. PNL Infiltrate :** \n",
    ">- PNL (polymorphonuclear leukocyte) infiltrate refers to the presence of polymorphonuclear white blood cells in the skin tissue. PNLs are involved in the early stages of inflammation and can be seen in various inflammatory skin disorders.\n",
    "\n",
    ">**4. Fibrosis of the Papillary Dermis :** \n",
    ">- Fibrosis in the papillary dermis indicates the accumulation of excessive fibrous tissue in the uppermost layer of the dermis. It can result from chronic inflammation and is often associated with scarring.\n",
    "\n",
    ">**5. Exocytosis :**\n",
    ">- Exocytosis refers to the migration of inflammatory cells (usually lymphocytes) from the bloodstream into the epidermis. This phenomenon is commonly observed in conditions like psoriasis.\n",
    "\n",
    ">**6. Acanthosis :** \n",
    ">- Acanthosis is characterized by the thickening of the epidermis, particularly the stratum spinosum layer. It is a common histological finding in conditions like acanthosis nigricans and psoriasis.\n",
    "\n",
    ">**7. Hyperkeratosis :** \n",
    ">- Hyperkeratosis is the excessive thickening of the stratum corneum, the outermost layer of the epidermis. It leads to the formation of a thickened, keratinized surface and can be seen in various skin disorders.\n",
    "\n",
    ">**8. Parakeratosis :** \n",
    ">- Parakeratosis is a histological feature where nuclei are retained in the stratum corneum. It is often seen in psoriasis and other hyperproliferative skin conditions.\n",
    "\n",
    ">**9. Clubbing of the Rete Ridges :**\n",
    ">- Clubbing of the rete ridges refers to the bulbous enlargement of the rete ridges, which are the finger-like projections of the epidermis into the dermis. This can be seen in conditions like lichen planus.\n",
    "\n",
    ">**10. Elongation of the Rete Ridges :** \n",
    ">- Elongation of the rete ridges indicates the lengthening of these epidermal projections into the dermis. It is a common finding in many skin diseases.\n",
    "\n",
    ">**11. Thinning of the Suprapapillary Epidermis :** \n",
    ">- This feature involves a reduction in the thickness of the suprapapillary epidermis, which is the epidermal layer above the dermal papillae. It can be observed in some inflammatory skin conditions.\n",
    "\n",
    ">**12. Spongiform Pustule :** \n",
    ">- A spongiform pustule is a blister-like structure filled with neutrophils and located within the epidermis. It is characteristic of pustular psoriasis.\n",
    "\n",
    ">**13. Munro Microabscess :** \n",
    ">- Munro microabscesses are small collections of neutrophils in the stratum corneum. They are commonly found in the epidermis of individuals with psoriasis.\n",
    "\n",
    ">**14. Focal Hypergranulosis :** \n",
    ">- Focal hypergranulosis refers to localized thickening of the granular layer of the epidermis. This can be seen in various skin disorders.\n",
    "\n",
    ">**15. Disappearance of the Granular Layer :** \n",
    ">- In some skin conditions, the granular layer of the epidermis may be absent or significantly reduced.\n",
    "\n",
    ">**16. Vacuolization and Damage of Basal Layer :**\n",
    ">- Vacuolization refers to the formation of empty spaces (vacuoles) within the basal layer of the epidermis. It is often associated with autoimmune blistering disorders.\n",
    "\n",
    ">**17. Spongiosis :** \n",
    ">- Spongiosis is the presence of intercellular edema (fluid accumulation between epidermal cells) in the epidermis. It is a common feature of eczematous conditions.\n",
    "\n",
    ">**18. Saw-tooth Appearance of Rete Ridges :** \n",
    ">- The saw-tooth appearance is characterized by irregular, jagged projections of the epidermal rete ridges and is often seen in lichen planus.\n",
    "\n",
    ">**19. Follicular Horn Plug :** \n",
    ">- A follicular horn plug is a collection of keratinous material within a hair follicle. It can be seen in various conditions, including acne.\n",
    "\n",
    ">**20. Perifollicular Parakeratosis :** \n",
    ">- Perifollicular parakeratosis is the presence of parakeratosis around hair follicles. It can be observed in certain inflammatory skin conditions.\n",
    "\n",
    ">**21. Inflammatory Mononuclear Infiltrate :** \n",
    ">- This refers to the presence of mononuclear white blood cells (such as lymphocytes) in the dermal or epidermal infiltrate, indicating chronic inflammation.\n",
    "\n",
    ">**22. Band-like Infiltrate :** \n",
    ">- A band-like infiltrate is characterized by a dense, linear accumulation of inflammatory cells within the skin tissue. It can be seen in conditions like lichen planus.\n",
    "\n",
    ">**23. Summary of all of the above :**\n",
    ">- These histopathological attributes provide crucial information for dermatopathologists and researchers to diagnose and classify various skin disorders accurately. They aid in understanding the underlying histological changes associated with different dermatological conditions."
   ]
  },
  {
   "cell_type": "markdown",
   "id": "ad780c61",
   "metadata": {},
   "source": [
    "### 1.3 Class of Diseases :"
   ]
  },
  {
   "cell_type": "markdown",
   "id": "26eb7b95",
   "metadata": {},
   "source": [
    "The diseases in this group are :\n",
    "\n",
    ">- **1. Psoriasis** :- Psoriasis is a skin disease that causes a rash with itchy, scaly patches, most commonly on the knees,   elbows, trunk and scalp.\n",
    "\n",
    ">- **2. Seboreic Dermatitis** :- Seborrheic (seb-o-REE-ik) dermatitis is a common skin condition that mainly affects your scalp. It causes scaly patches, inflamed skin and stubborn dandruff. It usually affects oily areas of the body, such as the face, sides of the nose, eyebrows, ears, eyelids and chest. ,\n",
    "\n",
    ">- **3. Lichen Planus** :- Lichen planus (LIE-kun PLAY-nus) is a condition of the skin, hair, nails, mouth and genitals. On skin, lichen planus often appears as purple, itchy, flat bumps that develop over several weeks. In the mouth and genital mucosa, lichen planus forms lacy white patches, sometimes with painful sores.,\n",
    "\n",
    ">- **4. Pityriasis Rosea** :- Pityriasis rosea is a rash that often begins as an oval spot on the face, chest, abdomen or back. This is called a herald patch and may be up to 4 inches (10 centimeters) across. Then you may get smaller spots that sweep out from the middle of the body in a shape that looks like drooping pine-tree branches. The rash can be itchy. Pityriasis (pit-ih-RIE-uh-sis) rosea can happen at any age but is most common between the ages of 10 and 35. It tends to go away on its own within 10 weeks.,\n",
    "\n",
    ">- **5. Cronic Dermatitis** :- Dermatitis is a common condition that causes swelling and irritation of the skin. It has many causes and forms and often involves itchy, dry skin or a rash. Or it might cause the skin to blister, ooze, crust or flake. Three common types of this condition are atopic dermatitis, contact dermatitis and seborrheic dermatitis. Atopic dermatitis is also known as eczema.,\n",
    "\n",
    ">- **6. Pityriasis Rubra Pilaris** :- Pityriasis rubra pilaris (PRP) is a rare skin disease. It causes constant inflammation and shedding of the skin. PRP can affect parts of your body or your entire body. The disorder may start in childhood or adulthood. PRP affects males and females equally.."
   ]
  },
  {
   "cell_type": "markdown",
   "id": "3f6f63c5",
   "metadata": {},
   "source": [
    "# 2. Business case"
   ]
  },
  {
   "cell_type": "markdown",
   "id": "1a9a62da",
   "metadata": {},
   "source": [
    "Machine learning algorithm to predict the various skin diseases. The main objective of this project is to achieve maximum accuracy of skin disease prediction. Machine learning techniques helps in detection of skin disease at an initial stage. The feature extraction plays a key role in classification of skin diseases.The usage of Machine Learning algorithms reduces the need for human labor, such as manual feature extraction and data reconstruction for classification purpose. Moreover, Explainable ML model is used to interpret the decisions made by our model."
   ]
  },
  {
   "cell_type": "markdown",
   "id": "967b2c48",
   "metadata": {},
   "source": [
    "# 3. Importing some basic libraries and reading the dataset"
   ]
  },
  {
   "cell_type": "code",
   "execution_count": 1,
   "id": "88abee73",
   "metadata": {},
   "outputs": [],
   "source": [
    "# It is used for creating plots and charts.\n",
    "import matplotlib.pyplot as plt\n",
    "\n",
    "\n",
    "# It is used to display plots inline in jupyter notebook.\n",
    "%matplotlib inline\n",
    "\n",
    "from PIL import Image\n",
    "\n",
    "# It is used for statistical data visualization.\n",
    "import seaborn as sns\n",
    "\n",
    "# It is used for numerical operations.\n",
    "import numpy as np\n",
    "\n",
    "# It is used for data manipulation and analysis.\n",
    "import pandas as pd\n",
    "\n",
    "# Ignore warnings messages to keep the output clean.\n",
    "import warnings\n",
    "warnings.filterwarnings(\"ignore\")"
   ]
  },
  {
   "cell_type": "markdown",
   "id": "6f8948f8-ef63-408b-a336-6394d141a4cd",
   "metadata": {},
   "source": [
    "# 4. Load Dataset"
   ]
  },
  {
   "cell_type": "code",
   "execution_count": 2,
   "id": "f1f59381",
   "metadata": {},
   "outputs": [],
   "source": [
    "df = pd.read_csv('dataset_35_dermatology (1).csv')"
   ]
  },
  {
   "cell_type": "markdown",
   "id": "d9af62ae",
   "metadata": {},
   "source": [
    "# 5. Data exploration"
   ]
  },
  {
   "cell_type": "markdown",
   "id": "299d4ca4",
   "metadata": {},
   "source": [
    "## 5.1.1 To display 5 rows from starting of the dataset."
   ]
  },
  {
   "cell_type": "code",
   "execution_count": 3,
   "id": "c91a666e",
   "metadata": {},
   "outputs": [
    {
     "data": {
      "text/html": [
       "<div>\n",
       "<style scoped>\n",
       "    .dataframe tbody tr th:only-of-type {\n",
       "        vertical-align: middle;\n",
       "    }\n",
       "\n",
       "    .dataframe tbody tr th {\n",
       "        vertical-align: top;\n",
       "    }\n",
       "\n",
       "    .dataframe thead th {\n",
       "        text-align: right;\n",
       "    }\n",
       "</style>\n",
       "<table border=\"1\" class=\"dataframe\">\n",
       "  <thead>\n",
       "    <tr style=\"text-align: right;\">\n",
       "      <th></th>\n",
       "      <th>erythema</th>\n",
       "      <th>scaling</th>\n",
       "      <th>definite_borders</th>\n",
       "      <th>itching</th>\n",
       "      <th>koebner_phenomenon</th>\n",
       "      <th>polygonal_papules</th>\n",
       "      <th>follicular_papules</th>\n",
       "      <th>oral_mucosal_involvement</th>\n",
       "      <th>knee_and_elbow_involvement</th>\n",
       "      <th>scalp_involvement</th>\n",
       "      <th>...</th>\n",
       "      <th>disappearance_of_the_granular_layer</th>\n",
       "      <th>vacuolisation_and_damage_of_basal_layer</th>\n",
       "      <th>spongiosis</th>\n",
       "      <th>saw-tooth_appearance_of_retes</th>\n",
       "      <th>follicular_horn_plug</th>\n",
       "      <th>perifollicular_parakeratosis</th>\n",
       "      <th>inflammatory_monoluclear_inflitrate</th>\n",
       "      <th>band-like_infiltrate</th>\n",
       "      <th>Age</th>\n",
       "      <th>class</th>\n",
       "    </tr>\n",
       "  </thead>\n",
       "  <tbody>\n",
       "    <tr>\n",
       "      <th>0</th>\n",
       "      <td>2</td>\n",
       "      <td>2</td>\n",
       "      <td>0</td>\n",
       "      <td>3</td>\n",
       "      <td>0</td>\n",
       "      <td>0</td>\n",
       "      <td>0</td>\n",
       "      <td>0</td>\n",
       "      <td>1</td>\n",
       "      <td>0</td>\n",
       "      <td>...</td>\n",
       "      <td>0</td>\n",
       "      <td>0</td>\n",
       "      <td>3</td>\n",
       "      <td>0</td>\n",
       "      <td>0</td>\n",
       "      <td>0</td>\n",
       "      <td>1</td>\n",
       "      <td>0</td>\n",
       "      <td>55</td>\n",
       "      <td>2</td>\n",
       "    </tr>\n",
       "    <tr>\n",
       "      <th>1</th>\n",
       "      <td>3</td>\n",
       "      <td>3</td>\n",
       "      <td>3</td>\n",
       "      <td>2</td>\n",
       "      <td>1</td>\n",
       "      <td>0</td>\n",
       "      <td>0</td>\n",
       "      <td>0</td>\n",
       "      <td>1</td>\n",
       "      <td>1</td>\n",
       "      <td>...</td>\n",
       "      <td>0</td>\n",
       "      <td>0</td>\n",
       "      <td>0</td>\n",
       "      <td>0</td>\n",
       "      <td>0</td>\n",
       "      <td>0</td>\n",
       "      <td>1</td>\n",
       "      <td>0</td>\n",
       "      <td>8</td>\n",
       "      <td>1</td>\n",
       "    </tr>\n",
       "    <tr>\n",
       "      <th>2</th>\n",
       "      <td>2</td>\n",
       "      <td>1</td>\n",
       "      <td>2</td>\n",
       "      <td>3</td>\n",
       "      <td>1</td>\n",
       "      <td>3</td>\n",
       "      <td>0</td>\n",
       "      <td>3</td>\n",
       "      <td>0</td>\n",
       "      <td>0</td>\n",
       "      <td>...</td>\n",
       "      <td>0</td>\n",
       "      <td>2</td>\n",
       "      <td>3</td>\n",
       "      <td>2</td>\n",
       "      <td>0</td>\n",
       "      <td>0</td>\n",
       "      <td>2</td>\n",
       "      <td>3</td>\n",
       "      <td>26</td>\n",
       "      <td>3</td>\n",
       "    </tr>\n",
       "    <tr>\n",
       "      <th>3</th>\n",
       "      <td>2</td>\n",
       "      <td>2</td>\n",
       "      <td>2</td>\n",
       "      <td>0</td>\n",
       "      <td>0</td>\n",
       "      <td>0</td>\n",
       "      <td>0</td>\n",
       "      <td>0</td>\n",
       "      <td>3</td>\n",
       "      <td>2</td>\n",
       "      <td>...</td>\n",
       "      <td>3</td>\n",
       "      <td>0</td>\n",
       "      <td>0</td>\n",
       "      <td>0</td>\n",
       "      <td>0</td>\n",
       "      <td>0</td>\n",
       "      <td>3</td>\n",
       "      <td>0</td>\n",
       "      <td>40</td>\n",
       "      <td>1</td>\n",
       "    </tr>\n",
       "    <tr>\n",
       "      <th>4</th>\n",
       "      <td>2</td>\n",
       "      <td>3</td>\n",
       "      <td>2</td>\n",
       "      <td>2</td>\n",
       "      <td>2</td>\n",
       "      <td>2</td>\n",
       "      <td>0</td>\n",
       "      <td>2</td>\n",
       "      <td>0</td>\n",
       "      <td>0</td>\n",
       "      <td>...</td>\n",
       "      <td>2</td>\n",
       "      <td>3</td>\n",
       "      <td>2</td>\n",
       "      <td>3</td>\n",
       "      <td>0</td>\n",
       "      <td>0</td>\n",
       "      <td>2</td>\n",
       "      <td>3</td>\n",
       "      <td>45</td>\n",
       "      <td>3</td>\n",
       "    </tr>\n",
       "  </tbody>\n",
       "</table>\n",
       "<p>5 rows × 35 columns</p>\n",
       "</div>"
      ],
      "text/plain": [
       "   erythema  scaling  definite_borders  itching  koebner_phenomenon  \\\n",
       "0         2        2                 0        3                   0   \n",
       "1         3        3                 3        2                   1   \n",
       "2         2        1                 2        3                   1   \n",
       "3         2        2                 2        0                   0   \n",
       "4         2        3                 2        2                   2   \n",
       "\n",
       "   polygonal_papules  follicular_papules  oral_mucosal_involvement  \\\n",
       "0                  0                   0                         0   \n",
       "1                  0                   0                         0   \n",
       "2                  3                   0                         3   \n",
       "3                  0                   0                         0   \n",
       "4                  2                   0                         2   \n",
       "\n",
       "   knee_and_elbow_involvement  scalp_involvement  ...  \\\n",
       "0                           1                  0  ...   \n",
       "1                           1                  1  ...   \n",
       "2                           0                  0  ...   \n",
       "3                           3                  2  ...   \n",
       "4                           0                  0  ...   \n",
       "\n",
       "   disappearance_of_the_granular_layer  \\\n",
       "0                                    0   \n",
       "1                                    0   \n",
       "2                                    0   \n",
       "3                                    3   \n",
       "4                                    2   \n",
       "\n",
       "   vacuolisation_and_damage_of_basal_layer  spongiosis  \\\n",
       "0                                        0           3   \n",
       "1                                        0           0   \n",
       "2                                        2           3   \n",
       "3                                        0           0   \n",
       "4                                        3           2   \n",
       "\n",
       "   saw-tooth_appearance_of_retes  follicular_horn_plug  \\\n",
       "0                              0                     0   \n",
       "1                              0                     0   \n",
       "2                              2                     0   \n",
       "3                              0                     0   \n",
       "4                              3                     0   \n",
       "\n",
       "   perifollicular_parakeratosis  inflammatory_monoluclear_inflitrate  \\\n",
       "0                             0                                    1   \n",
       "1                             0                                    1   \n",
       "2                             0                                    2   \n",
       "3                             0                                    3   \n",
       "4                             0                                    2   \n",
       "\n",
       "   band-like_infiltrate  Age  class  \n",
       "0                     0   55      2  \n",
       "1                     0    8      1  \n",
       "2                     3   26      3  \n",
       "3                     0   40      1  \n",
       "4                     3   45      3  \n",
       "\n",
       "[5 rows x 35 columns]"
      ]
     },
     "execution_count": 3,
     "metadata": {},
     "output_type": "execute_result"
    }
   ],
   "source": [
    "df.head()"
   ]
  },
  {
   "cell_type": "markdown",
   "id": "d4f8afc4",
   "metadata": {},
   "source": [
    "##  5.1.2 To display 5 rows randomly of the dataset."
   ]
  },
  {
   "cell_type": "code",
   "execution_count": 4,
   "id": "1cff6639",
   "metadata": {},
   "outputs": [
    {
     "data": {
      "text/html": [
       "<div>\n",
       "<style scoped>\n",
       "    .dataframe tbody tr th:only-of-type {\n",
       "        vertical-align: middle;\n",
       "    }\n",
       "\n",
       "    .dataframe tbody tr th {\n",
       "        vertical-align: top;\n",
       "    }\n",
       "\n",
       "    .dataframe thead th {\n",
       "        text-align: right;\n",
       "    }\n",
       "</style>\n",
       "<table border=\"1\" class=\"dataframe\">\n",
       "  <thead>\n",
       "    <tr style=\"text-align: right;\">\n",
       "      <th></th>\n",
       "      <th>erythema</th>\n",
       "      <th>scaling</th>\n",
       "      <th>definite_borders</th>\n",
       "      <th>itching</th>\n",
       "      <th>koebner_phenomenon</th>\n",
       "      <th>polygonal_papules</th>\n",
       "      <th>follicular_papules</th>\n",
       "      <th>oral_mucosal_involvement</th>\n",
       "      <th>knee_and_elbow_involvement</th>\n",
       "      <th>scalp_involvement</th>\n",
       "      <th>...</th>\n",
       "      <th>disappearance_of_the_granular_layer</th>\n",
       "      <th>vacuolisation_and_damage_of_basal_layer</th>\n",
       "      <th>spongiosis</th>\n",
       "      <th>saw-tooth_appearance_of_retes</th>\n",
       "      <th>follicular_horn_plug</th>\n",
       "      <th>perifollicular_parakeratosis</th>\n",
       "      <th>inflammatory_monoluclear_inflitrate</th>\n",
       "      <th>band-like_infiltrate</th>\n",
       "      <th>Age</th>\n",
       "      <th>class</th>\n",
       "    </tr>\n",
       "  </thead>\n",
       "  <tbody>\n",
       "    <tr>\n",
       "      <th>29</th>\n",
       "      <td>1</td>\n",
       "      <td>1</td>\n",
       "      <td>2</td>\n",
       "      <td>3</td>\n",
       "      <td>2</td>\n",
       "      <td>2</td>\n",
       "      <td>0</td>\n",
       "      <td>3</td>\n",
       "      <td>0</td>\n",
       "      <td>0</td>\n",
       "      <td>...</td>\n",
       "      <td>0</td>\n",
       "      <td>3</td>\n",
       "      <td>0</td>\n",
       "      <td>3</td>\n",
       "      <td>1</td>\n",
       "      <td>0</td>\n",
       "      <td>2</td>\n",
       "      <td>3</td>\n",
       "      <td>50</td>\n",
       "      <td>3</td>\n",
       "    </tr>\n",
       "    <tr>\n",
       "      <th>158</th>\n",
       "      <td>2</td>\n",
       "      <td>2</td>\n",
       "      <td>1</td>\n",
       "      <td>2</td>\n",
       "      <td>0</td>\n",
       "      <td>0</td>\n",
       "      <td>0</td>\n",
       "      <td>0</td>\n",
       "      <td>0</td>\n",
       "      <td>0</td>\n",
       "      <td>...</td>\n",
       "      <td>0</td>\n",
       "      <td>0</td>\n",
       "      <td>2</td>\n",
       "      <td>0</td>\n",
       "      <td>0</td>\n",
       "      <td>0</td>\n",
       "      <td>1</td>\n",
       "      <td>0</td>\n",
       "      <td>33</td>\n",
       "      <td>2</td>\n",
       "    </tr>\n",
       "    <tr>\n",
       "      <th>183</th>\n",
       "      <td>2</td>\n",
       "      <td>2</td>\n",
       "      <td>2</td>\n",
       "      <td>0</td>\n",
       "      <td>0</td>\n",
       "      <td>0</td>\n",
       "      <td>0</td>\n",
       "      <td>0</td>\n",
       "      <td>0</td>\n",
       "      <td>0</td>\n",
       "      <td>...</td>\n",
       "      <td>0</td>\n",
       "      <td>0</td>\n",
       "      <td>0</td>\n",
       "      <td>0</td>\n",
       "      <td>0</td>\n",
       "      <td>0</td>\n",
       "      <td>2</td>\n",
       "      <td>0</td>\n",
       "      <td>20</td>\n",
       "      <td>1</td>\n",
       "    </tr>\n",
       "    <tr>\n",
       "      <th>326</th>\n",
       "      <td>2</td>\n",
       "      <td>1</td>\n",
       "      <td>2</td>\n",
       "      <td>3</td>\n",
       "      <td>2</td>\n",
       "      <td>2</td>\n",
       "      <td>0</td>\n",
       "      <td>3</td>\n",
       "      <td>0</td>\n",
       "      <td>0</td>\n",
       "      <td>...</td>\n",
       "      <td>0</td>\n",
       "      <td>2</td>\n",
       "      <td>1</td>\n",
       "      <td>2</td>\n",
       "      <td>0</td>\n",
       "      <td>0</td>\n",
       "      <td>2</td>\n",
       "      <td>3</td>\n",
       "      <td>37</td>\n",
       "      <td>3</td>\n",
       "    </tr>\n",
       "    <tr>\n",
       "      <th>110</th>\n",
       "      <td>2</td>\n",
       "      <td>2</td>\n",
       "      <td>2</td>\n",
       "      <td>3</td>\n",
       "      <td>2</td>\n",
       "      <td>0</td>\n",
       "      <td>0</td>\n",
       "      <td>0</td>\n",
       "      <td>3</td>\n",
       "      <td>3</td>\n",
       "      <td>...</td>\n",
       "      <td>1</td>\n",
       "      <td>0</td>\n",
       "      <td>0</td>\n",
       "      <td>0</td>\n",
       "      <td>0</td>\n",
       "      <td>0</td>\n",
       "      <td>2</td>\n",
       "      <td>0</td>\n",
       "      <td>41</td>\n",
       "      <td>1</td>\n",
       "    </tr>\n",
       "  </tbody>\n",
       "</table>\n",
       "<p>5 rows × 35 columns</p>\n",
       "</div>"
      ],
      "text/plain": [
       "     erythema  scaling  definite_borders  itching  koebner_phenomenon  \\\n",
       "29          1        1                 2        3                   2   \n",
       "158         2        2                 1        2                   0   \n",
       "183         2        2                 2        0                   0   \n",
       "326         2        1                 2        3                   2   \n",
       "110         2        2                 2        3                   2   \n",
       "\n",
       "     polygonal_papules  follicular_papules  oral_mucosal_involvement  \\\n",
       "29                   2                   0                         3   \n",
       "158                  0                   0                         0   \n",
       "183                  0                   0                         0   \n",
       "326                  2                   0                         3   \n",
       "110                  0                   0                         0   \n",
       "\n",
       "     knee_and_elbow_involvement  scalp_involvement  ...  \\\n",
       "29                            0                  0  ...   \n",
       "158                           0                  0  ...   \n",
       "183                           0                  0  ...   \n",
       "326                           0                  0  ...   \n",
       "110                           3                  3  ...   \n",
       "\n",
       "     disappearance_of_the_granular_layer  \\\n",
       "29                                     0   \n",
       "158                                    0   \n",
       "183                                    0   \n",
       "326                                    0   \n",
       "110                                    1   \n",
       "\n",
       "     vacuolisation_and_damage_of_basal_layer  spongiosis  \\\n",
       "29                                         3           0   \n",
       "158                                        0           2   \n",
       "183                                        0           0   \n",
       "326                                        2           1   \n",
       "110                                        0           0   \n",
       "\n",
       "     saw-tooth_appearance_of_retes  follicular_horn_plug  \\\n",
       "29                               3                     1   \n",
       "158                              0                     0   \n",
       "183                              0                     0   \n",
       "326                              2                     0   \n",
       "110                              0                     0   \n",
       "\n",
       "     perifollicular_parakeratosis  inflammatory_monoluclear_inflitrate  \\\n",
       "29                              0                                    2   \n",
       "158                             0                                    1   \n",
       "183                             0                                    2   \n",
       "326                             0                                    2   \n",
       "110                             0                                    2   \n",
       "\n",
       "     band-like_infiltrate  Age  class  \n",
       "29                      3   50      3  \n",
       "158                     0   33      2  \n",
       "183                     0   20      1  \n",
       "326                     3   37      3  \n",
       "110                     0   41      1  \n",
       "\n",
       "[5 rows x 35 columns]"
      ]
     },
     "execution_count": 4,
     "metadata": {},
     "output_type": "execute_result"
    }
   ],
   "source": [
    "df.sample(5)"
   ]
  },
  {
   "cell_type": "markdown",
   "id": "3549bd71",
   "metadata": {},
   "source": [
    "## 5.1.3 To display last 5 rows of the dataset."
   ]
  },
  {
   "cell_type": "code",
   "execution_count": 5,
   "id": "14593da5",
   "metadata": {},
   "outputs": [
    {
     "data": {
      "text/html": [
       "<div>\n",
       "<style scoped>\n",
       "    .dataframe tbody tr th:only-of-type {\n",
       "        vertical-align: middle;\n",
       "    }\n",
       "\n",
       "    .dataframe tbody tr th {\n",
       "        vertical-align: top;\n",
       "    }\n",
       "\n",
       "    .dataframe thead th {\n",
       "        text-align: right;\n",
       "    }\n",
       "</style>\n",
       "<table border=\"1\" class=\"dataframe\">\n",
       "  <thead>\n",
       "    <tr style=\"text-align: right;\">\n",
       "      <th></th>\n",
       "      <th>erythema</th>\n",
       "      <th>scaling</th>\n",
       "      <th>definite_borders</th>\n",
       "      <th>itching</th>\n",
       "      <th>koebner_phenomenon</th>\n",
       "      <th>polygonal_papules</th>\n",
       "      <th>follicular_papules</th>\n",
       "      <th>oral_mucosal_involvement</th>\n",
       "      <th>knee_and_elbow_involvement</th>\n",
       "      <th>scalp_involvement</th>\n",
       "      <th>...</th>\n",
       "      <th>disappearance_of_the_granular_layer</th>\n",
       "      <th>vacuolisation_and_damage_of_basal_layer</th>\n",
       "      <th>spongiosis</th>\n",
       "      <th>saw-tooth_appearance_of_retes</th>\n",
       "      <th>follicular_horn_plug</th>\n",
       "      <th>perifollicular_parakeratosis</th>\n",
       "      <th>inflammatory_monoluclear_inflitrate</th>\n",
       "      <th>band-like_infiltrate</th>\n",
       "      <th>Age</th>\n",
       "      <th>class</th>\n",
       "    </tr>\n",
       "  </thead>\n",
       "  <tbody>\n",
       "    <tr>\n",
       "      <th>361</th>\n",
       "      <td>2</td>\n",
       "      <td>1</td>\n",
       "      <td>1</td>\n",
       "      <td>0</td>\n",
       "      <td>1</td>\n",
       "      <td>0</td>\n",
       "      <td>0</td>\n",
       "      <td>0</td>\n",
       "      <td>0</td>\n",
       "      <td>0</td>\n",
       "      <td>...</td>\n",
       "      <td>0</td>\n",
       "      <td>0</td>\n",
       "      <td>1</td>\n",
       "      <td>0</td>\n",
       "      <td>0</td>\n",
       "      <td>0</td>\n",
       "      <td>2</td>\n",
       "      <td>0</td>\n",
       "      <td>25</td>\n",
       "      <td>4</td>\n",
       "    </tr>\n",
       "    <tr>\n",
       "      <th>362</th>\n",
       "      <td>3</td>\n",
       "      <td>2</td>\n",
       "      <td>1</td>\n",
       "      <td>0</td>\n",
       "      <td>1</td>\n",
       "      <td>0</td>\n",
       "      <td>0</td>\n",
       "      <td>0</td>\n",
       "      <td>0</td>\n",
       "      <td>0</td>\n",
       "      <td>...</td>\n",
       "      <td>1</td>\n",
       "      <td>0</td>\n",
       "      <td>1</td>\n",
       "      <td>0</td>\n",
       "      <td>0</td>\n",
       "      <td>0</td>\n",
       "      <td>2</td>\n",
       "      <td>0</td>\n",
       "      <td>36</td>\n",
       "      <td>4</td>\n",
       "    </tr>\n",
       "    <tr>\n",
       "      <th>363</th>\n",
       "      <td>3</td>\n",
       "      <td>2</td>\n",
       "      <td>2</td>\n",
       "      <td>2</td>\n",
       "      <td>3</td>\n",
       "      <td>2</td>\n",
       "      <td>0</td>\n",
       "      <td>2</td>\n",
       "      <td>0</td>\n",
       "      <td>0</td>\n",
       "      <td>...</td>\n",
       "      <td>0</td>\n",
       "      <td>3</td>\n",
       "      <td>0</td>\n",
       "      <td>3</td>\n",
       "      <td>0</td>\n",
       "      <td>0</td>\n",
       "      <td>2</td>\n",
       "      <td>3</td>\n",
       "      <td>28</td>\n",
       "      <td>3</td>\n",
       "    </tr>\n",
       "    <tr>\n",
       "      <th>364</th>\n",
       "      <td>2</td>\n",
       "      <td>1</td>\n",
       "      <td>3</td>\n",
       "      <td>1</td>\n",
       "      <td>2</td>\n",
       "      <td>3</td>\n",
       "      <td>0</td>\n",
       "      <td>2</td>\n",
       "      <td>0</td>\n",
       "      <td>0</td>\n",
       "      <td>...</td>\n",
       "      <td>0</td>\n",
       "      <td>2</td>\n",
       "      <td>0</td>\n",
       "      <td>1</td>\n",
       "      <td>0</td>\n",
       "      <td>0</td>\n",
       "      <td>2</td>\n",
       "      <td>3</td>\n",
       "      <td>50</td>\n",
       "      <td>3</td>\n",
       "    </tr>\n",
       "    <tr>\n",
       "      <th>365</th>\n",
       "      <td>3</td>\n",
       "      <td>2</td>\n",
       "      <td>2</td>\n",
       "      <td>0</td>\n",
       "      <td>0</td>\n",
       "      <td>0</td>\n",
       "      <td>0</td>\n",
       "      <td>0</td>\n",
       "      <td>3</td>\n",
       "      <td>3</td>\n",
       "      <td>...</td>\n",
       "      <td>2</td>\n",
       "      <td>0</td>\n",
       "      <td>0</td>\n",
       "      <td>0</td>\n",
       "      <td>0</td>\n",
       "      <td>0</td>\n",
       "      <td>3</td>\n",
       "      <td>0</td>\n",
       "      <td>35</td>\n",
       "      <td>1</td>\n",
       "    </tr>\n",
       "  </tbody>\n",
       "</table>\n",
       "<p>5 rows × 35 columns</p>\n",
       "</div>"
      ],
      "text/plain": [
       "     erythema  scaling  definite_borders  itching  koebner_phenomenon  \\\n",
       "361         2        1                 1        0                   1   \n",
       "362         3        2                 1        0                   1   \n",
       "363         3        2                 2        2                   3   \n",
       "364         2        1                 3        1                   2   \n",
       "365         3        2                 2        0                   0   \n",
       "\n",
       "     polygonal_papules  follicular_papules  oral_mucosal_involvement  \\\n",
       "361                  0                   0                         0   \n",
       "362                  0                   0                         0   \n",
       "363                  2                   0                         2   \n",
       "364                  3                   0                         2   \n",
       "365                  0                   0                         0   \n",
       "\n",
       "     knee_and_elbow_involvement  scalp_involvement  ...  \\\n",
       "361                           0                  0  ...   \n",
       "362                           0                  0  ...   \n",
       "363                           0                  0  ...   \n",
       "364                           0                  0  ...   \n",
       "365                           3                  3  ...   \n",
       "\n",
       "     disappearance_of_the_granular_layer  \\\n",
       "361                                    0   \n",
       "362                                    1   \n",
       "363                                    0   \n",
       "364                                    0   \n",
       "365                                    2   \n",
       "\n",
       "     vacuolisation_and_damage_of_basal_layer  spongiosis  \\\n",
       "361                                        0           1   \n",
       "362                                        0           1   \n",
       "363                                        3           0   \n",
       "364                                        2           0   \n",
       "365                                        0           0   \n",
       "\n",
       "     saw-tooth_appearance_of_retes  follicular_horn_plug  \\\n",
       "361                              0                     0   \n",
       "362                              0                     0   \n",
       "363                              3                     0   \n",
       "364                              1                     0   \n",
       "365                              0                     0   \n",
       "\n",
       "     perifollicular_parakeratosis  inflammatory_monoluclear_inflitrate  \\\n",
       "361                             0                                    2   \n",
       "362                             0                                    2   \n",
       "363                             0                                    2   \n",
       "364                             0                                    2   \n",
       "365                             0                                    3   \n",
       "\n",
       "     band-like_infiltrate  Age  class  \n",
       "361                     0   25      4  \n",
       "362                     0   36      4  \n",
       "363                     3   28      3  \n",
       "364                     3   50      3  \n",
       "365                     0   35      1  \n",
       "\n",
       "[5 rows x 35 columns]"
      ]
     },
     "execution_count": 5,
     "metadata": {},
     "output_type": "execute_result"
    }
   ],
   "source": [
    "df.tail(5)"
   ]
  },
  {
   "cell_type": "markdown",
   "id": "074ae23b",
   "metadata": {},
   "source": [
    "## 5.2 Chceking size of of the database"
   ]
  },
  {
   "cell_type": "code",
   "execution_count": 6,
   "id": "40ccc878",
   "metadata": {},
   "outputs": [
    {
     "name": "stdout",
     "output_type": "stream",
     "text": [
      "\u001b[1;31m  \u001b[1m size of given dataset  12810 \n"
     ]
    }
   ],
   "source": [
    "print(f'\\033[1;31m  \\033[1m size of given dataset  {df.size} ')"
   ]
  },
  {
   "cell_type": "markdown",
   "id": "acea4127",
   "metadata": {},
   "source": [
    "## 5.3 Check no. of rows and columns"
   ]
  },
  {
   "cell_type": "code",
   "execution_count": 7,
   "id": "e2a653ce",
   "metadata": {},
   "outputs": [
    {
     "name": "stdout",
     "output_type": "stream",
     "text": [
      "\u001b[1;31m  \u001b[1m Given dataset contains 366 rows and 35 columns.\n"
     ]
    }
   ],
   "source": [
    "print(f'\\033[1;31m  \\033[1m Given dataset contains {df.shape[0]} rows and {df.shape[1]} columns.')"
   ]
  },
  {
   "cell_type": "markdown",
   "id": "03517e6f",
   "metadata": {},
   "source": [
    "## 5.4 Basic information of dataset"
   ]
  },
  {
   "cell_type": "code",
   "execution_count": 8,
   "id": "ef0c1bff",
   "metadata": {},
   "outputs": [
    {
     "name": "stdout",
     "output_type": "stream",
     "text": [
      "<class 'pandas.core.frame.DataFrame'>\n",
      "RangeIndex: 366 entries, 0 to 365\n",
      "Data columns (total 35 columns):\n",
      " #   Column                                    Non-Null Count  Dtype \n",
      "---  ------                                    --------------  ----- \n",
      " 0   erythema                                  366 non-null    int64 \n",
      " 1   scaling                                   366 non-null    int64 \n",
      " 2   definite_borders                          366 non-null    int64 \n",
      " 3   itching                                   366 non-null    int64 \n",
      " 4   koebner_phenomenon                        366 non-null    int64 \n",
      " 5   polygonal_papules                         366 non-null    int64 \n",
      " 6   follicular_papules                        366 non-null    int64 \n",
      " 7   oral_mucosal_involvement                  366 non-null    int64 \n",
      " 8   knee_and_elbow_involvement                366 non-null    int64 \n",
      " 9   scalp_involvement                         366 non-null    int64 \n",
      " 10  family_history                            366 non-null    int64 \n",
      " 11  melanin_incontinence                      366 non-null    int64 \n",
      " 12  eosinophils_in_the_infiltrate             366 non-null    int64 \n",
      " 13  PNL_infiltrate                            366 non-null    int64 \n",
      " 14  fibrosis_of_the_papillary_dermis          366 non-null    int64 \n",
      " 15  exocytosis                                366 non-null    int64 \n",
      " 16  acanthosis                                366 non-null    int64 \n",
      " 17  hyperkeratosis                            366 non-null    int64 \n",
      " 18  parakeratosis                             366 non-null    int64 \n",
      " 19  clubbing_of_the_rete_ridges               366 non-null    int64 \n",
      " 20  elongation_of_the_rete_ridges             366 non-null    int64 \n",
      " 21  thinning_of_the_suprapapillary_epidermis  366 non-null    int64 \n",
      " 22  spongiform_pustule                        366 non-null    int64 \n",
      " 23  munro_microabcess                         366 non-null    int64 \n",
      " 24  focal_hypergranulosis                     366 non-null    int64 \n",
      " 25  disappearance_of_the_granular_layer       366 non-null    int64 \n",
      " 26  vacuolisation_and_damage_of_basal_layer   366 non-null    int64 \n",
      " 27  spongiosis                                366 non-null    int64 \n",
      " 28  saw-tooth_appearance_of_retes             366 non-null    int64 \n",
      " 29  follicular_horn_plug                      366 non-null    int64 \n",
      " 30  perifollicular_parakeratosis              366 non-null    int64 \n",
      " 31  inflammatory_monoluclear_inflitrate       366 non-null    int64 \n",
      " 32  band-like_infiltrate                      366 non-null    int64 \n",
      " 33  Age                                       366 non-null    object\n",
      " 34  class                                     366 non-null    int64 \n",
      "dtypes: int64(34), object(1)\n",
      "memory usage: 100.2+ KB\n"
     ]
    }
   ],
   "source": [
    "df.info()"
   ]
  },
  {
   "cell_type": "markdown",
   "id": "0aa4000d",
   "metadata": {},
   "source": [
    "## 5.5 Now let us analyse the statistical description of our data."
   ]
  },
  {
   "cell_type": "code",
   "execution_count": 9,
   "id": "e57d4249",
   "metadata": {},
   "outputs": [
    {
     "data": {
      "text/html": [
       "<div>\n",
       "<style scoped>\n",
       "    .dataframe tbody tr th:only-of-type {\n",
       "        vertical-align: middle;\n",
       "    }\n",
       "\n",
       "    .dataframe tbody tr th {\n",
       "        vertical-align: top;\n",
       "    }\n",
       "\n",
       "    .dataframe thead th {\n",
       "        text-align: right;\n",
       "    }\n",
       "</style>\n",
       "<table border=\"1\" class=\"dataframe\">\n",
       "  <thead>\n",
       "    <tr style=\"text-align: right;\">\n",
       "      <th></th>\n",
       "      <th>erythema</th>\n",
       "      <th>scaling</th>\n",
       "      <th>definite_borders</th>\n",
       "      <th>itching</th>\n",
       "      <th>koebner_phenomenon</th>\n",
       "      <th>polygonal_papules</th>\n",
       "      <th>follicular_papules</th>\n",
       "      <th>oral_mucosal_involvement</th>\n",
       "      <th>knee_and_elbow_involvement</th>\n",
       "      <th>scalp_involvement</th>\n",
       "      <th>...</th>\n",
       "      <th>focal_hypergranulosis</th>\n",
       "      <th>disappearance_of_the_granular_layer</th>\n",
       "      <th>vacuolisation_and_damage_of_basal_layer</th>\n",
       "      <th>spongiosis</th>\n",
       "      <th>saw-tooth_appearance_of_retes</th>\n",
       "      <th>follicular_horn_plug</th>\n",
       "      <th>perifollicular_parakeratosis</th>\n",
       "      <th>inflammatory_monoluclear_inflitrate</th>\n",
       "      <th>band-like_infiltrate</th>\n",
       "      <th>class</th>\n",
       "    </tr>\n",
       "  </thead>\n",
       "  <tbody>\n",
       "    <tr>\n",
       "      <th>count</th>\n",
       "      <td>366.000000</td>\n",
       "      <td>366.000000</td>\n",
       "      <td>366.000000</td>\n",
       "      <td>366.000000</td>\n",
       "      <td>366.000000</td>\n",
       "      <td>366.000000</td>\n",
       "      <td>366.000000</td>\n",
       "      <td>366.000000</td>\n",
       "      <td>366.000000</td>\n",
       "      <td>366.000000</td>\n",
       "      <td>...</td>\n",
       "      <td>366.000000</td>\n",
       "      <td>366.000000</td>\n",
       "      <td>366.000000</td>\n",
       "      <td>366.000000</td>\n",
       "      <td>366.000000</td>\n",
       "      <td>366.000000</td>\n",
       "      <td>366.000000</td>\n",
       "      <td>366.000000</td>\n",
       "      <td>366.000000</td>\n",
       "      <td>366.000000</td>\n",
       "    </tr>\n",
       "    <tr>\n",
       "      <th>mean</th>\n",
       "      <td>2.068306</td>\n",
       "      <td>1.795082</td>\n",
       "      <td>1.549180</td>\n",
       "      <td>1.366120</td>\n",
       "      <td>0.633880</td>\n",
       "      <td>0.448087</td>\n",
       "      <td>0.166667</td>\n",
       "      <td>0.377049</td>\n",
       "      <td>0.614754</td>\n",
       "      <td>0.519126</td>\n",
       "      <td>...</td>\n",
       "      <td>0.393443</td>\n",
       "      <td>0.464481</td>\n",
       "      <td>0.456284</td>\n",
       "      <td>0.953552</td>\n",
       "      <td>0.453552</td>\n",
       "      <td>0.103825</td>\n",
       "      <td>0.114754</td>\n",
       "      <td>1.866120</td>\n",
       "      <td>0.554645</td>\n",
       "      <td>2.803279</td>\n",
       "    </tr>\n",
       "    <tr>\n",
       "      <th>std</th>\n",
       "      <td>0.664753</td>\n",
       "      <td>0.701527</td>\n",
       "      <td>0.907525</td>\n",
       "      <td>1.138299</td>\n",
       "      <td>0.908016</td>\n",
       "      <td>0.957327</td>\n",
       "      <td>0.570588</td>\n",
       "      <td>0.834147</td>\n",
       "      <td>0.982979</td>\n",
       "      <td>0.905639</td>\n",
       "      <td>...</td>\n",
       "      <td>0.849406</td>\n",
       "      <td>0.864899</td>\n",
       "      <td>0.954873</td>\n",
       "      <td>1.130172</td>\n",
       "      <td>0.954744</td>\n",
       "      <td>0.450433</td>\n",
       "      <td>0.488723</td>\n",
       "      <td>0.726108</td>\n",
       "      <td>1.105908</td>\n",
       "      <td>1.597803</td>\n",
       "    </tr>\n",
       "    <tr>\n",
       "      <th>min</th>\n",
       "      <td>0.000000</td>\n",
       "      <td>0.000000</td>\n",
       "      <td>0.000000</td>\n",
       "      <td>0.000000</td>\n",
       "      <td>0.000000</td>\n",
       "      <td>0.000000</td>\n",
       "      <td>0.000000</td>\n",
       "      <td>0.000000</td>\n",
       "      <td>0.000000</td>\n",
       "      <td>0.000000</td>\n",
       "      <td>...</td>\n",
       "      <td>0.000000</td>\n",
       "      <td>0.000000</td>\n",
       "      <td>0.000000</td>\n",
       "      <td>0.000000</td>\n",
       "      <td>0.000000</td>\n",
       "      <td>0.000000</td>\n",
       "      <td>0.000000</td>\n",
       "      <td>0.000000</td>\n",
       "      <td>0.000000</td>\n",
       "      <td>1.000000</td>\n",
       "    </tr>\n",
       "    <tr>\n",
       "      <th>25%</th>\n",
       "      <td>2.000000</td>\n",
       "      <td>1.000000</td>\n",
       "      <td>1.000000</td>\n",
       "      <td>0.000000</td>\n",
       "      <td>0.000000</td>\n",
       "      <td>0.000000</td>\n",
       "      <td>0.000000</td>\n",
       "      <td>0.000000</td>\n",
       "      <td>0.000000</td>\n",
       "      <td>0.000000</td>\n",
       "      <td>...</td>\n",
       "      <td>0.000000</td>\n",
       "      <td>0.000000</td>\n",
       "      <td>0.000000</td>\n",
       "      <td>0.000000</td>\n",
       "      <td>0.000000</td>\n",
       "      <td>0.000000</td>\n",
       "      <td>0.000000</td>\n",
       "      <td>1.000000</td>\n",
       "      <td>0.000000</td>\n",
       "      <td>1.000000</td>\n",
       "    </tr>\n",
       "    <tr>\n",
       "      <th>50%</th>\n",
       "      <td>2.000000</td>\n",
       "      <td>2.000000</td>\n",
       "      <td>2.000000</td>\n",
       "      <td>1.000000</td>\n",
       "      <td>0.000000</td>\n",
       "      <td>0.000000</td>\n",
       "      <td>0.000000</td>\n",
       "      <td>0.000000</td>\n",
       "      <td>0.000000</td>\n",
       "      <td>0.000000</td>\n",
       "      <td>...</td>\n",
       "      <td>0.000000</td>\n",
       "      <td>0.000000</td>\n",
       "      <td>0.000000</td>\n",
       "      <td>0.000000</td>\n",
       "      <td>0.000000</td>\n",
       "      <td>0.000000</td>\n",
       "      <td>0.000000</td>\n",
       "      <td>2.000000</td>\n",
       "      <td>0.000000</td>\n",
       "      <td>3.000000</td>\n",
       "    </tr>\n",
       "    <tr>\n",
       "      <th>75%</th>\n",
       "      <td>2.000000</td>\n",
       "      <td>2.000000</td>\n",
       "      <td>2.000000</td>\n",
       "      <td>2.000000</td>\n",
       "      <td>1.000000</td>\n",
       "      <td>0.000000</td>\n",
       "      <td>0.000000</td>\n",
       "      <td>0.000000</td>\n",
       "      <td>1.000000</td>\n",
       "      <td>1.000000</td>\n",
       "      <td>...</td>\n",
       "      <td>0.000000</td>\n",
       "      <td>1.000000</td>\n",
       "      <td>0.000000</td>\n",
       "      <td>2.000000</td>\n",
       "      <td>0.000000</td>\n",
       "      <td>0.000000</td>\n",
       "      <td>0.000000</td>\n",
       "      <td>2.000000</td>\n",
       "      <td>0.000000</td>\n",
       "      <td>4.000000</td>\n",
       "    </tr>\n",
       "    <tr>\n",
       "      <th>max</th>\n",
       "      <td>3.000000</td>\n",
       "      <td>3.000000</td>\n",
       "      <td>3.000000</td>\n",
       "      <td>3.000000</td>\n",
       "      <td>3.000000</td>\n",
       "      <td>3.000000</td>\n",
       "      <td>3.000000</td>\n",
       "      <td>3.000000</td>\n",
       "      <td>3.000000</td>\n",
       "      <td>3.000000</td>\n",
       "      <td>...</td>\n",
       "      <td>3.000000</td>\n",
       "      <td>3.000000</td>\n",
       "      <td>3.000000</td>\n",
       "      <td>3.000000</td>\n",
       "      <td>3.000000</td>\n",
       "      <td>3.000000</td>\n",
       "      <td>3.000000</td>\n",
       "      <td>3.000000</td>\n",
       "      <td>3.000000</td>\n",
       "      <td>6.000000</td>\n",
       "    </tr>\n",
       "  </tbody>\n",
       "</table>\n",
       "<p>8 rows × 34 columns</p>\n",
       "</div>"
      ],
      "text/plain": [
       "         erythema     scaling  definite_borders     itching  \\\n",
       "count  366.000000  366.000000        366.000000  366.000000   \n",
       "mean     2.068306    1.795082          1.549180    1.366120   \n",
       "std      0.664753    0.701527          0.907525    1.138299   \n",
       "min      0.000000    0.000000          0.000000    0.000000   \n",
       "25%      2.000000    1.000000          1.000000    0.000000   \n",
       "50%      2.000000    2.000000          2.000000    1.000000   \n",
       "75%      2.000000    2.000000          2.000000    2.000000   \n",
       "max      3.000000    3.000000          3.000000    3.000000   \n",
       "\n",
       "       koebner_phenomenon  polygonal_papules  follicular_papules  \\\n",
       "count          366.000000         366.000000          366.000000   \n",
       "mean             0.633880           0.448087            0.166667   \n",
       "std              0.908016           0.957327            0.570588   \n",
       "min              0.000000           0.000000            0.000000   \n",
       "25%              0.000000           0.000000            0.000000   \n",
       "50%              0.000000           0.000000            0.000000   \n",
       "75%              1.000000           0.000000            0.000000   \n",
       "max              3.000000           3.000000            3.000000   \n",
       "\n",
       "       oral_mucosal_involvement  knee_and_elbow_involvement  \\\n",
       "count                366.000000                  366.000000   \n",
       "mean                   0.377049                    0.614754   \n",
       "std                    0.834147                    0.982979   \n",
       "min                    0.000000                    0.000000   \n",
       "25%                    0.000000                    0.000000   \n",
       "50%                    0.000000                    0.000000   \n",
       "75%                    0.000000                    1.000000   \n",
       "max                    3.000000                    3.000000   \n",
       "\n",
       "       scalp_involvement  ...  focal_hypergranulosis  \\\n",
       "count         366.000000  ...             366.000000   \n",
       "mean            0.519126  ...               0.393443   \n",
       "std             0.905639  ...               0.849406   \n",
       "min             0.000000  ...               0.000000   \n",
       "25%             0.000000  ...               0.000000   \n",
       "50%             0.000000  ...               0.000000   \n",
       "75%             1.000000  ...               0.000000   \n",
       "max             3.000000  ...               3.000000   \n",
       "\n",
       "       disappearance_of_the_granular_layer  \\\n",
       "count                           366.000000   \n",
       "mean                              0.464481   \n",
       "std                               0.864899   \n",
       "min                               0.000000   \n",
       "25%                               0.000000   \n",
       "50%                               0.000000   \n",
       "75%                               1.000000   \n",
       "max                               3.000000   \n",
       "\n",
       "       vacuolisation_and_damage_of_basal_layer  spongiosis  \\\n",
       "count                               366.000000  366.000000   \n",
       "mean                                  0.456284    0.953552   \n",
       "std                                   0.954873    1.130172   \n",
       "min                                   0.000000    0.000000   \n",
       "25%                                   0.000000    0.000000   \n",
       "50%                                   0.000000    0.000000   \n",
       "75%                                   0.000000    2.000000   \n",
       "max                                   3.000000    3.000000   \n",
       "\n",
       "       saw-tooth_appearance_of_retes  follicular_horn_plug  \\\n",
       "count                     366.000000            366.000000   \n",
       "mean                        0.453552              0.103825   \n",
       "std                         0.954744              0.450433   \n",
       "min                         0.000000              0.000000   \n",
       "25%                         0.000000              0.000000   \n",
       "50%                         0.000000              0.000000   \n",
       "75%                         0.000000              0.000000   \n",
       "max                         3.000000              3.000000   \n",
       "\n",
       "       perifollicular_parakeratosis  inflammatory_monoluclear_inflitrate  \\\n",
       "count                    366.000000                           366.000000   \n",
       "mean                       0.114754                             1.866120   \n",
       "std                        0.488723                             0.726108   \n",
       "min                        0.000000                             0.000000   \n",
       "25%                        0.000000                             1.000000   \n",
       "50%                        0.000000                             2.000000   \n",
       "75%                        0.000000                             2.000000   \n",
       "max                        3.000000                             3.000000   \n",
       "\n",
       "       band-like_infiltrate       class  \n",
       "count            366.000000  366.000000  \n",
       "mean               0.554645    2.803279  \n",
       "std                1.105908    1.597803  \n",
       "min                0.000000    1.000000  \n",
       "25%                0.000000    1.000000  \n",
       "50%                0.000000    3.000000  \n",
       "75%                0.000000    4.000000  \n",
       "max                3.000000    6.000000  \n",
       "\n",
       "[8 rows x 34 columns]"
      ]
     },
     "execution_count": 9,
     "metadata": {},
     "output_type": "execute_result"
    }
   ],
   "source": [
    "df.describe()"
   ]
  },
  {
   "cell_type": "markdown",
   "id": "40049c4c",
   "metadata": {},
   "source": [
    "# 6. Data Preprocessing , Data Manipulation and Cleaning."
   ]
  },
  {
   "cell_type": "markdown",
   "id": "76d4d229",
   "metadata": {},
   "source": [
    "## 6.1 Check for duplicate data"
   ]
  },
  {
   "cell_type": "code",
   "execution_count": 10,
   "id": "e318c872",
   "metadata": {},
   "outputs": [
    {
     "name": "stdout",
     "output_type": "stream",
     "text": [
      "\u001b[1;31m  \u001b[1m Total no of duplicate value :- 0\n"
     ]
    }
   ],
   "source": [
    "print(\"\\033[1;31m  \\033[1m Total no of duplicate value :-\",df.duplicated().sum())"
   ]
  },
  {
   "cell_type": "markdown",
   "id": "5f8cea25",
   "metadata": {},
   "source": [
    "## 6.2 To check all the null values from the dataset"
   ]
  },
  {
   "cell_type": "code",
   "execution_count": 11,
   "id": "5c1e95f8",
   "metadata": {},
   "outputs": [
    {
     "data": {
      "text/plain": [
       "erythema                                    0\n",
       "scaling                                     0\n",
       "definite_borders                            0\n",
       "itching                                     0\n",
       "koebner_phenomenon                          0\n",
       "polygonal_papules                           0\n",
       "follicular_papules                          0\n",
       "oral_mucosal_involvement                    0\n",
       "knee_and_elbow_involvement                  0\n",
       "scalp_involvement                           0\n",
       "family_history                              0\n",
       "melanin_incontinence                        0\n",
       "eosinophils_in_the_infiltrate               0\n",
       "PNL_infiltrate                              0\n",
       "fibrosis_of_the_papillary_dermis            0\n",
       "exocytosis                                  0\n",
       "acanthosis                                  0\n",
       "hyperkeratosis                              0\n",
       "parakeratosis                               0\n",
       "clubbing_of_the_rete_ridges                 0\n",
       "elongation_of_the_rete_ridges               0\n",
       "thinning_of_the_suprapapillary_epidermis    0\n",
       "spongiform_pustule                          0\n",
       "munro_microabcess                           0\n",
       "focal_hypergranulosis                       0\n",
       "disappearance_of_the_granular_layer         0\n",
       "vacuolisation_and_damage_of_basal_layer     0\n",
       "spongiosis                                  0\n",
       "saw-tooth_appearance_of_retes               0\n",
       "follicular_horn_plug                        0\n",
       "perifollicular_parakeratosis                0\n",
       "inflammatory_monoluclear_inflitrate         0\n",
       "band-like_infiltrate                        0\n",
       "Age                                         0\n",
       "class                                       0\n",
       "dtype: int64"
      ]
     },
     "execution_count": 11,
     "metadata": {},
     "output_type": "execute_result"
    }
   ],
   "source": [
    "df.isnull().sum()"
   ]
  },
  {
   "cell_type": "code",
   "execution_count": 12,
   "id": "7491ddf1",
   "metadata": {},
   "outputs": [
    {
     "data": {
      "text/html": [
       "<div>\n",
       "<style scoped>\n",
       "    .dataframe tbody tr th:only-of-type {\n",
       "        vertical-align: middle;\n",
       "    }\n",
       "\n",
       "    .dataframe tbody tr th {\n",
       "        vertical-align: top;\n",
       "    }\n",
       "\n",
       "    .dataframe thead th {\n",
       "        text-align: right;\n",
       "    }\n",
       "</style>\n",
       "<table border=\"1\" class=\"dataframe\">\n",
       "  <thead>\n",
       "    <tr style=\"text-align: right;\">\n",
       "      <th></th>\n",
       "      <th>Columns</th>\n",
       "      <th>Value</th>\n",
       "      <th>proportion</th>\n",
       "    </tr>\n",
       "  </thead>\n",
       "  <tbody>\n",
       "    <tr>\n",
       "      <th>0</th>\n",
       "      <td>erythema</td>\n",
       "      <td>0</td>\n",
       "      <td>0.0</td>\n",
       "    </tr>\n",
       "    <tr>\n",
       "      <th>1</th>\n",
       "      <td>vacuolisation_and_damage_of_basal_layer</td>\n",
       "      <td>0</td>\n",
       "      <td>0.0</td>\n",
       "    </tr>\n",
       "    <tr>\n",
       "      <th>2</th>\n",
       "      <td>elongation_of_the_rete_ridges</td>\n",
       "      <td>0</td>\n",
       "      <td>0.0</td>\n",
       "    </tr>\n",
       "    <tr>\n",
       "      <th>3</th>\n",
       "      <td>thinning_of_the_suprapapillary_epidermis</td>\n",
       "      <td>0</td>\n",
       "      <td>0.0</td>\n",
       "    </tr>\n",
       "    <tr>\n",
       "      <th>4</th>\n",
       "      <td>spongiform_pustule</td>\n",
       "      <td>0</td>\n",
       "      <td>0.0</td>\n",
       "    </tr>\n",
       "    <tr>\n",
       "      <th>5</th>\n",
       "      <td>munro_microabcess</td>\n",
       "      <td>0</td>\n",
       "      <td>0.0</td>\n",
       "    </tr>\n",
       "    <tr>\n",
       "      <th>6</th>\n",
       "      <td>focal_hypergranulosis</td>\n",
       "      <td>0</td>\n",
       "      <td>0.0</td>\n",
       "    </tr>\n",
       "    <tr>\n",
       "      <th>7</th>\n",
       "      <td>disappearance_of_the_granular_layer</td>\n",
       "      <td>0</td>\n",
       "      <td>0.0</td>\n",
       "    </tr>\n",
       "    <tr>\n",
       "      <th>8</th>\n",
       "      <td>spongiosis</td>\n",
       "      <td>0</td>\n",
       "      <td>0.0</td>\n",
       "    </tr>\n",
       "    <tr>\n",
       "      <th>9</th>\n",
       "      <td>parakeratosis</td>\n",
       "      <td>0</td>\n",
       "      <td>0.0</td>\n",
       "    </tr>\n",
       "    <tr>\n",
       "      <th>10</th>\n",
       "      <td>saw-tooth_appearance_of_retes</td>\n",
       "      <td>0</td>\n",
       "      <td>0.0</td>\n",
       "    </tr>\n",
       "    <tr>\n",
       "      <th>11</th>\n",
       "      <td>follicular_horn_plug</td>\n",
       "      <td>0</td>\n",
       "      <td>0.0</td>\n",
       "    </tr>\n",
       "    <tr>\n",
       "      <th>12</th>\n",
       "      <td>perifollicular_parakeratosis</td>\n",
       "      <td>0</td>\n",
       "      <td>0.0</td>\n",
       "    </tr>\n",
       "    <tr>\n",
       "      <th>13</th>\n",
       "      <td>inflammatory_monoluclear_inflitrate</td>\n",
       "      <td>0</td>\n",
       "      <td>0.0</td>\n",
       "    </tr>\n",
       "    <tr>\n",
       "      <th>14</th>\n",
       "      <td>band-like_infiltrate</td>\n",
       "      <td>0</td>\n",
       "      <td>0.0</td>\n",
       "    </tr>\n",
       "    <tr>\n",
       "      <th>15</th>\n",
       "      <td>Age</td>\n",
       "      <td>0</td>\n",
       "      <td>0.0</td>\n",
       "    </tr>\n",
       "    <tr>\n",
       "      <th>16</th>\n",
       "      <td>clubbing_of_the_rete_ridges</td>\n",
       "      <td>0</td>\n",
       "      <td>0.0</td>\n",
       "    </tr>\n",
       "    <tr>\n",
       "      <th>17</th>\n",
       "      <td>hyperkeratosis</td>\n",
       "      <td>0</td>\n",
       "      <td>0.0</td>\n",
       "    </tr>\n",
       "    <tr>\n",
       "      <th>18</th>\n",
       "      <td>scaling</td>\n",
       "      <td>0</td>\n",
       "      <td>0.0</td>\n",
       "    </tr>\n",
       "    <tr>\n",
       "      <th>19</th>\n",
       "      <td>knee_and_elbow_involvement</td>\n",
       "      <td>0</td>\n",
       "      <td>0.0</td>\n",
       "    </tr>\n",
       "    <tr>\n",
       "      <th>20</th>\n",
       "      <td>definite_borders</td>\n",
       "      <td>0</td>\n",
       "      <td>0.0</td>\n",
       "    </tr>\n",
       "    <tr>\n",
       "      <th>21</th>\n",
       "      <td>itching</td>\n",
       "      <td>0</td>\n",
       "      <td>0.0</td>\n",
       "    </tr>\n",
       "    <tr>\n",
       "      <th>22</th>\n",
       "      <td>koebner_phenomenon</td>\n",
       "      <td>0</td>\n",
       "      <td>0.0</td>\n",
       "    </tr>\n",
       "    <tr>\n",
       "      <th>23</th>\n",
       "      <td>polygonal_papules</td>\n",
       "      <td>0</td>\n",
       "      <td>0.0</td>\n",
       "    </tr>\n",
       "    <tr>\n",
       "      <th>24</th>\n",
       "      <td>follicular_papules</td>\n",
       "      <td>0</td>\n",
       "      <td>0.0</td>\n",
       "    </tr>\n",
       "    <tr>\n",
       "      <th>25</th>\n",
       "      <td>oral_mucosal_involvement</td>\n",
       "      <td>0</td>\n",
       "      <td>0.0</td>\n",
       "    </tr>\n",
       "    <tr>\n",
       "      <th>26</th>\n",
       "      <td>scalp_involvement</td>\n",
       "      <td>0</td>\n",
       "      <td>0.0</td>\n",
       "    </tr>\n",
       "    <tr>\n",
       "      <th>27</th>\n",
       "      <td>acanthosis</td>\n",
       "      <td>0</td>\n",
       "      <td>0.0</td>\n",
       "    </tr>\n",
       "    <tr>\n",
       "      <th>28</th>\n",
       "      <td>family_history</td>\n",
       "      <td>0</td>\n",
       "      <td>0.0</td>\n",
       "    </tr>\n",
       "    <tr>\n",
       "      <th>29</th>\n",
       "      <td>melanin_incontinence</td>\n",
       "      <td>0</td>\n",
       "      <td>0.0</td>\n",
       "    </tr>\n",
       "    <tr>\n",
       "      <th>30</th>\n",
       "      <td>eosinophils_in_the_infiltrate</td>\n",
       "      <td>0</td>\n",
       "      <td>0.0</td>\n",
       "    </tr>\n",
       "    <tr>\n",
       "      <th>31</th>\n",
       "      <td>PNL_infiltrate</td>\n",
       "      <td>0</td>\n",
       "      <td>0.0</td>\n",
       "    </tr>\n",
       "    <tr>\n",
       "      <th>32</th>\n",
       "      <td>fibrosis_of_the_papillary_dermis</td>\n",
       "      <td>0</td>\n",
       "      <td>0.0</td>\n",
       "    </tr>\n",
       "    <tr>\n",
       "      <th>33</th>\n",
       "      <td>exocytosis</td>\n",
       "      <td>0</td>\n",
       "      <td>0.0</td>\n",
       "    </tr>\n",
       "    <tr>\n",
       "      <th>34</th>\n",
       "      <td>class</td>\n",
       "      <td>0</td>\n",
       "      <td>0.0</td>\n",
       "    </tr>\n",
       "  </tbody>\n",
       "</table>\n",
       "</div>"
      ],
      "text/plain": [
       "                                     Columns  Value  proportion\n",
       "0                                   erythema      0         0.0\n",
       "1    vacuolisation_and_damage_of_basal_layer      0         0.0\n",
       "2              elongation_of_the_rete_ridges      0         0.0\n",
       "3   thinning_of_the_suprapapillary_epidermis      0         0.0\n",
       "4                         spongiform_pustule      0         0.0\n",
       "5                          munro_microabcess      0         0.0\n",
       "6                      focal_hypergranulosis      0         0.0\n",
       "7        disappearance_of_the_granular_layer      0         0.0\n",
       "8                                 spongiosis      0         0.0\n",
       "9                              parakeratosis      0         0.0\n",
       "10             saw-tooth_appearance_of_retes      0         0.0\n",
       "11                      follicular_horn_plug      0         0.0\n",
       "12              perifollicular_parakeratosis      0         0.0\n",
       "13       inflammatory_monoluclear_inflitrate      0         0.0\n",
       "14                      band-like_infiltrate      0         0.0\n",
       "15                                       Age      0         0.0\n",
       "16               clubbing_of_the_rete_ridges      0         0.0\n",
       "17                            hyperkeratosis      0         0.0\n",
       "18                                   scaling      0         0.0\n",
       "19                knee_and_elbow_involvement      0         0.0\n",
       "20                          definite_borders      0         0.0\n",
       "21                                   itching      0         0.0\n",
       "22                        koebner_phenomenon      0         0.0\n",
       "23                         polygonal_papules      0         0.0\n",
       "24                        follicular_papules      0         0.0\n",
       "25                  oral_mucosal_involvement      0         0.0\n",
       "26                         scalp_involvement      0         0.0\n",
       "27                                acanthosis      0         0.0\n",
       "28                            family_history      0         0.0\n",
       "29                      melanin_incontinence      0         0.0\n",
       "30             eosinophils_in_the_infiltrate      0         0.0\n",
       "31                            PNL_infiltrate      0         0.0\n",
       "32          fibrosis_of_the_papillary_dermis      0         0.0\n",
       "33                                exocytosis      0         0.0\n",
       "34                                     class      0         0.0"
      ]
     },
     "execution_count": 12,
     "metadata": {},
     "output_type": "execute_result"
    }
   ],
   "source": [
    "null_data = df.isna().sum().sort_values(ascending=False)\n",
    "null_data = null_data.reset_index(drop = False)\n",
    "null_data = null_data.rename(columns={\"index\": \"Columns\", 0:\"Value\"})\n",
    "null_data['proportion'] = (null_data['Value']/len(df))*100\n",
    "null_data"
   ]
  },
  {
   "cell_type": "markdown",
   "id": "09537099",
   "metadata": {},
   "source": [
    "## 6.3 missing values"
   ]
  },
  {
   "cell_type": "code",
   "execution_count": 13,
   "id": "9abf5091",
   "metadata": {},
   "outputs": [
    {
     "data": {
      "image/png": "[encoded data removed]",
      "text/plain": [
       "<Figure size 1152x360 with 1 Axes>"
      ]
     },
     "metadata": {
      "needs_background": "light"
     },
     "output_type": "display_data"
    }
   ],
   "source": [
    "\n",
    "missing=pd.DataFrame((df.isnull().sum())*100/df.shape[0]).reset_index()\n",
    "plt.figure(figsize=(16,5))\n",
    "ax=plt.stem(missing['index'],missing[0])\n",
    "plt.xticks(rotation=90,fontsize=7)\n",
    "plt.title('percent of missing values ')\n",
    "plt.ylabel('percent')\n",
    "plt.show()"
   ]
  },
  {
   "cell_type": "markdown",
   "id": "13d08b14",
   "metadata": {},
   "source": [
    "### **Observations**:\n",
    "    \n",
    "**Dataset does not have null values. Hence, null value handling will not be done as a part of this assignment.**"
   ]
  },
  {
   "cell_type": "markdown",
   "id": "103b47fb",
   "metadata": {},
   "source": [
    "## 6.4.0 Unique value in dataset"
   ]
  },
  {
   "cell_type": "markdown",
   "id": "f8b69855",
   "metadata": {},
   "source": [
    "### 6.4.1 Unique Columns"
   ]
  },
  {
   "cell_type": "code",
   "execution_count": 14,
   "id": "2a6de695",
   "metadata": {},
   "outputs": [
    {
     "name": "stdout",
     "output_type": "stream",
     "text": [
      "erythema                                     4\n",
      "scaling                                      4\n",
      "definite_borders                             4\n",
      "itching                                      4\n",
      "koebner_phenomenon                           4\n",
      "polygonal_papules                            4\n",
      "follicular_papules                           4\n",
      "oral_mucosal_involvement                     4\n",
      "knee_and_elbow_involvement                   4\n",
      "scalp_involvement                            4\n",
      "family_history                               2\n",
      "melanin_incontinence                         4\n",
      "eosinophils_in_the_infiltrate                3\n",
      "PNL_infiltrate                               4\n",
      "fibrosis_of_the_papillary_dermis             4\n",
      "exocytosis                                   4\n",
      "acanthosis                                   4\n",
      "hyperkeratosis                               4\n",
      "parakeratosis                                4\n",
      "clubbing_of_the_rete_ridges                  4\n",
      "elongation_of_the_rete_ridges                4\n",
      "thinning_of_the_suprapapillary_epidermis     4\n",
      "spongiform_pustule                           4\n",
      "munro_microabcess                            4\n",
      "focal_hypergranulosis                        4\n",
      "disappearance_of_the_granular_layer          4\n",
      "vacuolisation_and_damage_of_basal_layer      4\n",
      "spongiosis                                   4\n",
      "saw-tooth_appearance_of_retes                4\n",
      "follicular_horn_plug                         4\n",
      "perifollicular_parakeratosis                 4\n",
      "inflammatory_monoluclear_inflitrate          4\n",
      "band-like_infiltrate                         4\n",
      "Age                                         61\n",
      "class                                        6\n",
      "dtype: int64\n",
      "\u001b[1;31m  \u001b[1m Total no of columns contain unique values : 35\n"
     ]
    }
   ],
   "source": [
    "num_unique_col=df.nunique()\n",
    "print(num_unique_col)\n",
    "print(\"\\033[1;31m  \\033[1m Total no of columns contain unique values :\",len(num_unique_col))"
   ]
  },
  {
   "cell_type": "markdown",
   "id": "dcd111db",
   "metadata": {},
   "source": [
    "**Observations**:\n",
    "    \n",
    "    We can see above each and every single columns contain unique value"
   ]
  },
  {
   "cell_type": "markdown",
   "id": "be9ceca3",
   "metadata": {},
   "source": [
    "### 6.4.2 Uniqueness of columns"
   ]
  },
  {
   "cell_type": "code",
   "execution_count": 15,
   "id": "57e4293c",
   "metadata": {},
   "outputs": [
    {
     "data": {
      "text/plain": [
       "erythema                                                                         [2, 3, 1, 0]\n",
       "scaling                                                                          [2, 3, 1, 0]\n",
       "definite_borders                                                                 [0, 3, 2, 1]\n",
       "itching                                                                          [3, 2, 0, 1]\n",
       "koebner_phenomenon                                                               [0, 1, 2, 3]\n",
       "polygonal_papules                                                                [0, 3, 2, 1]\n",
       "follicular_papules                                                               [0, 3, 1, 2]\n",
       "oral_mucosal_involvement                                                         [0, 3, 2, 1]\n",
       "knee_and_elbow_involvement                                                       [1, 0, 3, 2]\n",
       "scalp_involvement                                                                [0, 1, 2, 3]\n",
       "family_history                                                                         [0, 1]\n",
       "melanin_incontinence                                                             [0, 1, 2, 3]\n",
       "eosinophils_in_the_infiltrate                                                       [0, 2, 1]\n",
       "PNL_infiltrate                                                                   [0, 1, 3, 2]\n",
       "fibrosis_of_the_papillary_dermis                                                 [0, 3, 1, 2]\n",
       "exocytosis                                                                       [3, 1, 0, 2]\n",
       "acanthosis                                                                       [2, 3, 1, 0]\n",
       "hyperkeratosis                                                                   [0, 2, 1, 3]\n",
       "parakeratosis                                                                    [0, 2, 3, 1]\n",
       "clubbing_of_the_rete_ridges                                                      [0, 2, 1, 3]\n",
       "elongation_of_the_rete_ridges                                                    [0, 2, 3, 1]\n",
       "thinning_of_the_suprapapillary_epidermis                                         [0, 2, 3, 1]\n",
       "spongiform_pustule                                                               [0, 2, 1, 3]\n",
       "munro_microabcess                                                                [0, 1, 2, 3]\n",
       "focal_hypergranulosis                                                            [0, 2, 3, 1]\n",
       "disappearance_of_the_granular_layer                                              [0, 3, 2, 1]\n",
       "vacuolisation_and_damage_of_basal_layer                                          [0, 2, 3, 1]\n",
       "spongiosis                                                                       [3, 0, 2, 1]\n",
       "saw-tooth_appearance_of_retes                                                    [0, 2, 3, 1]\n",
       "follicular_horn_plug                                                             [0, 1, 2, 3]\n",
       "perifollicular_parakeratosis                                                     [0, 2, 1, 3]\n",
       "inflammatory_monoluclear_inflitrate                                              [1, 2, 3, 0]\n",
       "band-like_infiltrate                                                             [0, 3, 1, 2]\n",
       "Age                                         [55, 8, 26, 40, 45, 41, 18, 57, 22, 30, 20, 21...\n",
       "class                                                                      [2, 1, 3, 5, 4, 6]\n",
       "dtype: object"
      ]
     },
     "execution_count": 15,
     "metadata": {},
     "output_type": "execute_result"
    }
   ],
   "source": [
    "unique_values=df.apply(pd.Series.unique)\n",
    "unique_values"
   ]
  },
  {
   "cell_type": "markdown",
   "id": "38946c0e",
   "metadata": {},
   "source": [
    "### 6.4.3 Exploration of Numerical Columns: Unique Values and Value Counts"
   ]
  },
  {
   "cell_type": "code",
   "execution_count": 16,
   "id": "50930a63",
   "metadata": {},
   "outputs": [
    {
     "ename": "NameError",
     "evalue": "name 'data_col_int' is not defined",
     "output_type": "error",
     "traceback": [
      "\u001b[1;31m---------------------------------------------------------------------------\u001b[0m",
      "\u001b[1;31mNameError\u001b[0m                                 Traceback (most recent call last)",
      "\u001b[1;32m~\\AppData\\Local\\Temp/ipykernel_24824/247749230.py\u001b[0m in \u001b[0;36m<module>\u001b[1;34m\u001b[0m\n\u001b[0;32m      1\u001b[0m \u001b[1;31m# Iterate over each numerical column in 'num_col'.\u001b[0m\u001b[1;33m\u001b[0m\u001b[1;33m\u001b[0m\u001b[0m\n\u001b[1;32m----> 2\u001b[1;33m \u001b[1;32mfor\u001b[0m \u001b[0mi\u001b[0m \u001b[1;32min\u001b[0m \u001b[0mdata_col_int\u001b[0m \u001b[1;33m:\u001b[0m\u001b[1;33m\u001b[0m\u001b[1;33m\u001b[0m\u001b[0m\n\u001b[0m\u001b[0;32m      3\u001b[0m \u001b[1;33m\u001b[0m\u001b[0m\n\u001b[0;32m      4\u001b[0m     \u001b[1;31m# It will print unique values and column name\u001b[0m\u001b[1;33m\u001b[0m\u001b[1;33m\u001b[0m\u001b[0m\n\u001b[0;32m      5\u001b[0m     \u001b[0mprint\u001b[0m\u001b[1;33m(\u001b[0m\u001b[0mdf\u001b[0m\u001b[1;33m[\u001b[0m\u001b[0mi\u001b[0m\u001b[1;33m]\u001b[0m\u001b[1;33m.\u001b[0m\u001b[0munique\u001b[0m\u001b[1;33m(\u001b[0m\u001b[1;33m)\u001b[0m\u001b[1;33m,\u001b[0m \u001b[0mi\u001b[0m\u001b[1;33m)\u001b[0m\u001b[1;33m\u001b[0m\u001b[1;33m\u001b[0m\u001b[0m\n",
      "\u001b[1;31mNameError\u001b[0m: name 'data_col_int' is not defined"
     ]
    }
   ],
   "source": [
    "# Iterate over each numerical column in 'num_col'.\n",
    "for i in data_col_int :\n",
    "    \n",
    "    # It will print unique values and column name\n",
    "    print(df[i].unique(), i)\n",
    "    \n",
    "    # It will print value counts for each unique value in the column.\n",
    "    print(df[i].value_counts())\n",
    "    \n",
    "    # It will print a seperator for clarity.\n",
    "    print(\"**********************\")"
   ]
  },
  {
   "cell_type": "markdown",
   "id": "e1104a1f",
   "metadata": {},
   "source": [
    "## 6.5.1 Different age within the age columns"
   ]
  },
  {
   "cell_type": "code",
   "execution_count": null,
   "id": "deded18b",
   "metadata": {},
   "outputs": [],
   "source": [
    "# Iterate over each categorical column in 'cat_col'.\n",
    "for i in data_col_obj :\n",
    "    \n",
    "    # It will print unique values and column name.\n",
    "    print(df[i].unique(), i)\n",
    "    "
   ]
  },
  {
   "cell_type": "markdown",
   "id": "a200ce11",
   "metadata": {},
   "source": [
    "**Observations:**\n",
    ">- The presence of '?' in the 'Age' column suggests the existence of missing or unknown values.\n",
    "\n",
    ">- Some values appear to be represented as strings, and there's a mix of numerical and non-numerical data.\n",
    "\n",
    ">- The column may need cleaning and conversion to a numeric format for further analysis."
   ]
  },
  {
   "cell_type": "markdown",
   "id": "f08ce2ab",
   "metadata": {},
   "source": [
    "## 6.5.2 Total count of different age "
   ]
  },
  {
   "cell_type": "code",
   "execution_count": null,
   "id": "ad912351",
   "metadata": {},
   "outputs": [],
   "source": [
    "# Iterate over each categorical column in 'cat_col'.\n",
    "for i in data_col_obj :\n",
    "    \n",
    "    # It will print value counts for each unique value in the column.\n",
    "    print(df[i].value_counts())\n",
    "    \n",
    "    "
   ]
  },
  {
   "cell_type": "markdown",
   "id": "86a66fc0",
   "metadata": {},
   "source": [
    "## 6.5.3 Count of Different age group"
   ]
  },
  {
   "cell_type": "code",
   "execution_count": null,
   "id": "724ae46d",
   "metadata": {},
   "outputs": [],
   "source": [
    "\n",
    "plt.figure(figsize= (14,8))\n",
    "\n",
    "ax = sns.countplot(x='Age', data=df )\n",
    "ax.set_title(label='Count of Different age group', fontsize=20)\n",
    "\n",
    "ax.set_xlabel(xlabel='Age')\n",
    "ax.set_ylabel(ylabel='Count')\n",
    "\n",
    "plt.show()"
   ]
  },
  {
   "cell_type": "markdown",
   "id": "fcbc5c6f",
   "metadata": {},
   "source": [
    "### **Insights from Age column for missing values**:\n",
    "    \n",
    ">- 1. 0 As a age present in age columns which is not possible so we will treat it with forward fill or backward fill in \n",
    "       upcoming section\n",
    "    \n",
    ">- 2. special character \" ? \" present in column , we will replace it either one of them mean median mode ."
   ]
  },
  {
   "cell_type": "markdown",
   "id": "b0366d95",
   "metadata": {},
   "source": [
    "# 6.5.4.1 Identification of Missing Values in 'Age' Column:"
   ]
  },
  {
   "cell_type": "code",
   "execution_count": null,
   "id": "57472c68",
   "metadata": {},
   "outputs": [],
   "source": [
    "# It will filter rows in the 'data' DataFrame where the 'Age' column is equal to '?'.\n",
    "\n",
    "df.loc[df['Age']=='?']"
   ]
  },
  {
   "cell_type": "markdown",
   "id": "aaf92578",
   "metadata": {},
   "source": [
    "## 6.5.4.2 Handling Missing and Zero Values in 'Age' Column:"
   ]
  },
  {
   "cell_type": "code",
   "execution_count": null,
   "id": "40651014",
   "metadata": {},
   "outputs": [],
   "source": [
    "# Age doesn't follow normal distribution. \n",
    "# So, we will replace the missing value with median.\n",
    "\n",
    "# Here, It will replace the '?' values in the 'Age' column with NaN (Not a Number).\n",
    "df.loc[df['Age']=='?', 'Age'] = np.nan\n",
    "\n",
    "# Here, It will replace the '0' values in the 'Age' column with NaN (Not a Number).\n",
    "df.loc[df['Age']=='0', 'Age'] = np.nan"
   ]
  },
  {
   "cell_type": "markdown",
   "id": "5e5d3654",
   "metadata": {},
   "source": [
    "### **Analysis:**\n",
    "**Identification of Missing Values:**\n",
    "\n",
    ">- '?' values are replaced with NaN, which is a common practice to represent missing or undefined values in data.\n",
    "\n",
    "**Handling Zero Values:**\n",
    "\n",
    ">- Zero values in the 'Age' column are also replaced with NaN. This is a sensible approach as zero might not be a valid age."
   ]
  },
  {
   "cell_type": "markdown",
   "id": "dc880e00",
   "metadata": {},
   "source": [
    "## 6.5.4.3 Replacing NaN and Zero Age Values with Median:"
   ]
  },
  {
   "cell_type": "code",
   "execution_count": null,
   "id": "3e5409fe",
   "metadata": {},
   "outputs": [],
   "source": [
    "# Replacing NaN and 0(zero) age value using median.\n",
    "\n",
    "median = df['Age'].median()\n",
    "\n",
    "df['Age'].fillna(median, inplace = True)\n",
    "\n",
    "df['Age'] = df['Age'].replace(0, df['Age'].median())"
   ]
  },
  {
   "cell_type": "code",
   "execution_count": null,
   "id": "8e543431",
   "metadata": {},
   "outputs": [],
   "source": [
    "df['Age'].unique()"
   ]
  },
  {
   "cell_type": "markdown",
   "id": "709fe893",
   "metadata": {},
   "source": [
    "## 6.5.5 Converting Categrical data into numerical data."
   ]
  },
  {
   "cell_type": "code",
   "execution_count": null,
   "id": "1c49df8c",
   "metadata": {},
   "outputs": [],
   "source": [
    "# It will convert the 'Age' column to the 'int64' data type.\n",
    "\n",
    "df['Age'] = df['Age'].astype('int64')"
   ]
  },
  {
   "cell_type": "code",
   "execution_count": null,
   "id": "6f0a2347",
   "metadata": {},
   "outputs": [],
   "source": [
    "datatypes = df.dtypes['Age'] \n",
    "print(f'\\033[1;31m  \\033[1m datatype of Age column  {datatypes} ')"
   ]
  },
  {
   "cell_type": "markdown",
   "id": "0629ebbd",
   "metadata": {},
   "source": [
    "## 6.5.6 Oldest patient"
   ]
  },
  {
   "cell_type": "code",
   "execution_count": null,
   "id": "f5454692",
   "metadata": {},
   "outputs": [],
   "source": [
    "print(\"Oldest Patient: \")\n",
    "df.loc[df['Age'] == df['Age'].max()]"
   ]
  },
  {
   "cell_type": "markdown",
   "id": "4e34bc65",
   "metadata": {},
   "source": [
    "## 6.5.7 Youngest Patient"
   ]
  },
  {
   "cell_type": "code",
   "execution_count": null,
   "id": "42ecf7a0",
   "metadata": {},
   "outputs": [],
   "source": [
    "print(\"Oldest Patient: \")\n",
    "df.loc[df['Age'] == df['Age'].min()]"
   ]
  },
  {
   "cell_type": "markdown",
   "id": "f489413c",
   "metadata": {},
   "source": [
    "# 7. EDA (Exploratory Data Analysis)"
   ]
  },
  {
   "cell_type": "markdown",
   "id": "7dc14b51",
   "metadata": {},
   "source": [
    ">- We will try to understand our data by plotting different visuals(Graphs).\n",
    "\n",
    ">- To know which particular field is good in order to invest, We do the Exploratory Data Analysis(EDA)"
   ]
  },
  {
   "cell_type": "markdown",
   "id": "f63a974c",
   "metadata": {},
   "source": [
    "## 7.1 Creating a deep copy of dataset for exploratory data analysis"
   ]
  },
  {
   "cell_type": "code",
   "execution_count": null,
   "id": "f3724b3c",
   "metadata": {},
   "outputs": [],
   "source": [
    "df_copy=df.copy(deep=True)"
   ]
  },
  {
   "cell_type": "code",
   "execution_count": null,
   "id": "a2d4e2f0",
   "metadata": {},
   "outputs": [],
   "source": [
    "df_copy['class'].replace([1,2,3,4,5,6], ['Psoriasis', 'Seboreic_Dermatitis', 'Lichen_Planus', 'Pityriasis_Rosea','Cronic_Dermatitis','Pityriasis_rubra_pilaris'], inplace = True)"
   ]
  },
  {
   "cell_type": "code",
   "execution_count": null,
   "id": "0baeb3f0",
   "metadata": {},
   "outputs": [],
   "source": [
    "df_copy.head()"
   ]
  },
  {
   "cell_type": "markdown",
   "id": "9ada7e26",
   "metadata": {},
   "source": [
    "## 7.2 Univariate Analysis"
   ]
  },
  {
   "cell_type": "markdown",
   "id": "2fe2aa0b",
   "metadata": {},
   "source": [
    ">- Analysing single variable/column/feature.\n",
    "\n",
    ">- In Univariate Analysis, we check the distribution of each column."
   ]
  },
  {
   "cell_type": "markdown",
   "id": "ea89aa07",
   "metadata": {},
   "source": [
    "### Histplot"
   ]
  },
  {
   "cell_type": "markdown",
   "id": "ed409829",
   "metadata": {},
   "source": [
    ">- A 'histplot' is a graphical representation of a histogram.\n",
    "\n",
    ">- It's a way to see the overall pattern or shape of our data and understand how values are distributed across different ranges."
   ]
  },
  {
   "cell_type": "markdown",
   "id": "3b95e30e",
   "metadata": {},
   "source": [
    "## 7.2.1 Count and Distribution of clinical_features using Histplot :"
   ]
  },
  {
   "cell_type": "code",
   "execution_count": null,
   "id": "7b0e442a",
   "metadata": {},
   "outputs": [],
   "source": [
    "# List of clinical features related to a medical condition.\n",
    "\n",
    "clinical_features = [\n",
    "    'erythema',          \n",
    "    'scaling',            \n",
    "    'definite_borders', \n",
    "    'itching',\n",
    "    'koebner_phenomenon',\n",
    "    'polygonal_papules', \n",
    "    'follicular_papules',\n",
    "    'oral_mucosal_involvement', \n",
    "    'knee_and_elbow_involvement',\n",
    "    'scalp_involvement', \n",
    "    'family_history'\n",
    "]"
   ]
  },
  {
   "cell_type": "code",
   "execution_count": null,
   "id": "336ab93e",
   "metadata": {},
   "outputs": [],
   "source": [
    "# It will create a new figure with a fixed size and background color.\n",
    "plt.figure(figsize = (23,30), facecolor = 'white')\n",
    "\n",
    "# Initializing a counter for subplot placement.\n",
    "plotnumber = 1\n",
    "\n",
    "# Looping through each clinical features in the data.\n",
    "for clinical_features in df_copy :\n",
    "\n",
    "    # Limiting the number of subplots to 11.\n",
    "    if plotnumber <= 11:\n",
    "        \n",
    "        # Create a subplot in a 4*3 grid\n",
    "        ax = plt.subplot(4, 3, plotnumber)\n",
    "        \n",
    "        # Plotting a histogram with kernel density function.\n",
    "        sns.histplot(x = df_copy[clinical_features], kde = True)\n",
    "        \n",
    "        # We have set the x-axis label to the clinical features.\n",
    "        plt.xlabel(clinical_features, fontsize = 15)\n",
    "        plt.ylabel(\"count\", fontsize = 15)\n",
    "    \n",
    "    # Incrementing the plot number for the next iteration.\n",
    "    plotnumber = plotnumber + 1\n",
    "\n",
    "# Adjusting the layout of the subplots for better spacing.\n",
    "plt.tight_layout()\n",
    "\n",
    "# It will display the plot.\n",
    "plt.show()"
   ]
  },
  {
   "cell_type": "markdown",
   "id": "d064a871",
   "metadata": {},
   "source": [
    "**Insights from clinical features**\n",
    ">- In this each attribute contains 0-3 values except family history.\n",
    "\n",
    ">- family history contains only 0 & 1.\n",
    "\n",
    ">- family history feature has the value 1 if any of these diseases has been observed in the family, and 0 otherwise.\n",
    "\n",
    ">- By using each attribute to find which class of disease distributed in the range of 0 to 3.\n",
    "\n",
    ">- 0 means no disease content.\n",
    "\n",
    ">- 3 means high amount of disease content is there.\n",
    "\n",
    ">- 1 & 2 intermediate amount of disease content is there.\n"
   ]
  },
  {
   "cell_type": "markdown",
   "id": "4c791f37",
   "metadata": {},
   "source": [
    "## 7.2.2 Count and Distribution of Histopathological Features using Histplot."
   ]
  },
  {
   "cell_type": "code",
   "execution_count": null,
   "id": "1d64a12f",
   "metadata": {},
   "outputs": [],
   "source": [
    "# List of histopathological features related to a medical condition.\n",
    "\n",
    "Histopath_Features = [\n",
    "    'melanin_incontinence',\n",
    "    'eosinophils_in_the_infiltrate', \n",
    "    'PNL_infiltrate',\n",
    "    'fibrosis_of_the_papillary_dermis', \n",
    "    'exocytosis', 'acanthosis',\n",
    "    'hyperkeratosis', \n",
    "    'parakeratosis', \n",
    "    'clubbing_of_the_rete_ridges',\n",
    "    'elongation_of_the_rete_ridges',\n",
    "    'thinning_of_the_suprapapillary_epidermis', \n",
    "    'spongiform_pustule',\n",
    "    'munro_microabcess', \n",
    "    'focal_hypergranulosis',\n",
    "    'disappearance_of_the_granular_layer',\n",
    "    'vacuolisation_and_damage_of_basal_layer', \n",
    "    'spongiosis',\n",
    "    'saw-tooth_appearance_of_retes', \n",
    "    'follicular_horn_plug',\n",
    "    'perifollicular_parakeratosis', \n",
    "    'inflammatory_monoluclear_inflitrate',\n",
    "    'band-like_infiltrate'\n",
    "]"
   ]
  },
  {
   "cell_type": "code",
   "execution_count": null,
   "id": "4c3376dc",
   "metadata": {},
   "outputs": [],
   "source": [
    "# It will create a new figure with a fixed size and background color.\n",
    "plt.figure(figsize=(12,28), facecolor = 'white')\n",
    "\n",
    "# Initializing a counter for subplot placement.\n",
    "plotnumber = 1\n",
    "\n",
    "# Looping through each histopathological features in the data.\n",
    "for Histopath_Features in df_copy :\n",
    "    \n",
    "    # Limiting the number of subplots to 22.\n",
    "    if plotnumber <= 22 :\n",
    "        \n",
    "        # creating a subplot in an 8*3 grid.\n",
    "        ax = plt.subplot(8,3,plotnumber)\n",
    "        \n",
    "        # Plotting a histogram with KDE for the current histopathological feature. \n",
    "        sns.histplot(x = df_copy[Histopath_Features], kde = True)\n",
    "        \n",
    "        # Setting labels for the x and y axes.\n",
    "        plt.xlabel(Histopath_Features, fontsize = 15)\n",
    "        plt.ylabel('count', fontsize = 15)\n",
    "    \n",
    "    # Incrementing the plot number for the next iteration or \n",
    "    # Move to the next subplot.\n",
    "    plotnumber = plotnumber + 1\n",
    "\n",
    "# Adjust the layout for better spacing.\n",
    "plt.tight_layout()\n",
    "\n",
    "# It will display the plot.\n",
    "plt.show()"
   ]
  },
  {
   "cell_type": "markdown",
   "id": "58d3e5c5",
   "metadata": {},
   "source": [
    "**Insights from histplot of Histopath features**\n",
    ">- Attributes have values from 0 to 3, except for the class attribute and eosinophils_in_the_infiltrate.\n",
    "\n",
    ">- eosinophils_in_the_infiltrate has values 0, 1, and 2.\n",
    "\n",
    ">- People with a value of 0 (feature not present) are most likely to belong to all classes.\n",
    "\n",
    ">- Class 1 tends to have the highest values across most attributes (0, 1, 2, 3).\n",
    "\n",
    ">- Hyperkeratosis and parakeratosis show the highest probability of belonging to multiple classes.\n",
    "\n",
    ">- Thinning_of_the_suprapapillary_epidermis and spongiform_pustule have a value of 3 only for class 1.\n",
    "\n",
    ">- Follicular_horn_plug and perifollicular_parakeratosis shows similar patterns.\n",
    "\n",
    ">- The class attribute includes Psoriasis, Lichen_Planus, Seboreic_Dermatitis, Cronic_Dermatitis, Pityriasis_Rosea, and Pityriasis_rubra_pilaris.\n",
    "\n",
    ">- Based on a count plot, Psoriasis is the most common disease, while Pityriasis_rubra_pilaris is the least common."
   ]
  },
  {
   "cell_type": "markdown",
   "id": "0302d881",
   "metadata": {},
   "source": [
    "## 7.3 distplot for Age of the patient"
   ]
  },
  {
   "cell_type": "code",
   "execution_count": null,
   "id": "cdf80903",
   "metadata": {},
   "outputs": [],
   "source": [
    "plt.figure(figsize=(14,5))\n",
    "plt.title('Age of the patient')\n",
    "sns.distplot(a=df_copy['Age'], kde=True, bins=20)\n",
    "plt.axvline(x=np.mean(df_copy['Age']),c='orange',label='Mean Age of the patient')\n",
    "plt.legend()"
   ]
  },
  {
   "cell_type": "markdown",
   "id": "9c8f0bbf",
   "metadata": {},
   "source": [
    "#### Insights from Distplot of Age"
   ]
  },
  {
   "cell_type": "markdown",
   "id": "8c8ed28d",
   "metadata": {},
   "source": [
    ">- A distogram is like a chart that helps us see how ages are distributed in our data. It shows how many times each age appears and what range of ages we have.\n",
    "\n",
    ">- This can help us notice if most ages are similar, spread out evenly, or if there's anything unusaul in age pattern."
   ]
  },
  {
   "cell_type": "markdown",
   "id": "d2347f65",
   "metadata": {},
   "source": [
    "### 7.3.1 Skewness"
   ]
  },
  {
   "cell_type": "code",
   "execution_count": null,
   "id": "88ff04ba",
   "metadata": {},
   "outputs": [],
   "source": [
    "df['Age'].skew()"
   ]
  },
  {
   "cell_type": "markdown",
   "id": "f29a8560",
   "metadata": {},
   "source": [
    "**analysis :-**\n",
    "\n",
    ">- A skewness value of 0.10114792694386719 is close to zero, means a slight rightward skewness in the data, but it is generally considered very close to symmetrical. "
   ]
  },
  {
   "cell_type": "markdown",
   "id": "1cdbc950",
   "metadata": {},
   "source": [
    "### 7.3.2 kurtosis"
   ]
  },
  {
   "cell_type": "code",
   "execution_count": null,
   "id": "039055d7",
   "metadata": {},
   "outputs": [],
   "source": [
    "df['Age'].kurtosis()"
   ]
  },
  {
   "cell_type": "markdown",
   "id": "64555fa0",
   "metadata": {},
   "source": [
    "**analysis :-**\n",
    "    \n",
    ">- A kurtosis value of -0.6773471369712993 means that the distribution has lighter tails than a normal distribution. It is mildly platykurtic. This means that the distribution has fewer extreme values in the tails compared to a normal distribution."
   ]
  },
  {
   "cell_type": "markdown",
   "id": "69718227",
   "metadata": {},
   "source": [
    "## 7.4 Count and Distribution of Classes of Skin Disorders"
   ]
  },
  {
   "cell_type": "code",
   "execution_count": null,
   "id": "0d414b21",
   "metadata": {},
   "outputs": [],
   "source": [
    "# It will set the figure size.\n",
    "plt.figure(figsize=(12,6))\n",
    "\n",
    "# Creating a countplot for the 'class' column in the data.\n",
    "ax = sns.countplot(x = df_copy['class'])\n",
    "\n",
    "# Adding labels to the bars in the countplot.\n",
    "for label in ax.containers :\n",
    "    ax.bar_label(label)\n",
    "\n",
    "# Adjusting the layout for better spacing.\n",
    "plt.tight_layout()\n",
    "\n",
    "# It will display the plot.\n",
    "plt.show()"
   ]
  },
  {
   "cell_type": "code",
   "execution_count": null,
   "id": "2cc23b7f",
   "metadata": {},
   "outputs": [],
   "source": [
    "plt.figure(figsize=(14, 7))\n",
    "sns.countplot(x=df_copy['class'], data=df_copy, palette='bright', order=df_copy['class'].value_counts().index)"
   ]
  },
  {
   "cell_type": "code",
   "execution_count": null,
   "id": "f86c24ec",
   "metadata": {},
   "outputs": [],
   "source": [
    "df_copy['class'].value_counts().plot(kind = 'pie', autopct = '%1.1f%%')"
   ]
  },
  {
   "cell_type": "markdown",
   "id": "b008406d",
   "metadata": {},
   "source": [
    "**analysis :-**\n",
    "    \n",
    ">- Among all the diseases the highest pecentage is of psoriasis and the lowest is of pityriasis_rubra_pilaris."
   ]
  },
  {
   "cell_type": "markdown",
   "id": "31c70e87",
   "metadata": {},
   "source": [
    "# 8. Bivariate Analysis"
   ]
  },
  {
   "cell_type": "code",
   "execution_count": null,
   "id": "867e470d",
   "metadata": {},
   "outputs": [],
   "source": [
    "# It will set the figure size.\n",
    "plt.figure(figsize = (25,35))\n",
    "\n",
    "# Initializing a counter for subplot placement.\n",
    "plotnumber = 1\n",
    "\n",
    "# Looping through each column in the data.\n",
    "for column in df_copy:\n",
    "    \n",
    "    # Limiting the number of subplots to 36.\n",
    "    if plotnumber <= 36:\n",
    "        \n",
    "        # It will create a subplot in 9*4 grid.\n",
    "        ax=plt.subplot(9,4,plotnumber)\n",
    "        \n",
    "        # It will create a countplot for the current column, with colors based on the 'class'.\n",
    "        sns.countplot(x = df_copy[column], data = df_copy, hue = 'class')\n",
    "        \n",
    "        # It will set labels for the x and y axes.\n",
    "        plt.xlabel(column,fontsize = 15)\n",
    "        plt.ylabel('Count',fontsize = 15)\n",
    "        \n",
    "    # Incrementing the plot number for the next iteration or \n",
    "    # Move to the next subplot.\n",
    "    plotnumber = plotnumber + 1\n",
    "\n",
    "# It will display the plot.    \n",
    "plt.tight_layout()"
   ]
  },
  {
   "cell_type": "markdown",
   "id": "7a0c2256",
   "metadata": {},
   "source": [
    "#### Insights from Bivariate Analysis"
   ]
  },
  {
   "cell_type": "markdown",
   "id": "3d58c031",
   "metadata": {},
   "source": [
    ">- Skin diseases can occur even if there is no family history.\n",
    "\n",
    ">- One type of skin problem shows signs like strange bumps, mouth involvement, pigment changes, and harm to a specific layer.\n",
    "\n",
    ">- Another type, class 1 disease, affects the scalp, causing changes like ridge clubbing, tiny abscesses, skin thining, and pimplr-like blisters.\n",
    "\n",
    ">- Good skin health is indicated by the absence of redness, scaling, thickness of the skin, and inflammation."
   ]
  },
  {
   "cell_type": "markdown",
   "id": "d8c6cc01",
   "metadata": {},
   "source": [
    "## 9. Age vs class"
   ]
  },
  {
   "cell_type": "code",
   "execution_count": null,
   "id": "01a609f3",
   "metadata": {},
   "outputs": [],
   "source": [
    "\n",
    "plt.figure()\n",
    "plt.figure(figsize=(10,5))\n",
    "x=df.head(20)['Age']\n",
    "y=df.head(20)['class']\n",
    "\n",
    "#Scatter Plot with Regression Line\n",
    "sns.regplot(x=x,y=y)\n",
    "plt.title('Age vs class')\n",
    "plt.xlabel('Age')\n",
    "plt.ylabel('class')\n",
    "\n",
    "plt.show()"
   ]
  },
  {
   "cell_type": "markdown",
   "id": "1a3bf575",
   "metadata": {},
   "source": [
    "**Insights from Age vs class**\n",
    "\n",
    ">- Age between 20 to 45 are more prone to skin diseases."
   ]
  },
  {
   "cell_type": "markdown",
   "id": "116b1021",
   "metadata": {},
   "source": [
    "## 10. Age for each class based on family history"
   ]
  },
  {
   "cell_type": "markdown",
   "id": "3d35f852",
   "metadata": {},
   "source": [
    "We are going to create swarm plot to visualize the distribution of ages ('Age') for each 'class' in a dataset. Additionally, the points are colored based on the presence or absence of family history ('family_history')."
   ]
  },
  {
   "cell_type": "code",
   "execution_count": null,
   "id": "8e548eab",
   "metadata": {},
   "outputs": [],
   "source": [
    "# It will set the figure size.\n",
    "plt.figure(figsize=(15,8))\n",
    "\n",
    "# It will create a swarm plot to show the distribution of ages('Age') for each 'class', with pounts colored by 'family_history'. \n",
    "# \"x = 'class' \" : The x-axis represents different categories based on the 'class' column.\n",
    "# \"y = 'Age' \" : The y-axis shows the distribution of ages from the 'Age' column.\n",
    "# \"hue = 'family_history' \" : The points are colored based on whether there is a family history or not, adding extra information.\n",
    "\n",
    "sns.swarmplot (x = 'class', \n",
    "               y = 'Age', \n",
    "               data = df_copy,\n",
    "               hue = 'family_history'\n",
    "              )\n",
    "\n",
    "# It will display the plot.\n",
    "plt.show()"
   ]
  },
  {
   "cell_type": "markdown",
   "id": "7982c878",
   "metadata": {},
   "source": [
    "#### Insights from swarmplot"
   ]
  },
  {
   "cell_type": "markdown",
   "id": "8e8d4df2",
   "metadata": {},
   "source": [
    ">- Pityriasis_Rubra_Pilaris is only found ages below 20. This disease show high relation with family_history. It was observed in family_history of almost half of the patients.\n",
    "\n",
    ">- Except Pityriasis_Rubra_Pilaris, remaining class of diseases are found in almost all the ages.\n",
    "\n",
    ">- Psoriasis is also significantly related to the family history"
   ]
  },
  {
   "cell_type": "markdown",
   "id": "ee51108b",
   "metadata": {},
   "source": [
    "# 11. Visualizing Class Correlations"
   ]
  },
  {
   "cell_type": "markdown",
   "id": "be092dcf",
   "metadata": {},
   "source": [
    "**We are going to plot bivariate analysis between every single syndrome (clinical features and histopathological features) with different class of diseases . It help us to find how every syndrome effect the different class of diseases .** "
   ]
  },
  {
   "cell_type": "markdown",
   "id": "8308012a",
   "metadata": {},
   "source": [
    "**Every class has 4 different degree.**\n",
    " >- degree 0 - 0 indicates that the feature was not present\n",
    " >- degree 1 - 1 indicates that the feature was intermediately present\n",
    " >- degree 2 - 2 indicates that the feature was intermediately present(higher then degree 1)\n",
    " >- degree 3 - 3 indicates that the feature was highly responsible for the diseases"
   ]
  },
  {
   "cell_type": "code",
   "execution_count": null,
   "id": "57e721ca",
   "metadata": {
    "scrolled": true
   },
   "outputs": [],
   "source": [
    "import seaborn as sns\n",
    "columns = list(df_copy.columns)\n",
    "plt.figure(figsize = (10,5))\n",
    "sns.kdeplot(data=df_copy, x=columns.pop(0), hue=\"class\", multiple=\"stack\")"
   ]
  },
  {
   "cell_type": "markdown",
   "id": "fdcf4746",
   "metadata": {},
   "source": [
    "**analysis:-**\n",
    "\n",
    ">- erythema is intermediately responsible for all diseases. But in some cases it highly responsible for seboreic_dermatitis and psoriasis.    "
   ]
  },
  {
   "cell_type": "code",
   "execution_count": null,
   "id": "04c8c647",
   "metadata": {},
   "outputs": [],
   "source": [
    "plt.figure(figsize = (10,5))\n",
    "sns.kdeplot(data=df_copy, x=columns.pop(0), hue=\"class\", multiple=\"stack\")"
   ]
  },
  {
   "cell_type": "markdown",
   "id": "1514301d",
   "metadata": {},
   "source": [
    "**analysis:-**\n",
    "\n",
    ">- scaling is intermediately responsible for all diseases. "
   ]
  },
  {
   "cell_type": "code",
   "execution_count": null,
   "id": "0bbc2352",
   "metadata": {},
   "outputs": [],
   "source": [
    "plt.figure(figsize = (10,5))\n",
    "sns.kdeplot(data=df_copy, x=columns.pop(0), hue=\"class\", multiple=\"stack\")"
   ]
  },
  {
   "cell_type": "markdown",
   "id": "eb7d0844",
   "metadata": {},
   "source": [
    "**analysis:-**\n",
    "\n",
    ">- definite_borders (skin lesion) is intermediately responsible for seboreic_dermatitis , psoriasis diseases. "
   ]
  },
  {
   "cell_type": "code",
   "execution_count": null,
   "id": "58cda6f9",
   "metadata": {},
   "outputs": [],
   "source": [
    "plt.figure(figsize = (10,5))\n",
    "sns.kdeplot(data=df_copy, x=columns.pop(0), hue=\"class\", multiple=\"stack\")"
   ]
  },
  {
   "cell_type": "markdown",
   "id": "ec424753",
   "metadata": {},
   "source": [
    "**analysis:-**\n",
    "\n",
    ">- itching is responsible for  psoriasis , seboreic_dermatitis , lichen_planus , cronic_dermatitis but is not responsible forpityriasis_rosea and pityriasis_rubra_pilaris "
   ]
  },
  {
   "cell_type": "code",
   "execution_count": null,
   "id": "f6d05a5f",
   "metadata": {},
   "outputs": [],
   "source": [
    "plt.figure(figsize = (10,5))\n",
    "sns.kdeplot(data=df_copy, x=columns.pop(0), hue=\"class\", multiple=\"stack\")"
   ]
  },
  {
   "cell_type": "markdown",
   "id": "6c586514",
   "metadata": {},
   "source": [
    "**analysis:-**\n",
    "\n",
    ">- koebner_phenomenon is not responsible for any severe skin disorder."
   ]
  },
  {
   "cell_type": "code",
   "execution_count": null,
   "id": "773abc28",
   "metadata": {},
   "outputs": [],
   "source": [
    "plt.figure(figsize = (10,5))\n",
    "sns.kdeplot(data=df_copy, x=columns.pop(0), hue=\"class\", multiple=\"stack\")"
   ]
  },
  {
   "cell_type": "markdown",
   "id": "07b468a2",
   "metadata": {},
   "source": [
    "**analysis:-**\n",
    "    \n",
    ">- polygonal_papules is only responsible for lichen_planus skin disorder."
   ]
  },
  {
   "cell_type": "code",
   "execution_count": null,
   "id": "0722e85e",
   "metadata": {},
   "outputs": [],
   "source": [
    "plt.figure(figsize = (10,5))\n",
    "sns.kdeplot(data=df_copy, x=columns.pop(0), hue=\"class\", multiple=\"stack\")\n"
   ]
  },
  {
   "cell_type": "markdown",
   "id": "74b9b257",
   "metadata": {},
   "source": [
    "**analysis:-**\n",
    "    \n",
    ">- follicular_papules is not responsible for any skin disorder."
   ]
  },
  {
   "cell_type": "code",
   "execution_count": null,
   "id": "88c99eb3",
   "metadata": {},
   "outputs": [],
   "source": [
    "plt.figure(figsize = (10,5))\n",
    "sns.kdeplot(data=df_copy, x=columns.pop(0), hue=\"class\", multiple=\"stack\")"
   ]
  },
  {
   "cell_type": "markdown",
   "id": "c7b1adea",
   "metadata": {},
   "source": [
    "**analysis:-**\n",
    "    \n",
    ">- oral_mucosal_involvement is only responsible for lichen_planus  skin disorder."
   ]
  },
  {
   "cell_type": "code",
   "execution_count": null,
   "id": "d372d77c",
   "metadata": {},
   "outputs": [],
   "source": [
    "plt.figure(figsize = (10,5))\n",
    "sns.kdeplot(data=df_copy, x=columns.pop(0), hue=\"class\", multiple=\"stack\")"
   ]
  },
  {
   "cell_type": "markdown",
   "id": "28bbe48f",
   "metadata": {},
   "source": [
    "**analysis:-**\n",
    "    \n",
    ">- knee_and_elbow_involvement is not responsible for any skin disorder."
   ]
  },
  {
   "cell_type": "code",
   "execution_count": null,
   "id": "07462cda",
   "metadata": {},
   "outputs": [],
   "source": [
    "plt.figure(figsize = (10,5))\n",
    "sns.kdeplot(data=df_copy, x=columns.pop(0), hue=\"class\", multiple=\"stack\")"
   ]
  },
  {
   "cell_type": "markdown",
   "id": "23f3cf14",
   "metadata": {},
   "source": [
    "**analysis:-**\n",
    "    \n",
    ">- scalp_involvement is not responsible for any skin disorder."
   ]
  },
  {
   "cell_type": "code",
   "execution_count": null,
   "id": "1ab7c8f6",
   "metadata": {},
   "outputs": [],
   "source": [
    "plt.figure(figsize = (10,5))\n",
    "sns.kdeplot(data=df_copy, x=columns.pop(0), hue=\"class\", multiple=\"stack\")"
   ]
  },
  {
   "cell_type": "markdown",
   "id": "4d1b0af6",
   "metadata": {},
   "source": [
    "**analysis:-**\n",
    "    \n",
    ">- family_history is miner responsible for  skin disorder."
   ]
  },
  {
   "cell_type": "code",
   "execution_count": null,
   "id": "3edd7923",
   "metadata": {},
   "outputs": [],
   "source": [
    "plt.figure(figsize = (10,5))\n",
    "sns.kdeplot(data=df_copy, x=columns.pop(0), hue=\"class\", multiple=\"stack\")"
   ]
  },
  {
   "cell_type": "markdown",
   "id": "8b3ca585",
   "metadata": {},
   "source": [
    "**analysis:-**\n",
    "    \n",
    ">- melanin_incontinence is only responsible for lichen_planus skin disorder."
   ]
  },
  {
   "cell_type": "code",
   "execution_count": null,
   "id": "16cd9b86",
   "metadata": {},
   "outputs": [],
   "source": [
    "plt.figure(figsize = (10,5))\n",
    "sns.kdeplot(data=df_copy, x=columns.pop(0), hue=\"class\", multiple=\"stack\")"
   ]
  },
  {
   "cell_type": "markdown",
   "id": "4243189e",
   "metadata": {},
   "source": [
    "**analysis:-**\n",
    "    \n",
    ">- eosinophils_in_the_infiltrate is not responsible for any skin disorder."
   ]
  },
  {
   "cell_type": "code",
   "execution_count": null,
   "id": "c17fe433",
   "metadata": {},
   "outputs": [],
   "source": [
    "plt.figure(figsize = (10,5))\n",
    "sns.kdeplot(data=df_copy, x=columns.pop(0), hue=\"class\", multiple=\"stack\")"
   ]
  },
  {
   "cell_type": "markdown",
   "id": "0c6f2a15",
   "metadata": {},
   "source": [
    "**analysis:-**\n",
    "    \n",
    ">- PNL_infiltrate is intermediately responsible for seboreic_dermatitis and psoriasis skin disorder."
   ]
  },
  {
   "cell_type": "code",
   "execution_count": null,
   "id": "78d250ba",
   "metadata": {},
   "outputs": [],
   "source": [
    "plt.figure(figsize = (10,5))\n",
    "sns.kdeplot(data=df_copy, x=columns.pop(0), hue=\"class\", multiple=\"stack\")"
   ]
  },
  {
   "cell_type": "markdown",
   "id": "83b88782",
   "metadata": {},
   "source": [
    "**analysis:-**\n",
    "    \n",
    ">- fibrosis_of_the_papillary_dermis is syndrome of cronic_dermatitis skin disorder."
   ]
  },
  {
   "cell_type": "code",
   "execution_count": null,
   "id": "35471d5e",
   "metadata": {},
   "outputs": [],
   "source": [
    "plt.figure(figsize = (10,5))\n",
    "sns.kdeplot(data=df_copy, x=columns.pop(0), hue=\"class\", multiple=\"stack\")"
   ]
  },
  {
   "cell_type": "markdown",
   "id": "00d0d8aa",
   "metadata": {},
   "source": [
    "**analysis:-**\n",
    "    \n",
    ">- exocytosis is responsible of all skin disorder."
   ]
  },
  {
   "cell_type": "code",
   "execution_count": null,
   "id": "eb106309",
   "metadata": {},
   "outputs": [],
   "source": [
    "plt.figure(figsize = (10,5))\n",
    "sns.kdeplot(data=df_copy, x=columns.pop(0), hue=\"class\", multiple=\"stack\")"
   ]
  },
  {
   "cell_type": "markdown",
   "id": "a1a1155c",
   "metadata": {},
   "source": [
    "**analysis:-**\n",
    "    \n",
    ">- acanthosis is intermediately responsible of all skin disorder."
   ]
  },
  {
   "cell_type": "code",
   "execution_count": null,
   "id": "86cb3338",
   "metadata": {},
   "outputs": [],
   "source": [
    "plt.figure(figsize = (10,5))\n",
    "sns.kdeplot(data=df_copy, x=columns.pop(0), hue=\"class\", multiple=\"stack\")"
   ]
  },
  {
   "cell_type": "markdown",
   "id": "130c6248",
   "metadata": {},
   "source": [
    "**analysis:-**\n",
    "    \n",
    ">- hyperkeratosis is miner responsible of all skin disorder."
   ]
  },
  {
   "cell_type": "code",
   "execution_count": null,
   "id": "ae62153e",
   "metadata": {},
   "outputs": [],
   "source": [
    "plt.figure(figsize = (10,5))\n",
    "sns.kdeplot(data=df_copy, x=columns.pop(0), hue=\"class\", multiple=\"stack\")"
   ]
  },
  {
   "cell_type": "markdown",
   "id": "7cda388a",
   "metadata": {},
   "source": [
    "**analysis:-**\n",
    "    \n",
    ">- parakeratosis is intermediately responsible of all skin disorder."
   ]
  },
  {
   "cell_type": "code",
   "execution_count": null,
   "id": "e02d05d8",
   "metadata": {},
   "outputs": [],
   "source": [
    "plt.figure(figsize = (10,5))\n",
    "sns.kdeplot(data=df_copy, x=columns.pop(0), hue=\"class\", multiple=\"stack\")"
   ]
  },
  {
   "cell_type": "markdown",
   "id": "296d490e",
   "metadata": {},
   "source": [
    "**analysis:-**\n",
    "    \n",
    ">- clubbing_of_the_rete_ridges is only responsible of psoriasis  skin disorder."
   ]
  },
  {
   "cell_type": "code",
   "execution_count": null,
   "id": "1eac13cf",
   "metadata": {},
   "outputs": [],
   "source": [
    "plt.figure(figsize = (10,5))\n",
    "sns.kdeplot(data=df_copy, x=columns.pop(0), hue=\"class\", multiple=\"stack\")"
   ]
  },
  {
   "cell_type": "markdown",
   "id": "52164663",
   "metadata": {},
   "source": [
    "**analysis:-**\n",
    "    \n",
    ">- elongation_of_the_rete_ridges is intermediately responsible of psoriasis , seboreic_dermatitis and cronic_dermatitis skin disorder."
   ]
  },
  {
   "cell_type": "code",
   "execution_count": null,
   "id": "22925f9f",
   "metadata": {},
   "outputs": [],
   "source": [
    "plt.figure(figsize = (10,5))\n",
    "sns.kdeplot(data=df_copy, x=columns.pop(0), hue=\"class\", multiple=\"stack\")"
   ]
  },
  {
   "cell_type": "markdown",
   "id": "02d4cb11",
   "metadata": {},
   "source": [
    "**analysis:-**\n",
    "    \n",
    ">- thinning_of_the_suprapapillary_epidermis is not responsible of any skin disorder."
   ]
  },
  {
   "cell_type": "code",
   "execution_count": null,
   "id": "305ee8c8",
   "metadata": {},
   "outputs": [],
   "source": [
    "plt.figure(figsize = (10,5))\n",
    "sns.kdeplot(data=df_copy, x=columns.pop(0), hue=\"class\", multiple=\"stack\")"
   ]
  },
  {
   "cell_type": "markdown",
   "id": "f1d55515",
   "metadata": {},
   "source": [
    "**analysis:-**\n",
    "    \n",
    ">- spongiform_pustule is not responsible of any skin disorder."
   ]
  },
  {
   "cell_type": "code",
   "execution_count": null,
   "id": "941d86a7",
   "metadata": {},
   "outputs": [],
   "source": [
    "plt.figure(figsize = (10,5))\n",
    "sns.kdeplot(data=df_copy, x=columns.pop(0), hue=\"class\", multiple=\"stack\")"
   ]
  },
  {
   "cell_type": "markdown",
   "id": "1a13c18d",
   "metadata": {},
   "source": [
    "**analysis:-**\n",
    "    \n",
    ">- munro_microabcess is not responsible of any skin disorder."
   ]
  },
  {
   "cell_type": "code",
   "execution_count": null,
   "id": "5515dd0b",
   "metadata": {},
   "outputs": [],
   "source": [
    "plt.figure(figsize = (10,5))\n",
    "sns.kdeplot(data=df_copy, x=columns.pop(0), hue=\"class\", multiple=\"stack\")"
   ]
  },
  {
   "cell_type": "markdown",
   "id": "25b3c401",
   "metadata": {},
   "source": [
    "**analysis:-**\n",
    "    \n",
    ">- focal_hypergranulosis is only responsible of lichen_planus skin disorder."
   ]
  },
  {
   "cell_type": "code",
   "execution_count": null,
   "id": "f9ef793f",
   "metadata": {},
   "outputs": [],
   "source": [
    "plt.figure(figsize = (10,5))\n",
    "sns.kdeplot(data=df_copy, x=columns.pop(0), hue=\"class\", multiple=\"stack\")"
   ]
  },
  {
   "cell_type": "markdown",
   "id": "c56c7e4e",
   "metadata": {},
   "source": [
    "**analysis:-**\n",
    "    \n",
    ">- disappearance_of_the_granular_layer is only responsible of psoriasis skin disorder."
   ]
  },
  {
   "cell_type": "code",
   "execution_count": null,
   "id": "0002519a",
   "metadata": {},
   "outputs": [],
   "source": [
    "plt.figure(figsize = (10,5))\n",
    "sns.kdeplot(data=df_copy, x=columns.pop(0), hue=\"class\", multiple=\"stack\")"
   ]
  },
  {
   "cell_type": "markdown",
   "id": "4f4de715",
   "metadata": {},
   "source": [
    "**analysis:-**\n",
    "    \n",
    ">- vacuolisation_and_damage_of_basal_layer is not responsible of any skin disorder."
   ]
  },
  {
   "cell_type": "code",
   "execution_count": null,
   "id": "70dfeccd",
   "metadata": {},
   "outputs": [],
   "source": [
    "plt.figure(figsize = (10,5))\n",
    "sns.kdeplot(data=df_copy, x=columns.pop(0), hue=\"class\", multiple=\"stack\")"
   ]
  },
  {
   "cell_type": "markdown",
   "id": "e8c98edf",
   "metadata": {},
   "source": [
    "**analysis:-**\n",
    "    \n",
    ">- spongiosis is responsible of all skin disorder."
   ]
  },
  {
   "cell_type": "code",
   "execution_count": null,
   "id": "3103ec4e",
   "metadata": {},
   "outputs": [],
   "source": [
    "plt.figure(figsize = (10,5))\n",
    "sns.kdeplot(data=df_copy, x=columns.pop(0), hue=\"class\", multiple=\"stack\")"
   ]
  },
  {
   "cell_type": "markdown",
   "id": "f66b84d4",
   "metadata": {},
   "source": [
    "**analysis:-**\n",
    "    \n",
    ">- saw-tooth_appearance_of_retes is miner responsible of lichen_planus skin disorder."
   ]
  },
  {
   "cell_type": "code",
   "execution_count": null,
   "id": "e735272d",
   "metadata": {},
   "outputs": [],
   "source": [
    "plt.figure(figsize = (10,5))\n",
    "sns.kdeplot(data=df_copy, x=columns.pop(0), hue=\"class\", multiple=\"stack\")"
   ]
  },
  {
   "cell_type": "markdown",
   "id": "ff310a9b",
   "metadata": {},
   "source": [
    "**analysis:-**\n",
    "    \n",
    ">- follicular_horn_plug is not responsible of any skin disorder."
   ]
  },
  {
   "cell_type": "code",
   "execution_count": null,
   "id": "a0617946",
   "metadata": {},
   "outputs": [],
   "source": [
    "plt.figure(figsize = (10,5))\n",
    "sns.kdeplot(data=df_copy, x=columns.pop(0), hue=\"class\", multiple=\"stack\")"
   ]
  },
  {
   "cell_type": "markdown",
   "id": "5e7c7149",
   "metadata": {},
   "source": [
    "**analysis:-**\n",
    "    \n",
    ">- perifollicular_parakeratosis is not responsible of any skin disorder."
   ]
  },
  {
   "cell_type": "code",
   "execution_count": null,
   "id": "1c6008d8",
   "metadata": {},
   "outputs": [],
   "source": [
    "plt.figure(figsize = (10,5))\n",
    "sns.kdeplot(data=df_copy, x=columns.pop(0), hue=\"class\", multiple=\"stack\")"
   ]
  },
  {
   "cell_type": "markdown",
   "id": "384bfeec",
   "metadata": {},
   "source": [
    "**analysis:-**\n",
    "    \n",
    ">- perifollicular_parakeratosis is intermediately responsible of all skin disorder."
   ]
  },
  {
   "cell_type": "code",
   "execution_count": null,
   "id": "89b48102",
   "metadata": {},
   "outputs": [],
   "source": []
  },
  {
   "cell_type": "markdown",
   "id": "23a32040",
   "metadata": {},
   "source": [
    "# 12. Feature Engineering\n"
   ]
  },
  {
   "cell_type": "markdown",
   "id": "664193d2",
   "metadata": {},
   "source": [
    "## Finding correlation among data"
   ]
  },
  {
   "cell_type": "markdown",
   "id": "02c64c17",
   "metadata": {},
   "source": [
    ">- If it's a Regression, We check correlation between input and output variables.\n",
    "\n",
    ">- If it's a Classification, We check correlation among the input variables.\n",
    "\n",
    ">- For adject correlation we are going to plot heatmap and find variance_inflation_factor and then after analyze both for correlation."
   ]
  },
  {
   "cell_type": "markdown",
   "id": "01f6172b",
   "metadata": {},
   "source": [
    "## 12.1 Creating a deep copy of dataset for exploratory data analysis"
   ]
  },
  {
   "cell_type": "markdown",
   "id": "2041aed3",
   "metadata": {},
   "source": [
    ">- we are here going to creat another copy of dataset for finding correlation."
   ]
  },
  {
   "cell_type": "code",
   "execution_count": null,
   "id": "c77cbce1",
   "metadata": {},
   "outputs": [],
   "source": [
    "df_copy_2=df.copy(deep=True)"
   ]
  },
  {
   "cell_type": "markdown",
   "id": "6589397d",
   "metadata": {},
   "source": [
    "## 12.2 Heatmap"
   ]
  },
  {
   "cell_type": "markdown",
   "id": "7dc90098",
   "metadata": {},
   "source": [
    ">- Using heatmap plots of all the features to obtain correlation of the Skin Disorder with other features"
   ]
  },
  {
   "cell_type": "markdown",
   "id": "a322a0b6",
   "metadata": {},
   "source": [
    "#### heatmap depicting intervariable dependency"
   ]
  },
  {
   "cell_type": "code",
   "execution_count": null,
   "id": "22dcedd5",
   "metadata": {},
   "outputs": [],
   "source": [
    "# Setting plot size\n",
    "plt.figure(figsize=(30,30))\n",
    "\n",
    "# Plotting Heatmap\n",
    "sns.heatmap(df_copy_2.corr(), annot= True, cmap= 'turbo')\n",
    "\n",
    "# Setting title\n",
    "plt.title('heatmap depicting intervariable dependency'.upper(), fontsize= 18, y= 1)\n",
    "\n",
    "plt.show()"
   ]
  },
  {
   "cell_type": "markdown",
   "id": "21146c40",
   "metadata": {},
   "source": [
    "#### Insights from Heatmap"
   ]
  },
  {
   "cell_type": "markdown",
   "id": "9e3e6598",
   "metadata": {},
   "source": [
    ">- follicular_papules , fibrosis_of_the_papillary_dermis , follicular_horn_plug , perifollicular_parakeratosis are most correlated with class(target variable)\n",
    "\n",
    ">- The Age attribute is more correlated with focal_hypergranulosis and least correlated with follicular_papules column.\n",
    "\n",
    ">- 20 columns are negetively correlated with target(class) column and 14 columns are positively correlated with target column.\n",
    "\n",
    ">- band-like_infiltrate , polygonal_papules , oral_mucosal_involvement , melanin_incontinence , focal_hypergranulosis , vacuolisation_and_damage_of_basal_layer , saw-tooth_appearance_of_retes are highly correlated with each other.\n"
   ]
  },
  {
   "cell_type": "markdown",
   "id": "50aedab5",
   "metadata": {},
   "source": [
    "## 12.3 variance_inflation_factor for Correlation"
   ]
  },
  {
   "cell_type": "markdown",
   "id": "7d70a36d",
   "metadata": {},
   "source": [
    ">- Variance Inflation Factors (VIFs) measure the correlation among independent variables in least squares regression models.Multicollinearity is correlation amongst the independent variables. Consequently, it seems logical to assess the pairwise correlation between all independent variables (IVs) in the model. "
   ]
  },
  {
   "cell_type": "code",
   "execution_count": null,
   "id": "84f20286",
   "metadata": {},
   "outputs": [],
   "source": [
    "from statsmodels.stats.outliers_influence import variance_inflation_factor"
   ]
  },
  {
   "cell_type": "code",
   "execution_count": null,
   "id": "0ab83643",
   "metadata": {},
   "outputs": [],
   "source": [
    "def get_vif(df_copy_2):\n",
    "    vif=pd.DataFrame()\n",
    "    vif['variables']=df_copy_2.columns\n",
    "    vif['VIF']=[variance_inflation_factor(df_copy_2.values,i) for i in range (df_copy_2.shape[1])]\n",
    "    \n",
    "    return vif\n"
   ]
  },
  {
   "cell_type": "code",
   "execution_count": null,
   "id": "e5de1f1d",
   "metadata": {},
   "outputs": [],
   "source": [
    "get_vif(df_copy_2[[i for i in df_copy_2.describe().columns]])"
   ]
  },
  {
   "cell_type": "markdown",
   "id": "f8512f29",
   "metadata": {},
   "source": [
    "### Multicollinearity Analysis Report"
   ]
  },
  {
   "cell_type": "markdown",
   "id": "1104bb16",
   "metadata": {},
   "source": [
    "**High VIF (Above 10):**\n",
    "\n",
    "- Erythema, Scaling, Polygonal Papules, Acanthosis, Clubbing of the Rete Ridges, Elongation of the Rete Ridges, Vacuolisation and Damage of Basal Layer, Saw-Tooth Appearance of Retes, Band-Like Infiltrate, Age, and Class exhibit high VIF, indicating strong correlation with other variables. This may affect the reliability of the regression model.\n",
    "\n",
    "**Moderate VIF (5 to 10):**\n",
    "\n",
    "- Definite Borders, Itching, Follicular Papules, Oral Mucosal Involvement, Knee and Elbow Involvement, Fibrosis of the Papillary Dermis, Exocytosis, Spongiform Pustule, Munro Microabcess, Focal Hypergranulosis, Thinning of the Suprapapillary Epidermis, Disappearance of the Granular Layer, Spongiosis, Follicular Horn Plug, Perifollicular Parakeratosis, Inflammatory Mononuclear Infiltrate, and Class have moderate VIF values, indicating moderate correlation.\n",
    "\n",
    "**Low VIF (Below 5):**\n",
    "\n",
    "- Koebner Phenomenon, Eosinophils in the Infiltrate, PNL Infiltrate, Hyperkeratosis, Parakeratosis, and Age have lower VIF values, indicating relatively lower correlation with other variables."
   ]
  },
  {
   "cell_type": "markdown",
   "id": "60a4c6cc",
   "metadata": {},
   "source": [
    "**After analyzing heatmap and variance_inflation_factor some of the columns are identical upto 90 % but in healthcare dataset every syndrome is important to find disease so we are not going to operate anything on columns like drop the columns etc. But we have to be very careful during model creation because it may create baising or overfitting.**"
   ]
  },
  {
   "cell_type": "code",
   "execution_count": null,
   "id": "f93eb531",
   "metadata": {},
   "outputs": [],
   "source": []
  },
  {
   "cell_type": "markdown",
   "id": "69494bd2",
   "metadata": {},
   "source": [
    "# 13. Model Creation"
   ]
  },
  {
   "cell_type": "markdown",
   "id": "2f7cc22b",
   "metadata": {},
   "source": [
    "### Split data into x and y\n"
   ]
  },
  {
   "cell_type": "code",
   "execution_count": null,
   "id": "4ad8ff6f",
   "metadata": {},
   "outputs": [],
   "source": [
    "# Here, 'x' is all the variables except target.\n",
    "# Extracting features (independent variables) by dropping the \"class\" column. \n",
    "\n",
    "x = df_copy_2.drop('class', axis=1)\n",
    "\n",
    "y = df_copy_2[['class']]"
   ]
  },
  {
   "cell_type": "markdown",
   "id": "779f2637",
   "metadata": {},
   "source": [
    "- 'x' represents the features (independent variables) of our dataset. excluding the \"class\" column.\n",
    "\n",
    "- 'y' represents the target variable (dependent variable) , which is the \"class\" column."
   ]
  },
  {
   "cell_type": "code",
   "execution_count": null,
   "id": "bd1c2ba3",
   "metadata": {},
   "outputs": [],
   "source": [
    "x.head()"
   ]
  },
  {
   "cell_type": "code",
   "execution_count": null,
   "id": "17e899ea",
   "metadata": {},
   "outputs": [],
   "source": [
    "y.head()"
   ]
  },
  {
   "cell_type": "markdown",
   "id": "20fcaab0",
   "metadata": {},
   "source": [
    "### Split Data for Training and Testing"
   ]
  },
  {
   "cell_type": "markdown",
   "id": "0219678b",
   "metadata": {},
   "source": [
    "- We will divide our data into training and testing.\n",
    "- It works on (70:30) or (80:20) rule. It means 70% of the data will be used for training and 30% data will be used for testing.\n",
    "- Whichever i.e, (70:30) or (80:20) will give best result. We will go with that result.\n",
    "- In order to test the model, We take a data which is not seen by Model."
   ]
  },
  {
   "cell_type": "code",
   "execution_count": null,
   "id": "bc94d277",
   "metadata": {},
   "outputs": [],
   "source": [
    "# Importing the necessary module for splitting the dataset.\n",
    "from sklearn.model_selection import train_test_split"
   ]
  },
  {
   "cell_type": "markdown",
   "id": "2ea5e20c",
   "metadata": {},
   "source": [
    "#### splitting the dataset into training and testing set."
   ]
  },
  {
   "cell_type": "markdown",
   "id": "6a5828c4",
   "metadata": {},
   "source": [
    "- x_train : Features for training.\n",
    "- x_test : Features for testing.\n",
    "- y_train : Traget variable for training.\n",
    "- y_test : Target variable for testing.\n",
    "- test_size : The \"test_size\" parameter is set to 25% that means 25% of the dataset will be used for testing,\n",
    "- While the remaining 75% data will be used for training.\n",
    "- random_state : random_state is set to 42 for reproducibility, \n",
    "- It means if we run the code with the same random state, we will get the same split each time.\n"
   ]
  },
  {
   "cell_type": "code",
   "execution_count": null,
   "id": "a86ccfae",
   "metadata": {},
   "outputs": [],
   "source": [
    "# splitting the dataset into training and testing set.\n",
    "x_train,x_test,y_train,y_test = train_test_split(x,y,test_size=0.25,random_state=42)"
   ]
  },
  {
   "cell_type": "code",
   "execution_count": null,
   "id": "646b0f90",
   "metadata": {},
   "outputs": [],
   "source": [
    "# shape of training and testing data.\n",
    "\n",
    "print(f'\\033[1;31m  \\033[1m The shape of x_train:',{x_train.shape})\n",
    "print(f'\\033[1;31m  \\033[1m The shape of x_test:', {x_test.shape})\n",
    "print(f'\\033[1;31m  \\033[1m The shape of y_train', y_train.shape)\n",
    "print(f'\\033[1;31m  \\033[1m The shape of y_test:', y_test.shape)"
   ]
  },
  {
   "cell_type": "code",
   "execution_count": null,
   "id": "2d7524ca",
   "metadata": {},
   "outputs": [],
   "source": [
    "# It will count the occurence of each unique value in the 'y_train' variable.\n",
    "\n",
    "y_train.value_counts()"
   ]
  },
  {
   "cell_type": "code",
   "execution_count": null,
   "id": "28f2ba8c",
   "metadata": {},
   "outputs": [],
   "source": []
  },
  {
   "cell_type": "markdown",
   "id": "d55b3ab3",
   "metadata": {},
   "source": [
    "# 14. Logistic Regression\n"
   ]
  },
  {
   "cell_type": "markdown",
   "id": "b87e449c",
   "metadata": {},
   "source": [
    "## Model Building"
   ]
  },
  {
   "cell_type": "code",
   "execution_count": null,
   "id": "7c55ae17",
   "metadata": {},
   "outputs": [],
   "source": [
    "from sklearn.preprocessing import StandardScaler\n",
    "from sklearn.linear_model import LogisticRegression\n",
    "from sklearn.pipeline import Pipeline\n",
    "from sklearn.model_selection import GridSearchCV\n",
    "from sklearn import metrics\n",
    "from sklearn.metrics import f1_score"
   ]
  },
  {
   "cell_type": "markdown",
   "id": "6de71921",
   "metadata": {},
   "source": [
    "## 14.1 Model creation "
   ]
  },
  {
   "cell_type": "markdown",
   "id": "52e0ecc8",
   "metadata": {},
   "source": [
    "**For creating a LogisticRegression model , we are going to implement a pipeline for logistic regression with feature scaling using StandardScaler and hyperparameter tuning using GridSearchCV.**"
   ]
  },
  {
   "cell_type": "markdown",
   "id": "7d67c85e",
   "metadata": {},
   "source": [
    "**1. Pipeline Creation:**\n",
    "\n",
    ">- A pipeline (pipe_LR) is created using Pipeline from scikit-learn.\n",
    ">- The pipeline consists of two steps:\n",
    "    - Step 1 ('scaler'): Standardizing the features using StandardScaler().\n",
    "    - Step 2 ('classifier'): Applying Logistic Regression using LogisticRegression().\n",
    "\n",
    "**2. Hyperparameter Grid:**\n",
    "\n",
    ">- We define a hyperparameter grid (param_grid_LR) for Logistic Regression.\n",
    ">- The grid includes parameters such as regularization strength (C), regularization type (penalty), and the solver for logistic regression (solver).\n",
    "\n",
    "**GridSearchCV:**\n",
    "\n",
    ">- We use GridSearchCV to perform a search over the hyperparameter grid within the defined pipeline.\n",
    ">- The estimator is set to our pipeline (pipe_LR), and the hyperparameter grid is set to param_grid_LR.\n",
    ">- Cross-validation with 5 folds (cv=5) is used to evaluate the performance.\n",
    ">- return_train_score=True ensures that training scores are also returned.\n",
    "\n",
    "**Model Training:**\n",
    "\n",
    ">- The grid search is fit on the training data (x_train, y_train).\n",
    "\n",
    "**Print Best Results:**\n",
    "\n",
    ">- The code prints the best score achieved by the model and the corresponding best hyperparameters."
   ]
  },
  {
   "cell_type": "code",
   "execution_count": null,
   "id": "cf37367d",
   "metadata": {},
   "outputs": [],
   "source": [
    "# Create a pipeline with StandardScaler and LogisticRegression\n",
    "pipe_LR = Pipeline([\n",
    "    ('scaler', StandardScaler()), # Step 1: Standardize the features\n",
    "    ('classifier', LogisticRegression()) # Step 2: Logistic Regression model\n",
    "    ])\n",
    "\n",
    "# Define the hyperparameter grid for Logistic Regression\n",
    "param_grid_LR = {\n",
    "    'classifier__C': [0.001, 0.01, 0.1, 1, 10, 100],  # Regularization parameter\n",
    "    'classifier__penalty': ['l1', 'l2'],  # Regularization type\n",
    "    'classifier__solver': ['liblinear']  # Solver for logistic regression\n",
    "}\n",
    "\n",
    "# Create GridSearchCV with the pipeline\n",
    "grid_search_LR = GridSearchCV(estimator=pipe_LR,\n",
    "                         param_grid=param_grid_LR,\n",
    "                         cv =5,\n",
    "                         return_train_score=True)\n",
    "\n",
    "# Fit the grid search on the training data\n",
    "grid_search_LR.fit(x_train, y_train)\n",
    "print(f\" Best score is: {grid_search_LR.best_score_} with parameters: {grid_search_LR.best_params_}\")"
   ]
  },
  {
   "cell_type": "markdown",
   "id": "b8b34309",
   "metadata": {},
   "source": [
    "## 14.2 Fit the grid search on the training data"
   ]
  },
  {
   "cell_type": "code",
   "execution_count": null,
   "id": "2040c728",
   "metadata": {},
   "outputs": [],
   "source": [
    "\n",
    "# Fit the grid search on the training data\n",
    "grid_search_LR.fit(x_train, y_train)\n"
   ]
  },
  {
   "cell_type": "markdown",
   "id": "ab5556eb",
   "metadata": {},
   "source": [
    "## 14.3 best parameters and best estimator"
   ]
  },
  {
   "cell_type": "code",
   "execution_count": null,
   "id": "5dd57694",
   "metadata": {},
   "outputs": [],
   "source": [
    "# Get the best parameters and best estimator\n",
    "best_params = grid_search_LR.best_params_\n",
    "best_estimator = grid_search_LR.best_estimator_\n",
    "print(f'\\033[1;31m  \\033[1m  best hyperparameter for LogisticRegression:',best_params)\n",
    "print()\n",
    "print(f'\\033[1;31m  \\033[1m  best estimator for LogisticRegression:',best_estimator)\n",
    "\n"
   ]
  },
  {
   "cell_type": "markdown",
   "id": "7af43c5a",
   "metadata": {},
   "source": [
    "## 14.4 Make Predictions/ Test model"
   ]
  },
  {
   "cell_type": "code",
   "execution_count": null,
   "id": "b1350810",
   "metadata": {},
   "outputs": [],
   "source": [
    "# Make Testing set predictions on the test data using the best estimator\n",
    "y_pred_LR = best_estimator.predict(x_test)\n",
    "y_pred_LR "
   ]
  },
  {
   "cell_type": "code",
   "execution_count": null,
   "id": "36220e2c",
   "metadata": {},
   "outputs": [],
   "source": [
    "# Training set predictions using Logistic Regression.\n",
    "y_pred_LR_train = best_estimator.predict(x_train)\n",
    "y_pred_LR_train "
   ]
  },
  {
   "cell_type": "markdown",
   "id": "df0788fb",
   "metadata": {},
   "source": [
    "## 14.5 Evaluating the Model"
   ]
  },
  {
   "cell_type": "markdown",
   "id": "dcb606ca",
   "metadata": {},
   "source": [
    "### 14.5.1 Confusion Matrix"
   ]
  },
  {
   "cell_type": "markdown",
   "id": "f8711a82",
   "metadata": {},
   "source": [
    ">- Creating a ConfusionMatrixDisplay object and visualize the confusion matrix by providing the true labels and predicted labels."
   ]
  },
  {
   "cell_type": "code",
   "execution_count": null,
   "id": "3d186839",
   "metadata": {},
   "outputs": [],
   "source": [
    "# Importing the ConfusionMatrixDisplay class from 'sklearn.metrics' module.\n",
    "from sklearn.metrics import ConfusionMatrixDisplay\n"
   ]
  },
  {
   "cell_type": "code",
   "execution_count": null,
   "id": "ff4d5c44",
   "metadata": {},
   "outputs": [],
   "source": [
    "# Plot non-normalized confusion matrix\n",
    "# Define titles and options for confusion matrix display\n",
    "titles_options = [\n",
    "    (\"Confusion matrix, without normalization\", None),\n",
    "    (\"Normalized confusion matrix\", \"true\"),\n",
    "]\n",
    "# Loop through each title and normalization option\n",
    "for title, normalize in titles_options:\n",
    "    # Fit the grid search on the training data and create a confusion matrix display\n",
    "    disp = ConfusionMatrixDisplay.from_estimator(\n",
    "        grid_search_LR.fit(x_train, y_train),# Fit the grid search on the training data\n",
    "        x_test,# Test features\n",
    "        y_test,# True labels for the test set\n",
    "        display_labels=['1', '2', '3', '4','5','6'],# Class labels\n",
    "        cmap=plt.cm.Greens,# Color map for the display\n",
    "        normalize=normalize,# Normalization option\n",
    "    )\n",
    "    \n",
    "    disp.ax_.set_title(title)# Set the title for the confusion matrix display\n",
    "\n",
    "    print(title)# Print title and confusion matrix\n",
    "    print(disp.confusion_matrix)\n",
    "\n",
    "plt.show()# Show the plots"
   ]
  },
  {
   "cell_type": "markdown",
   "id": "a4154e6d",
   "metadata": {},
   "source": [
    "## Confusion Matrix Report Interpretation:\n",
    "\n",
    "1. **Psoriasis (Class 1):**\n",
    "   - True Positives (TP): 34\n",
    "   - No False Positives (FP), False Negatives (FN), or True Negatives (TN).\n",
    "\n",
    "2. **Seboreic Dermatitis (Class 2):**\n",
    "   - TP: 12\n",
    "   - No FP, FN, or TN.\n",
    "\n",
    "3. **Lichen Planus (Class 3):**\n",
    "   - TP: 17\n",
    "   - No FP, FN, or TN.\n",
    "\n",
    "4. **Pityriasis Rosea (Class 4):**\n",
    "   - TP: 9\n",
    "   - Two False Positives (mistakenly classified as Class 2), and no FN or TN.\n",
    "\n",
    "5. **Cronic Dermatitis (Class 5):**\n",
    "   - TP: 14\n",
    "   - No FP, FN, or TN.\n",
    "\n",
    "6. **Pityriasis Rubra Pilaris (Class 6):**\n",
    "   - TP: 4\n",
    "   - No FP, FN, or TN.\n",
    "\n"
   ]
  },
  {
   "cell_type": "markdown",
   "id": "411181e1",
   "metadata": {},
   "source": [
    "### Plot the comparison report to show where the datapoint misclassified"
   ]
  },
  {
   "cell_type": "code",
   "execution_count": null,
   "id": "b217cc0a",
   "metadata": {},
   "outputs": [],
   "source": [
    "# Plot the comparison between the actual and predicted bike rental count\n",
    "plt.figure(figsize=(10,6))\n",
    "plt.scatter(y_test, y_pred_LR, color='blue', label='Data points')\n",
    "plt.plot([y_test.min(), y_test.max()], [y_test.min(), y_test.max()], color='red', label='Diagonal line')\n",
    "plt.xlabel('Actual Skin Disorder')\n",
    "plt.ylabel('Predicted Skin Disorder')\n",
    "plt.title('Comparison between actual and predicted Skin Disorder')\n",
    "plt.legend()\n",
    "plt.show()"
   ]
  },
  {
   "cell_type": "markdown",
   "id": "603c473f",
   "metadata": {},
   "source": [
    "#### Insights of confusion_matrix of  Logistic Regression :"
   ]
  },
  {
   "cell_type": "markdown",
   "id": "526cbbf8",
   "metadata": {},
   "source": [
    "This confusion matrix gives a lot of information about the model’s performance:\n",
    "    \n",
    "   >- As usual, the diagonal elements are the correctly predicted  samples. A total of 90 samples were correctly predicted out of the total 92 samples. Thus, the overall accuracy is 97.82 %.\n",
    "    \n",
    "   >- M_42=2 implies that the model does confuse samples originally belonging to class-4 (Pityriasis Rosea) with class-2 (Seboreic Dermatitis) , i.e., the classification boundary between classes 4 and 2 was not learned well by the classifier."
   ]
  },
  {
   "cell_type": "code",
   "execution_count": null,
   "id": "c2fee946",
   "metadata": {},
   "outputs": [],
   "source": []
  },
  {
   "cell_type": "markdown",
   "id": "5d7e5430",
   "metadata": {},
   "source": [
    "### 14.5.2 Mean Squared Error , r2_score , Mean Absolute Error , Root Mean Squared Error"
   ]
  },
  {
   "cell_type": "markdown",
   "id": "d7bb1e4d",
   "metadata": {},
   "source": [
    "#### Mean Squared Error"
   ]
  },
  {
   "cell_type": "markdown",
   "id": "b0edad47",
   "metadata": {},
   "source": [
    ">- The Mean Squared Error (MSE) or Mean Squared Deviation (MSD) of an estimator measures the average of error squares i.e. the average squared difference between the estimated values and true value."
   ]
  },
  {
   "cell_type": "markdown",
   "id": "2741ca15",
   "metadata": {},
   "source": [
    "#### r2_score"
   ]
  },
  {
   "cell_type": "markdown",
   "id": "ea420b15",
   "metadata": {},
   "source": [
    ">- The coefficient of determination (R²) is a statistical measure that indicates how well a regression model predicts an outcome."
   ]
  },
  {
   "cell_type": "markdown",
   "id": "3f7d0336",
   "metadata": {},
   "source": [
    "#### Mean Absolute Error"
   ]
  },
  {
   "cell_type": "markdown",
   "id": "158ae2bf",
   "metadata": {},
   "source": [
    ">- Mean Absolute Error (MAE) is a metric that measures the average absolute difference between the predicted values and the actual target values in a regression model."
   ]
  },
  {
   "cell_type": "markdown",
   "id": "6e43ccc4",
   "metadata": {},
   "source": [
    "#### Root Mean Squared Error"
   ]
  },
  {
   "cell_type": "markdown",
   "id": "fb20b9c4",
   "metadata": {},
   "source": [
    ">- Root Mean Squared Error (RMSE) is a metric that measures the average difference between the predicted values and the actual values in a regression model.\n",
    "\n",
    ">- The lower the RMSE, the better a given model is able to “fit” a dataset."
   ]
  },
  {
   "cell_type": "code",
   "execution_count": null,
   "id": "6745576f",
   "metadata": {},
   "outputs": [],
   "source": [
    "# Evaluate the performance of the model\n",
    "mse = metrics.mean_squared_error(y_test,y_pred_LR)\n",
    "r2 = metrics.r2_score(y_test, y_pred_LR)\n",
    "mae = metrics.mean_absolute_error(y_test, y_pred_LR)\n",
    "rmse = metrics.mean_squared_error(y_test, y_pred_LR, squared=False) \n",
    "\n",
    "\n",
    "\n",
    "print(f'\\033[1;31m  \\033[1m  Mean Squared Error: {mse:.2f}')\n",
    "print(f'\\033[1;31m  \\033[1m  R-squared Score: {r2:.2f}')\n",
    "print(f'\\033[1;31m  \\033[1m  Mean Absolute Error: {mae:.2f}')\n",
    "print(\"\\033[1;31m  \\033[1m  Root Mean Squared Error:\", rmse)"
   ]
  },
  {
   "cell_type": "markdown",
   "id": "0f0e0690",
   "metadata": {},
   "source": [
    "**observation :-**\n",
    " \n",
    ">- MSE: The closer the MSE is to zero, the better the model's predictions align with the actual values.   \n",
    "\n",
    ">- R-squared Score (R2): A higher R2 indicates that a larger proportion of the variance in the target variable is explained by the model.\n",
    "\n",
    ">- MAE: Similar to MSE, a lower MAE indicates better performance. It provides a measure of average prediction error.\n",
    "    \n",
    ">- RMSE: Like MSE, lower RMSE values indicate better model performance. It is in the same scale as the target variable.    "
   ]
  },
  {
   "cell_type": "markdown",
   "id": "e7661bc1",
   "metadata": {},
   "source": [
    "### 14.5.3  Accuracy Score"
   ]
  },
  {
   "cell_type": "markdown",
   "id": "9458fd6d",
   "metadata": {},
   "source": [
    "- It will print the accuracy scores for training and testing sets using Logistic Regression."
   ]
  },
  {
   "cell_type": "code",
   "execution_count": null,
   "id": "7e9efd4c",
   "metadata": {},
   "outputs": [],
   "source": [
    "# Importing metrics for evaluating models.\n",
    "from sklearn.metrics import confusion_matrix,accuracy_score,precision_score,recall_score,f1_score,classification_report"
   ]
  },
  {
   "cell_type": "code",
   "execution_count": null,
   "id": "309f6984",
   "metadata": {},
   "outputs": [],
   "source": [
    "#accuracy of Logistic Regression for testing set\n",
    "accuracy_LR = accuracy_score(y_test, y_pred_LR)\n",
    "#accuracy of Logistic Regression for training set\n",
    "accuracy_LR_train = accuracy_score(y_train, y_pred_LR_train)\n",
    "print(f'\\033[1;31m  \\033[1m  accuracy of Logistic Regression for testing set:',accuracy_LR)\n",
    "print(f'\\033[1;31m  \\033[1m  accuracy of Logistic Regression for training set:',accuracy_LR_train)"
   ]
  },
  {
   "cell_type": "markdown",
   "id": "1e15925f",
   "metadata": {},
   "source": [
    "### 14.5.4.  Precision Score"
   ]
  },
  {
   "cell_type": "markdown",
   "id": "a395b6da",
   "metadata": {},
   "source": [
    ">- It will calculate the weighted precision score for the model(testing set)."
   ]
  },
  {
   "cell_type": "code",
   "execution_count": null,
   "id": "a4fed848",
   "metadata": {},
   "outputs": [],
   "source": [
    "precision=precision_score(y_test, y_pred_LR, average='weighted')\n",
    "print(f'\\033[1;31m  \\033[1m  precision_score of Logistic Regression:',precision)"
   ]
  },
  {
   "cell_type": "markdown",
   "id": "1f412c71",
   "metadata": {},
   "source": [
    "### 14.5.5. f1 score"
   ]
  },
  {
   "cell_type": "markdown",
   "id": "299c94be",
   "metadata": {},
   "source": [
    ">- It will calculate the weighted f1 score for the testing set."
   ]
  },
  {
   "cell_type": "code",
   "execution_count": null,
   "id": "753e47aa",
   "metadata": {},
   "outputs": [],
   "source": [
    "from sklearn.metrics import f1_score\n",
    "f1_score=f1_score(y_test, y_pred_LR, average = 'weighted')\n",
    "print(f'\\033[1;31m  \\033[1m  f1_score of Logistic Regression:',f1_score)"
   ]
  },
  {
   "cell_type": "markdown",
   "id": "2bfa0189",
   "metadata": {},
   "source": [
    "### 14.5.6. Recall Score"
   ]
  },
  {
   "cell_type": "markdown",
   "id": "3c3620ed",
   "metadata": {},
   "source": [
    ">- It will calculate the weighted recall score for the model (testing set)."
   ]
  },
  {
   "cell_type": "code",
   "execution_count": null,
   "id": "e93ac278",
   "metadata": {},
   "outputs": [],
   "source": [
    "recall=recall_score(y_test, y_pred_LR, average = 'weighted')\n",
    "print(f'\\033[1;31m  \\033[1m  recall_score of Logistic Regression:',recall)"
   ]
  },
  {
   "cell_type": "markdown",
   "id": "79413eae",
   "metadata": {},
   "source": [
    "# 14.5.7. Classification Report"
   ]
  },
  {
   "cell_type": "code",
   "execution_count": null,
   "id": "c86207fe",
   "metadata": {},
   "outputs": [],
   "source": [
    "print(classification_report(y_test, y_pred_LR, target_names=\n",
    "                            ['psoriasis','seboreic_dermatitis','lichen_planus','pityriasis_rosea','cronic_dermatitis',\n",
    "                             'pityriasis_rubra_pilaris']))"
   ]
  },
  {
   "cell_type": "markdown",
   "id": "418b66ef",
   "metadata": {},
   "source": [
    "### Classification Report Analysis\n",
    "\n",
    "**The classification report provides a detailed summary of the performance of a classification model on a per-class basis. Let's analyze the report:**"
   ]
  },
  {
   "cell_type": "markdown",
   "id": "7c1fc1a9",
   "metadata": {},
   "source": [
    "\n",
    "1. **Psoriasis:**\n",
    "   - Precision: 1.00 (100%) - All instances predicted as Psoriasis are correct.\n",
    "   - Recall: 1.00 (100%) - The model captures all actual instances of Psoriasis.\n",
    "   - F1-Score: 1.00 (100%) - The harmonic mean of precision and recall is excellent.\n",
    "   - Support: 34 instances.\n",
    "\n",
    "2. **Seborrheic Dermatitis:**\n",
    "   - Precision: 0.86 (86%) - Some instances predicted as Seborrheic Dermatitis may be incorrect.\n",
    "   - Recall: 1.00 (100%) - The model captures all actual instances of Seborrheic Dermatitis.\n",
    "   - F1-Score: 0.92 (92%) - A good balance between precision and recall.\n",
    "   - Support: 12 instances.\n",
    "\n",
    "3. **Lichen Planus:**\n",
    "   - Precision: 1.00 (100%) - All instances predicted as Lichen Planus are correct.\n",
    "   - Recall: 1.00 (100%) - The model captures all actual instances of Lichen Planus.\n",
    "   - F1-Score: 1.00 (100%) - Excellent performance on this class.\n",
    "   - Support: 17 instances.\n",
    "\n",
    "4. **Pityriasis Rosea:**\n",
    "   - Precision: 1.00 (100%) - All instances predicted as Pityriasis Rosea are correct.\n",
    "   - Recall: 0.82 (82%) - The model may miss some instances of Pityriasis Rosea.\n",
    "   - F1-Score: 0.90 (90%) - A relatively good balance between precision and recall.\n",
    "   - Support: 11 instances.\n",
    "\n",
    "5. **Chronic Dermatitis:**\n",
    "   - Precision: 1.00 (100%) - All instances predicted as Chronic Dermatitis are correct.\n",
    "   - Recall: 1.00 (100%) - The model captures all actual instances of Chronic Dermatitis.\n",
    "   - F1-Score: 1.00 (100%) - Excellent performance on this class.\n",
    "   - Support: 14 instances.\n",
    "\n",
    "6. **Pityriasis Rubra Pilaris:**\n",
    "   - Precision: 1.00 (100%) - All instances predicted as Pityriasis Rubra Pilaris are correct.\n",
    "   - Recall: 1.00 (100%) - The model captures all actual instances of Pityriasis Rubra Pilaris.\n",
    "   - F1-Score: 1.00 (100%) - Excellent performance on this class.\n",
    "   - Support: 4 instances.\n",
    "\n"
   ]
  },
  {
   "cell_type": "markdown",
   "id": "3beaafa5",
   "metadata": {},
   "source": [
    "**The model performs exceptionally well across most classes, with high precision, recall, and F1-Score. However, it shows a slight decrease in recall for 'Pityriasis Rosea,' indicating a potential area for improvement. The overall high accuracy and balanced metrics suggest that the model is effective in classifying skin diseases.**"
   ]
  },
  {
   "cell_type": "code",
   "execution_count": null,
   "id": "148df76b",
   "metadata": {},
   "outputs": [],
   "source": []
  },
  {
   "cell_type": "markdown",
   "id": "f33dce20",
   "metadata": {},
   "source": [
    "# 15. KNN (K Nearest Neighbors) Classifier"
   ]
  },
  {
   "cell_type": "markdown",
   "id": "ba8106eb",
   "metadata": {},
   "source": [
    "## Model Building"
   ]
  },
  {
   "cell_type": "code",
   "execution_count": null,
   "id": "0a54591d",
   "metadata": {},
   "outputs": [],
   "source": [
    "# Using K-Nearest Neighbors (KNN) classifier to predict target values for the x_test.\n",
    "\n",
    "from sklearn.neighbors import KNeighborsClassifier"
   ]
  },
  {
   "cell_type": "markdown",
   "id": "88c31c95",
   "metadata": {},
   "source": [
    "## 15.1 model creation"
   ]
  },
  {
   "cell_type": "markdown",
   "id": "71e55a31",
   "metadata": {},
   "source": [
    "**For creating a KNeighborsClassifier model , we are going to implement a pipeline for KNN (K Nearest Neighbors) Classifier with feature scaling using StandardScaler and hyperparameter tuning using GridSearchCV.** "
   ]
  },
  {
   "cell_type": "markdown",
   "id": "dece7b52",
   "metadata": {},
   "source": [
    "**1. Pipeline Creation:**\n",
    "\n",
    ">- A pipeline (pipe_knn) is created using Pipeline from scikit-learn.\n",
    ">- The pipeline consists of two steps:\n",
    "    - Step 1 ('sc'): Standardizing the features using StandardScaler().\n",
    "    - Step 2 ('knn'): Applying KNN (K Nearest Neighbors) Classifier using KNeighborsClassifier().\n",
    "\n",
    "**2.Hyperparameter Grid:**\n",
    "\n",
    ">- We define a hyperparameter grid (params_knn) for KNN (K Nearest Neighbors) Classifier.\n",
    ">- The grid includes the number of neighbors (n_neighbors) ranging from 1 to 19.\n",
    "\n",
    "**3. GridSearchCV:**\n",
    "\n",
    ">- We use GridSearchCV to perform a search over the hyperparameter grid within the defined pipeline.\n",
    ">- The estimator is set to our pipeline (pipe_knn), and the hyperparameter grid is set to params_knn.\n",
    ">- Cross-validation with 5 folds (cv=5) is used to evaluate the performance.\n",
    ">- return_train_score=True ensures that training scores are also returned.\n",
    "\n",
    "**4. Model Training:**\n",
    "\n",
    ">- The grid search is fit on the training data (x_train, y_train).\n",
    "\n",
    "**5. Print Best Results:**\n",
    "\n",
    ">- The code prints the best score achieved by the model and the corresponding best hyperparameters."
   ]
  },
  {
   "cell_type": "code",
   "execution_count": null,
   "id": "428e2a49",
   "metadata": {},
   "outputs": [],
   "source": [
    "# Create a pipeline with StandardScaler and KNN (K Nearest Neighbors) Classifier\n",
    "pipe_knn = Pipeline([\n",
    "    ('sc', StandardScaler()), # Step 1: Standardize the features\n",
    "    ('knn', KNeighborsClassifier())# Step 2:KNN (K Nearest Neighbors) Classifier model\n",
    "    ])\n",
    "\n",
    "# Define the hyperparameter grid for KNN (K Nearest Neighbors) Classifier\n",
    "params_knn = {\n",
    "    'knn__n_neighbors': range(1, 20)\n",
    "    }\n",
    "\n",
    "# Create GridSearchCV with the pipeline\n",
    "grid_search_knn = GridSearchCV(estimator=pipe_knn,\n",
    "                      param_grid=params_knn,\n",
    "                      cv = 5,\n",
    "                      return_train_score=True)\n",
    "\n",
    "grid_search_knn .fit(x_train, y_train)\n",
    "print(f\" Best score is: {grid_search_knn.best_score_} with parameters: {grid_search_knn.best_params_}\")"
   ]
  },
  {
   "cell_type": "markdown",
   "id": "da861826",
   "metadata": {},
   "source": [
    "## 15.2 best parameters and best estimator"
   ]
  },
  {
   "cell_type": "code",
   "execution_count": null,
   "id": "737811f3",
   "metadata": {},
   "outputs": [],
   "source": [
    "# Get the best parameters and best estimator\n",
    "best_params = grid_search_knn.best_params_\n",
    "best_estimator = grid_search_knn.best_estimator_\n",
    "print(f'\\033[1;31m  \\033[1m  best hyperparameter for KNeighborsClassifier:',best_params)\n",
    "print()\n",
    "print(f'\\033[1;31m  \\033[1m  best estimator for KNeighborsClassifier:',best_estimator)\n"
   ]
  },
  {
   "cell_type": "markdown",
   "id": "6a1e5b64",
   "metadata": {},
   "source": [
    "## 15.3 Fit the grid search on the training data"
   ]
  },
  {
   "cell_type": "code",
   "execution_count": null,
   "id": "e4bdc895",
   "metadata": {},
   "outputs": [],
   "source": [
    "\n",
    "# Fit the grid search on the training data\n",
    "grid_search_knn.fit(x_train, y_train)"
   ]
  },
  {
   "cell_type": "markdown",
   "id": "bafe0417",
   "metadata": {},
   "source": [
    "## 15.4 Make Predictions/ Test model"
   ]
  },
  {
   "cell_type": "code",
   "execution_count": null,
   "id": "ad8ccd17",
   "metadata": {},
   "outputs": [],
   "source": [
    "# Make predictions on the test data using the best estimator\n",
    "y_pred_knn = best_estimator.predict(x_test)\n",
    "y_pred_knn"
   ]
  },
  {
   "cell_type": "code",
   "execution_count": null,
   "id": "c53077a4",
   "metadata": {},
   "outputs": [],
   "source": [
    "# Making predictions on the training data using the trained KneighborsClassifier.\n",
    "y_pred_knn_train = best_estimator.predict(x_train)\n",
    "y_pred_knn_train"
   ]
  },
  {
   "cell_type": "markdown",
   "id": "7077e562",
   "metadata": {},
   "source": [
    "# 15.5 Evaluating the Model"
   ]
  },
  {
   "cell_type": "markdown",
   "id": "645659c6",
   "metadata": {},
   "source": [
    "## 15.5.1 Confusion Matrix"
   ]
  },
  {
   "cell_type": "markdown",
   "id": "49202b7d",
   "metadata": {},
   "source": [
    ">- Creating a ConfusionMatrixDisplay object and visualize the confusion matrix by providing the true labels  and predicted labels ."
   ]
  },
  {
   "cell_type": "code",
   "execution_count": null,
   "id": "0a240e15",
   "metadata": {},
   "outputs": [],
   "source": [
    "# Plot non-normalized confusion matrix\n",
    "# Define titles and options for confusion matrix display\n",
    "titles_options = [\n",
    "    (\"Confusion matrix, without normalization\", None),\n",
    "    (\"Normalized confusion matrix\", \"true\"),\n",
    "]\n",
    "# Loop through each title and normalization option\n",
    "for title, normalize in titles_options:\n",
    "    # Fit the grid search on the training data and create a confusion matrix display\n",
    "    disp = ConfusionMatrixDisplay.from_estimator(\n",
    "        grid_search_knn .fit(x_train, y_train),# Fit the grid search on the training data\n",
    "        x_test,# Test features\n",
    "        y_test,# True labels for the test set\n",
    "        display_labels=['1', '2', '3', '4','5','6'],# Class labels\n",
    "        cmap=plt.cm.Greens,# Color map for the display\n",
    "        normalize=normalize,# Normalization option\n",
    "    )\n",
    "    disp.ax_.set_title(title) # Set the title for the confusion matrix display\n",
    "\n",
    "\n",
    "    print(title) # Print title and confusion matrix\n",
    "    print(disp.confusion_matrix)\n",
    "\n",
    "plt.show()# Show the plots"
   ]
  },
  {
   "cell_type": "markdown",
   "id": "0edb2abc",
   "metadata": {},
   "source": [
    "## Confusion Matrix Report Interpretation:\n",
    "\n",
    "1. **Psoriasis (Class 1):**\n",
    "   - True Positives (TP): 33\n",
    "   - One False Positive (misclassified as Class 2), and no False Negatives (FN) or True Negatives (TN).\n",
    "\n",
    "2. **Seboreic Dermatitis (Class 2):**\n",
    "   - TP: 12\n",
    "   - No FP, FN, or TN.\n",
    "\n",
    "3. **Lichen Planus (Class 3):**\n",
    "   - TP: 17\n",
    "   - No FP, FN, or TN.\n",
    "\n",
    "4. **Pityriasis Rosea (Class 4):**\n",
    "   - TP: 9\n",
    "   - Two False Positives (mistakenly classified as Class 2), and no FN or TN.\n",
    "\n",
    "5. **Cronic Dermatitis (Class 5):**\n",
    "   - TP: 14\n",
    "   - No FP, FN, or TN.\n",
    "\n",
    "6. **Pityriasis Rubra Pilaris (Class 6):**\n",
    "   - TP: 4\n",
    "   - No FP, FN, or TN.\n",
    "\n"
   ]
  },
  {
   "cell_type": "markdown",
   "id": "f3820729",
   "metadata": {},
   "source": [
    "### Plot the comparison report to show where the datapoint misclassified"
   ]
  },
  {
   "cell_type": "code",
   "execution_count": null,
   "id": "92f177ca",
   "metadata": {},
   "outputs": [],
   "source": [
    "# Plot the comparison between the actual and predicted Skin Disorder count\n",
    "plt.figure(figsize=(10,6))\n",
    "plt.scatter(y_test, y_pred_knn, color='blue', label='Data points')\n",
    "plt.plot([y_test.min(), y_test.max()], [y_test.min(), y_test.max()], color='red', label='Diagonal line')\n",
    "plt.xlabel('Actual Skin Disorder')\n",
    "plt.ylabel('Predicted Skin Disorder')\n",
    "plt.title('Comparison between actual and predicted Skin Disorder')\n",
    "plt.legend()\n",
    "plt.show()"
   ]
  },
  {
   "cell_type": "markdown",
   "id": "c5bf1e41",
   "metadata": {},
   "source": [
    "### Insights of confusion_matrix "
   ]
  },
  {
   "cell_type": "markdown",
   "id": "0a7c420b",
   "metadata": {},
   "source": [
    "This confusion matrix gives a lot of information about the model’s performance:\n",
    "    \n",
    " >- As usual, the diagonal elements are the correctly predicted  samples. A total of 89 samples were correctly predicted out of the total 92 samples. Thus, the overall accuracy is 96.73 %.\n",
    "    \n",
    " >- M_42=2 implies that the model does confuse samples originally belonging to class-4 with class-2, i.e., the classification boundary between classes 4 and 2 was not learned well by the classifier.\n",
    "   \n",
    " >- M_12=1 implies that the model does confuse samples originally belonging to class-1 with class-2, i.e., the classification boundary between classes 1 and 2 was not learned well by the classifier."
   ]
  },
  {
   "cell_type": "markdown",
   "id": "25e09dd6",
   "metadata": {},
   "source": [
    "## 15.5.2 Mean Squared Error , r2_score , Mean Absolute Error , Root Mean Squared Error"
   ]
  },
  {
   "cell_type": "code",
   "execution_count": null,
   "id": "c8ba4337",
   "metadata": {},
   "outputs": [],
   "source": [
    "# Evaluate the performance of the model\n",
    "mse = metrics.mean_squared_error(y_test,y_pred_knn)\n",
    "r2 = metrics.r2_score(y_test, y_pred_knn)\n",
    "mae = metrics.mean_absolute_error(y_test,y_pred_knn)\n",
    "rmse = metrics.mean_squared_error(y_test, y_pred_knn, squared=False) \n",
    "\n",
    "\n",
    "\n",
    "print(f'\\033[1;31m  \\033[1m  Mean Squared Error: {mse:.2f}')\n",
    "print(f'\\033[1;31m  \\033[1m  R-squared Score: {r2:.2f}')\n",
    "print(f'\\033[1;31m  \\033[1m  Mean Absolute Error: {mae:.2f}')\n",
    "print(\"\\033[1;31m  \\033[1m  Root Mean Squared Error:\", rmse)"
   ]
  },
  {
   "cell_type": "markdown",
   "id": "bc0806bf",
   "metadata": {},
   "source": [
    "**observation :-**\n",
    " \n",
    ">- MSE: The closer the MSE is to zero, the better the model's predictions align with the actual values.   \n",
    "\n",
    ">- R-squared Score (R2): A higher R2 indicates that a larger proportion of the variance in the target variable is explained by the model.\n",
    "\n",
    ">- MAE: Similar to MSE, a lower MAE indicates better performance. It provides a measure of average prediction error.\n",
    "    \n",
    ">- RMSE: Like MSE, lower RMSE values indicate better model performance. It is in the same scale as the target variable.    "
   ]
  },
  {
   "cell_type": "markdown",
   "id": "7118491c",
   "metadata": {},
   "source": [
    "## 15.5.3. Accuracy Score"
   ]
  },
  {
   "cell_type": "markdown",
   "id": "ece3e71e",
   "metadata": {},
   "source": [
    ">- It will print the accuracy scores for training and testing sets using KNeighborsClassifier."
   ]
  },
  {
   "cell_type": "code",
   "execution_count": null,
   "id": "fd2da117",
   "metadata": {},
   "outputs": [],
   "source": [
    "#accuracy of KNeighborsClassifier for testing set\n",
    "accuracy_knn = accuracy_score(y_test,y_pred_knn)\n",
    "#accuracy of KNeighborsClassifier for training set\n",
    "accuracy_knn_train = accuracy_score(y_train,y_pred_knn_train)\n",
    "print(f'\\033[1;31m  \\033[1m  accuracy of KNeighborsClassifier for testing set:',accuracy_knn)\n",
    "print(f'\\033[1;31m  \\033[1m  accuracy of KNeighborsClassifier for training set:',accuracy_knn_train)"
   ]
  },
  {
   "cell_type": "markdown",
   "id": "cc8557e5",
   "metadata": {},
   "source": [
    "## 15.5.4. Precision Score"
   ]
  },
  {
   "cell_type": "markdown",
   "id": "473cc7bf",
   "metadata": {},
   "source": [
    ">- It will calculate the weighted precision score for the model(testing set)."
   ]
  },
  {
   "cell_type": "code",
   "execution_count": null,
   "id": "b2c1875a",
   "metadata": {},
   "outputs": [],
   "source": [
    "precision=precision_score(y_test,y_pred_knn, average='weighted')\n",
    "print(f'\\033[1;31m  \\033[1m  precision_score of KNeighborsClassifier:',precision)"
   ]
  },
  {
   "cell_type": "markdown",
   "id": "c55b4edb",
   "metadata": {},
   "source": [
    "## 15.5.5. Recall Score"
   ]
  },
  {
   "cell_type": "markdown",
   "id": "daaabf5e",
   "metadata": {},
   "source": [
    ">-It will calculate the weighted recall score for the model (testing set)."
   ]
  },
  {
   "cell_type": "code",
   "execution_count": null,
   "id": "bd4e4a4c",
   "metadata": {},
   "outputs": [],
   "source": [
    "recall=recall_score(y_test, y_pred_knn, average = 'weighted')\n",
    "print(f'\\033[1;31m  \\033[1m  recall_score of KNeighborsClassifier:',recall)"
   ]
  },
  {
   "cell_type": "markdown",
   "id": "ae426cdd",
   "metadata": {},
   "source": [
    "## 15.5.6. f1 score"
   ]
  },
  {
   "cell_type": "markdown",
   "id": "36254435",
   "metadata": {},
   "source": [
    ">- It will calculate the weighted f1 score for the testing set."
   ]
  },
  {
   "cell_type": "code",
   "execution_count": null,
   "id": "e136a5f1",
   "metadata": {},
   "outputs": [],
   "source": [
    "from sklearn.metrics import f1_score\n",
    "f1_score=f1_score(y_test,y_pred_knn, average = 'weighted')\n",
    "print(f'\\033[1;31m  \\033[1m  f1_score of KNeighborsClassifier:',f1_score)"
   ]
  },
  {
   "cell_type": "markdown",
   "id": "ef2f97a0",
   "metadata": {},
   "source": [
    "## 15.6 Classification Report"
   ]
  },
  {
   "cell_type": "code",
   "execution_count": null,
   "id": "e4090e6f",
   "metadata": {},
   "outputs": [],
   "source": [
    "print(classification_report(y_test, y_pred_knn, target_names=\n",
    "                            ['psoriasis','seboreic_dermatitis','lichen_planus','pityriasis_rosea','cronic_dermatitis',\n",
    "                             'pityriasis_rubra_pilaris']))"
   ]
  },
  {
   "cell_type": "markdown",
   "id": "cca9ce4f",
   "metadata": {},
   "source": [
    "### KNN Model Classification Report Analysis\n",
    "\n",
    "\n",
    "\n",
    "1. **Psoriasis:**\n",
    "    \n",
    "   - Precision: 1.00 (100%) - High precision, indicating few instances predicted as Psoriasis are incorrect.\n",
    "   - Recall: 0.97 (97%) - The model captures most actual instances of Psoriasis.\n",
    "   - F1-Score: 0.99 (99%) - A good balance between precision and recall.\n",
    "   - Support: 34 instances.\n",
    "\n",
    "2. **Seborrheic Dermatitis:**\n",
    "    \n",
    "   - Precision: 0.80 (80%) - Some instances predicted as Seborrheic Dermatitis may be incorrect.\n",
    "   - Recall: 1.00 (100%) - The model captures all actual instances of Seborrheic Dermatitis.\n",
    "   - F1-Score: 0.89 (89%) - A moderate balance between precision and recall.\n",
    "   - Support: 12 instances.\n",
    "\n",
    "3. **Lichen Planus:**\n",
    "    \n",
    "   - Precision: 1.00 (100%) - All instances predicted as Lichen Planus are correct.\n",
    "   - Recall: 1.00 (100%) - The model captures all actual instances of Lichen Planus.\n",
    "   - F1-Score: 1.00 (100%) - Excellent performance on this class.\n",
    "   - Support: 17 instances.\n",
    "\n",
    "4. **Pityriasis Rosea:**\n",
    "    \n",
    "   - Precision: 1.00 (100%) - All instances predicted as Pityriasis Rosea are correct.\n",
    "   - Recall: 0.82 (82%) - The model may miss some instances of Pityriasis Rosea.\n",
    "   - F1-Score: 0.90 (90%) - A moderate balance between precision and recall.\n",
    "   - Support: 11 instances.\n",
    "\n",
    "5. **Chronic Dermatitis:**\n",
    "    \n",
    "   - Precision: 1.00 (100%) - All instances predicted as Chronic Dermatitis are correct.\n",
    "   - Recall: 1.00 (100%) - The model captures all actual instances of Chronic Dermatitis.\n",
    "   - F1-Score: 1.00 (100%) - Excellent performance on this class.\n",
    "   - Support: 14 instances.\n",
    "\n",
    "6. **Pityriasis Rubra Pilaris:**\n",
    "    \n",
    "   - Precision: 1.00 (100%) - All instances predicted as Pityriasis Rubra Pilaris are correct.\n",
    "   - Recall: 1.00 (100%) - The model captures all actual instances of Pityriasis Rubra Pilaris.\n",
    "   - F1-Score: 1.00 (100%) - Excellent performance on this class.\n",
    "   - Support: 4 instances.\n",
    "\n",
    "#### Accuracy and Averaged Metrics:\n",
    "\n",
    "- **Accuracy:**\n",
    "    \n",
    "  - 97% - Overall, the model is accurate in its predictions.\n",
    "\n",
    "- **Macro Avg (Macro-Averaging):**\n",
    "    \n",
    "  - Precision: 97% - The average precision across all classes.\n",
    "  - Recall: 96% - The average recall across all classes.\n",
    "  - F1-Score: 96% - The average F1-Score across all classes.\n",
    "\n",
    "- **Weighted Avg (Weighted-Averaging):**\n",
    "    \n",
    "  - Precision: 97% - The weighted average precision considering class imbalance.\n",
    "  - Recall: 97% - The weighted average recall considering class imbalance.\n",
    "  - F1-Score: 97% - The weighted average F1-Score considering class imbalance.\n",
    "\n",
    "\n"
   ]
  },
  {
   "cell_type": "markdown",
   "id": "40b54f87",
   "metadata": {},
   "source": [
    "### Conclusion:\n",
    "\n",
    "The KNN model demonstrates good performance, especially on classes like 'Lichen Planus' and 'Chronic Dermatitis,' achieving high precision, recall, and F1-Score. However, it shows a decrease in recall for 'Pityriasis Rosea,' suggesting potential challenges in correctly identifying instances of this class. The overall accuracy and balanced metrics suggest that the KNN model is effective in classifying skin diseases.\n"
   ]
  },
  {
   "cell_type": "code",
   "execution_count": null,
   "id": "a124717e",
   "metadata": {},
   "outputs": [],
   "source": []
  },
  {
   "cell_type": "markdown",
   "id": "01ea1d30",
   "metadata": {},
   "source": [
    "# 16. Support Vector Classifier"
   ]
  },
  {
   "cell_type": "markdown",
   "id": "9227cb8f",
   "metadata": {},
   "source": [
    "## Model Building"
   ]
  },
  {
   "cell_type": "code",
   "execution_count": null,
   "id": "967a83b8",
   "metadata": {},
   "outputs": [],
   "source": [
    "# Importing Support Vector Machine (SVM) classifier from scikit-learn.\n",
    "from sklearn.svm import SVC"
   ]
  },
  {
   "cell_type": "markdown",
   "id": "b3751eb3",
   "metadata": {},
   "source": [
    "## 16.1 model creation"
   ]
  },
  {
   "cell_type": "markdown",
   "id": "da43155a",
   "metadata": {},
   "source": [
    "**For creating a Support Vector Machine model, we are going to implement a pipeline for the Support Vector Classifier (SVC) with feature scaling using StandardScaler and hyperparameter tuning using GridSearchCV.** "
   ]
  },
  {
   "cell_type": "markdown",
   "id": "614a0c2e",
   "metadata": {},
   "source": [
    "**1. Define Hyperparameter Grid:**\n",
    "\n",
    ">- Define the hyperparameter grid for the Support Vector Classifier (SVC) with different kernel options (rbf, poly, sigmoid) and regularization strength (C).\n",
    "\n",
    "**2. Pipeline Creation:**\n",
    "\n",
    ">- Create a pipeline (pipe_svm) using Pipeline from scikit-learn.\n",
    ">- The pipeline consists of two steps:\n",
    "    - Step 1 ('sc'): Standardizing the features using StandardScaler().\n",
    "    - Step 2 ('SVM'): Applying Support Vector Classifier (SVC) using SVC().\n",
    "\n",
    "**3. Hyperparameter Grid:**\n",
    "\n",
    ">- Define a hyperparameter grid (params_svm) for the SVC model, including options for regularization strength (C) and kernel type (kernel).\n",
    "\n",
    "**4. GridSearchCV:**\n",
    "\n",
    ">- Use GridSearchCV to perform a search over the hyperparameter grid within the defined pipeline.\n",
    ">- The estimator is set to our pipeline (pipe_svm), and the hyperparameter grid is set to params_svm.\n",
    ">- Cross-validation with 5 folds (cv=5) is used to evaluate the performance.\n",
    ">- return_train_score=True ensures that training scores are also returned.\n",
    "\n",
    "**5. Model Training:**\n",
    "\n",
    ">- The grid search is fit on the training data (x_train, y_train).\n",
    "\n",
    "**6. Print Best Results:**\n",
    "\n",
    ">- The code prints the best score achieved by the model and the corresponding best hyperparameters."
   ]
  },
  {
   "cell_type": "code",
   "execution_count": null,
   "id": "cab43864",
   "metadata": {},
   "outputs": [],
   "source": [
    "kernels = ['rbf', 'poly', 'sigmoid']\n",
    "C = np.logspace(-2, 10, 13)\n",
    "\n",
    "# Create a pipeline with StandardScaler and SVC\n",
    "pipe_svm = Pipeline([ \n",
    "    ('sc', StandardScaler()),# Step 1: Standardize the features\n",
    "    ('SVM', SVC())# Step 2: SVC model\n",
    "    ])\n",
    "\n",
    "# Define the hyperparameter grid for SVC\n",
    "params_svm = {'SVM__C': C,\n",
    "              'SVM__kernel': kernels,\n",
    "             }\n",
    "\n",
    "# Create GridSearchCV with the pipeline\n",
    "grid_search_svm = GridSearchCV(estimator=pipe_svm,\n",
    "                      param_grid=params_svm,\n",
    "                      cv = 5,\n",
    "                      return_train_score=True)\n",
    "\n",
    "# Fit the grid search on the training data\n",
    "grid_search_svm.fit(x_train, y_train)\n",
    "print(f\" Best score is: {grid_search_svm.best_score_} with parameters: {grid_search_svm.best_params_}\")\n"
   ]
  },
  {
   "cell_type": "markdown",
   "id": "0615b1c2",
   "metadata": {},
   "source": [
    "## 16.2. best parameters and best estimator"
   ]
  },
  {
   "cell_type": "code",
   "execution_count": null,
   "id": "a75ade8a",
   "metadata": {},
   "outputs": [],
   "source": [
    "# Get the best parameters and best estimator\n",
    "best_params = grid_search_svm.best_params_\n",
    "best_estimator = grid_search_svm.best_estimator_\n",
    "print(f'\\033[1;31m  \\033[1m  best hyperparameter for SVC:',best_params)\n",
    "print(f'\\033[1;31m  \\033[1m  best estimator for SVC:',best_estimator)"
   ]
  },
  {
   "cell_type": "markdown",
   "id": "e72b1a5b",
   "metadata": {},
   "source": [
    "## 16.3. Fit the grid search on the training data"
   ]
  },
  {
   "cell_type": "code",
   "execution_count": null,
   "id": "61948ee6",
   "metadata": {},
   "outputs": [],
   "source": [
    "# Fit the grid search on the training data\n",
    "grid_search_svm.fit(x_train, y_train)\n"
   ]
  },
  {
   "cell_type": "markdown",
   "id": "61ad4c04",
   "metadata": {},
   "source": [
    "## 16.4. Make Predictions/ Test model"
   ]
  },
  {
   "cell_type": "code",
   "execution_count": null,
   "id": "f975181b",
   "metadata": {},
   "outputs": [],
   "source": [
    "# Make predictions on the test data using the best estimator\n",
    "y_pred_svm = best_estimator.predict(x_test)\n",
    "y_pred_svm"
   ]
  },
  {
   "cell_type": "code",
   "execution_count": null,
   "id": "c5a92787",
   "metadata": {},
   "outputs": [],
   "source": [
    "# Making predictions on the training data using the trained SVM classifier.\n",
    "y_pred_svm_train = best_estimator.predict(x_train)\n",
    "y_pred_svm_train"
   ]
  },
  {
   "cell_type": "markdown",
   "id": "72e40c25",
   "metadata": {},
   "source": [
    "# 16.5. Evaluating the Model"
   ]
  },
  {
   "cell_type": "markdown",
   "id": "7b6b4f69",
   "metadata": {},
   "source": [
    "## 16.5.1. Confusion Matrix"
   ]
  },
  {
   "cell_type": "markdown",
   "id": "2cbcea07",
   "metadata": {},
   "source": [
    ">- Creating a ConfusionMatrixDisplay object and visualize the confusion matrix by providing the true labels and predicted labels ."
   ]
  },
  {
   "cell_type": "code",
   "execution_count": null,
   "id": "eb75a1ae",
   "metadata": {},
   "outputs": [],
   "source": [
    "# Plot non-normalized confusion matrix\n",
    "# Define titles and options for confusion matrix display\n",
    "titles_options = [\n",
    "    (\"Confusion matrix, without normalization\", None),\n",
    "    (\"Normalized confusion matrix\", \"true\"),\n",
    "]\n",
    "# Loop through each title and normalization option\n",
    "for title, normalize in titles_options:\n",
    "    # Fit the grid search on the training data and create a confusion matrix display\n",
    "    disp = ConfusionMatrixDisplay.from_estimator(\n",
    "        grid_search_svm.fit(x_train, y_train),# Fit the grid search on the training data\n",
    "        x_test,# Test features\n",
    "        y_test,# True labels for the test set\n",
    "        display_labels=['1', '2', '3', '4','5','6'],# Class labels\n",
    "        cmap=plt.cm.Greens, # Color map for the display\n",
    "        normalize=normalize,# Normalization option\n",
    "    )\n",
    "    disp.ax_.set_title(title)# Set the title for the confusion matrix display\n",
    "\n",
    "    print(title)# Print title and confusion matrix\n",
    "    print(disp.confusion_matrix)\n",
    "\n",
    "plt.show()# Show the plots"
   ]
  },
  {
   "cell_type": "markdown",
   "id": "c0a3d4e0",
   "metadata": {},
   "source": [
    "## Confusion Matrix Report Interpretation:\n",
    "\n",
    "1. **Psoriasis (Class 1):**\n",
    "   - True Positives (TP): 34\n",
    "   - No False Positives (FP), False Negatives (FN), or True Negatives (TN).\n",
    "\n",
    "2. **Seboreic Dermatitis (Class 2):**\n",
    "   - TP: 12\n",
    "   - No FP, FN, or TN.\n",
    "\n",
    "3. **Lichen Planus (Class 3):**\n",
    "   - TP: 17\n",
    "   - No FP, FN, or TN.\n",
    "\n",
    "4. **Pityriasis Rosea (Class 4):**\n",
    "   - TP: 9\n",
    "   - Two False Positives (misclassified as Class 2), and no FN or TN.\n",
    "\n",
    "5. **Cronic Dermatitis (Class 5):**\n",
    "   - TP: 14\n",
    "   - No FP, FN, or TN.\n",
    "\n",
    "6. **Pityriasis Rubra Pilaris (Class 6):**\n",
    "   - TP: 4\n",
    "   - No FP, FN, or TN.\n",
    "\n"
   ]
  },
  {
   "cell_type": "markdown",
   "id": "0ed3e8b1",
   "metadata": {},
   "source": [
    "### Plot the comparison report to show where the datapoint misclassified"
   ]
  },
  {
   "cell_type": "code",
   "execution_count": null,
   "id": "3ece880b",
   "metadata": {},
   "outputs": [],
   "source": [
    "# Plot the comparison between the actual and predicted Skin Disorder count\n",
    "plt.figure(figsize=(10,6))\n",
    "plt.scatter(y_test, y_pred_svm, color='blue', label='Data points')\n",
    "plt.plot([y_test.min(), y_test.max()], [y_test.min(), y_test.max()], color='red', label='Diagonal line')\n",
    "plt.xlabel('Actual Skin Disorder')\n",
    "plt.ylabel('Predicted Skin Disorder')\n",
    "plt.title('Comparison between actual and predicted Skin Disorder')\n",
    "plt.legend()\n",
    "plt.show()"
   ]
  },
  {
   "cell_type": "markdown",
   "id": "fb4a2708",
   "metadata": {},
   "source": [
    "#### Insights of confusion_matrix"
   ]
  },
  {
   "cell_type": "markdown",
   "id": "d8e576b1",
   "metadata": {},
   "source": [
    "**This confusion matrix gives a lot of information about the model’s performance:**\n",
    "    \n",
    ">- As usual, the diagonal elements are the correctly predicted samples. A total of 90 samples were correctly predicted out of the total 92 samples. Thus, the overall accuracy is 97.82 %.    \n",
    "\n",
    ">- M_42=2 implies that the model does confuse samples originally belonging to class-4 with class-2, i.e., the classification boundary between classes 4 and 2 was not learned well by the classifier."
   ]
  },
  {
   "cell_type": "markdown",
   "id": "4d0b2032",
   "metadata": {},
   "source": [
    "## 16.5.2. Mean Squared Error , r2_score , Mean Absolute Error , Root Mean Squared Error"
   ]
  },
  {
   "cell_type": "code",
   "execution_count": null,
   "id": "bb50245d",
   "metadata": {},
   "outputs": [],
   "source": [
    "# Evaluate the performance of the model\n",
    "mse = metrics.mean_squared_error(y_test,y_pred_svm)\n",
    "r2 = metrics.r2_score(y_test, y_pred_svm)\n",
    "mae = metrics.mean_absolute_error(y_test,y_pred_svm)\n",
    "rmse = metrics.mean_squared_error(y_test, y_pred_svm, squared=False) \n",
    "\n",
    "\n",
    "\n",
    "print(f'\\033[1;31m  \\033[1m  Mean Squared Error: {mse:.2f}')\n",
    "print(f'\\033[1;31m  \\033[1m  R-squared Score: {r2:.2f}')\n",
    "print(f'\\033[1;31m  \\033[1m  Mean Absolute Error: {mae:.2f}')\n",
    "print(\"\\033[1;31m  \\033[1m  Root Mean Squared Error:\", rmse)"
   ]
  },
  {
   "cell_type": "markdown",
   "id": "ab376dc0",
   "metadata": {},
   "source": [
    "**observation :-**\n",
    " \n",
    ">- MSE: The closer the MSE is to zero, the better the model's predictions align with the actual values.   \n",
    "\n",
    ">- R-squared Score (R2): A higher R2 indicates that a larger proportion of the variance in the target variable is explained by the model.\n",
    "\n",
    ">- MAE: Similar to MSE, a lower MAE indicates better performance. It provides a measure of average prediction error.\n",
    "    \n",
    ">- RMSE: Like MSE, lower RMSE values indicate better model performance. It is in the same scale as the target variable.    "
   ]
  },
  {
   "cell_type": "markdown",
   "id": "2870291c",
   "metadata": {},
   "source": [
    "## 16.5.3. Accuracy Score"
   ]
  },
  {
   "cell_type": "markdown",
   "id": "c3f0141f",
   "metadata": {},
   "source": [
    ">- It will print the accuracy scores for training and testing sets using SVC."
   ]
  },
  {
   "cell_type": "code",
   "execution_count": null,
   "id": "9b443a0a",
   "metadata": {},
   "outputs": [],
   "source": [
    "accuracy_svm = accuracy_score(y_test, y_pred_svm)\n",
    "accuracy_svm_train = accuracy_score(y_train, y_pred_svm_train)\n",
    "print(f'\\033[1;31m  \\033[1m  accuracy of SVC for testing set  :',accuracy_svm)\n",
    "print(f'\\033[1;31m  \\033[1m  accuracy of SVC for training set :',accuracy_svm_train)"
   ]
  },
  {
   "cell_type": "markdown",
   "id": "06dd0301",
   "metadata": {},
   "source": [
    "## 16.5.4. Precision Score"
   ]
  },
  {
   "cell_type": "markdown",
   "id": "843665fe",
   "metadata": {},
   "source": [
    ">- It will calculate the weighted precision score for the model(testing set)."
   ]
  },
  {
   "cell_type": "code",
   "execution_count": null,
   "id": "e1ca5983",
   "metadata": {},
   "outputs": [],
   "source": [
    "precision=precision_score(y_test,y_pred_svm, average='weighted')\n",
    "print(f'\\033[1;31m  \\033[1m  precision_score of SVC:',precision)"
   ]
  },
  {
   "cell_type": "markdown",
   "id": "0928c693",
   "metadata": {},
   "source": [
    "## 16.5.5. f1 score"
   ]
  },
  {
   "cell_type": "markdown",
   "id": "ce17a534",
   "metadata": {},
   "source": [
    ">- It will calculate the weighted f1 score for the testing set."
   ]
  },
  {
   "cell_type": "code",
   "execution_count": null,
   "id": "0d1b7b89",
   "metadata": {},
   "outputs": [],
   "source": [
    "from sklearn.metrics import f1_score\n",
    "f1_score=f1_score(y_test,y_pred_svm, average = 'weighted')\n",
    "print(f'\\033[1;31m  \\033[1m  f1_score of SVC:',f1_score)"
   ]
  },
  {
   "cell_type": "markdown",
   "id": "cf79caec",
   "metadata": {},
   "source": [
    "## 16.5.6. Recall Score"
   ]
  },
  {
   "cell_type": "markdown",
   "id": "079a2033",
   "metadata": {},
   "source": [
    ">- It will calculate the weighted recall score for the model (testing set)."
   ]
  },
  {
   "cell_type": "code",
   "execution_count": null,
   "id": "4cc76115",
   "metadata": {},
   "outputs": [],
   "source": [
    "recall=recall_score(y_test, y_pred_svm, average = 'weighted')\n",
    "print(f'\\033[1;31m  \\033[1m  recall_score of SVC:',recall)"
   ]
  },
  {
   "cell_type": "markdown",
   "id": "0de5e538",
   "metadata": {},
   "source": [
    "# 16.6. Classification Report"
   ]
  },
  {
   "cell_type": "code",
   "execution_count": null,
   "id": "79ea7a57",
   "metadata": {},
   "outputs": [],
   "source": [
    "print(classification_report(y_test, y_pred_svm, target_names=\n",
    "                            ['psoriasis','seboreic_dermatitis','lichen_planus','pityriasis_rosea','cronic_dermatitis',\n",
    "                             'pityriasis_rubra_pilaris']))"
   ]
  },
  {
   "cell_type": "markdown",
   "id": "4a150e38",
   "metadata": {},
   "source": [
    "### SVM Model Classification Report Analysis\n",
    "\n",
    "1. **Psoriasis:**\n",
    "   - Precision: 1.00 (100%) - High precision, indicating few instances predicted as Psoriasis are incorrect.\n",
    "   - Recall: 1.00 (100%) - The model captures all actual instances of Psoriasis.\n",
    "   - F1-Score: 1.00 (100%) - Excellent performance on this class.\n",
    "   - Support: 34 instances.\n",
    "\n",
    "2. **Seborrheic Dermatitis:**\n",
    "   - Precision: 0.86 (86%) - Some instances predicted as Seborrheic Dermatitis may be incorrect.\n",
    "   - Recall: 1.00 (100%) - The model captures all actual instances of Seborrheic Dermatitis.\n",
    "   - F1-Score: 0.92 (92%) - A good balance between precision and recall.\n",
    "   - Support: 12 instances.\n",
    "\n",
    "3. **Lichen Planus:**\n",
    "   - Precision: 1.00 (100%) - All instances predicted as Lichen Planus are correct.\n",
    "   - Recall: 1.00 (100%) - The model captures all actual instances of Lichen Planus.\n",
    "   - F1-Score: 1.00 (100%) - Excellent performance on this class.\n",
    "   - Support: 17 instances.\n",
    "\n",
    "4. **Pityriasis Rosea:**\n",
    "   - Precision: 1.00 (100%) - All instances predicted as Pityriasis Rosea are correct.\n",
    "   - Recall: 0.82 (82%) - The model may miss some instances of Pityriasis Rosea.\n",
    "   - F1-Score: 0.90 (90%) - A moderate balance between precision and recall.\n",
    "   - Support: 11 instances.\n",
    "\n",
    "5. **Chronic Dermatitis:**\n",
    "   - Precision: 1.00 (100%) - All instances predicted as Chronic Dermatitis are correct.\n",
    "   - Recall: 1.00 (100%) - The model captures all actual instances of Chronic Dermatitis.\n",
    "   - F1-Score: 1.00 (100%) - Excellent performance on this class.\n",
    "   - Support: 14 instances.\n",
    "\n",
    "6. **Pityriasis Rubra Pilaris:**\n",
    "   - Precision: 1.00 (100%) - All instances predicted as Pityriasis Rubra Pilaris are correct.\n",
    "   - Recall: 1.00 (100%) - The model captures all actual instances of Pityriasis Rubra Pilaris.\n",
    "   - F1-Score: 1.00 (100%) - Excellent performance on this class.\n",
    "   - Support: 4 instances.\n",
    "\n",
    "#### Accuracy and Averaged Metrics:\n",
    "\n",
    "- **Accuracy:**\n",
    "  - 98% - Overall, the SVM model is accurate in its predictions.\n",
    "\n",
    "- **Macro Avg (Macro-Averaging):**\n",
    "  - Precision: 98% - The average precision across all classes.\n",
    "  - Recall: 97% - The average recall across all classes.\n",
    "  - F1-Score: 97% - The average F1-Score across all classes.\n",
    "\n",
    "- **Weighted Avg (Weighted-Averaging):**\n",
    "  - Precision: 98% - The weighted average precision considering class imbalance.\n",
    "  - Recall: 98% - The weighted average recall considering class imbalance.\n",
    "  - F1-Score: 98% - The weighted average F1-Score considering class imbalance.\n",
    "\n",
    "\n",
    "\n"
   ]
  },
  {
   "cell_type": "markdown",
   "id": "9e929c9a",
   "metadata": {},
   "source": [
    "### Conclusion:\n",
    "\n",
    "The SVM model demonstrates excellent performance across all classes, achieving high precision, recall, and F1-Score. The model is particularly effective in classifying 'Psoriasis,' 'Lichen Planus,' and 'Chronic Dermatitis.' The overall accuracy and balanced metrics suggest that the SVM model is robust and reliable for skin disease classification."
   ]
  },
  {
   "cell_type": "code",
   "execution_count": null,
   "id": "c6dbfc1c",
   "metadata": {},
   "outputs": [],
   "source": []
  },
  {
   "cell_type": "markdown",
   "id": "e24a84de",
   "metadata": {},
   "source": [
    "# 17. Decision Tree"
   ]
  },
  {
   "cell_type": "markdown",
   "id": "2a5d3bee",
   "metadata": {},
   "source": [
    "## Model Building"
   ]
  },
  {
   "cell_type": "code",
   "execution_count": null,
   "id": "17cc6afb",
   "metadata": {},
   "outputs": [],
   "source": [
    "# Importing DecisionTreeClassifier from the 'sklearn.tree'.\n",
    "from sklearn.tree import DecisionTreeClassifier\n"
   ]
  },
  {
   "cell_type": "markdown",
   "id": "408e52ea",
   "metadata": {},
   "source": [
    "## 17.1. Model creation"
   ]
  },
  {
   "cell_type": "markdown",
   "id": "1978ccd7",
   "metadata": {},
   "source": [
    "**For creating a DecisionTreeClassifier model , we are going to implement a pipeline for the Decision Tree Classifier with feature scaling using StandardScaler and hyperparameter tuning using GridSearchCV.** "
   ]
  },
  {
   "cell_type": "markdown",
   "id": "9f7a0a34",
   "metadata": {},
   "source": [
    "**Pipeline Creation:**\n",
    "\n",
    ">- Create a pipeline (pipe_decsT) using Pipeline from scikit-learn.\n",
    ">- The pipeline consists of two steps:\n",
    "    - Step 1 ('sc'): Standardizing the features using StandardScaler().\n",
    "    - Step 2 ('decsT'): Applying Decision Tree Classifier using DecisionTreeClassifier().\n",
    "\n",
    "**Hyperparameter Grid:**\n",
    "\n",
    ">- Define a hyperparameter grid (params_decsT) for the Decision Tree Classifier model, including options for the criterion (gini or entropy) and maximum depth of the tree (max_depth).\n",
    "\n",
    "**GridSearchCV:**\n",
    "\n",
    ">- Use GridSearchCV to perform a search over the hyperparameter grid within the defined pipeline.\n",
    ">- The estimator is set to our pipeline (pipe_decsT), and the hyperparameter grid is set to params_decsT.\n",
    ">- Cross-validation with 5 folds (cv=5) is used to evaluate the performance.\n",
    ">- return_train_score=True ensures that training scores are also returned.\n",
    "\n",
    "**Model Training:**\n",
    "\n",
    ">- The grid search is fit on the training data (x_train, y_train).\n",
    "\n",
    "**Print Best Results:**\n",
    "\n",
    ">- The code prints the best score achieved by the model and the corresponding best hyperparameters."
   ]
  },
  {
   "cell_type": "code",
   "execution_count": null,
   "id": "453dc15c",
   "metadata": {},
   "outputs": [],
   "source": [
    "# Create a pipeline with StandardScaler and  DecisionTreeClassifier \n",
    "pipe_decsT = Pipeline([\n",
    "    ('sc', StandardScaler()),# Step 1: Standardize the features\n",
    "    ('decsT', DecisionTreeClassifier())# Step 2: DecisionTreeClassifier model\n",
    "    ])\n",
    "\n",
    "# Define the hyperparameter grid for DecisionTreeClassifier model\n",
    "params_decsT = {\n",
    "    'decsT__criterion' : ['gini', 'entropy'],\n",
    "    'decsT__max_depth' : np.arange(3, 15)\n",
    "    }\n",
    "\n",
    "# Create GridSearchCV with the pipeline\n",
    "grid_search_decsT = GridSearchCV(estimator=pipe_decsT,\n",
    "                      param_grid=params_decsT,\n",
    "                      cv = 5,\n",
    "                      return_train_score=True)\n",
    "\n",
    "# Fit the grid search on the training data\n",
    "grid_search_decsT.fit(x_train, y_train)\n",
    "print(f\" Best score is: {grid_search_decsT.best_score_} with parameters: {grid_search_decsT.best_params_}\")"
   ]
  },
  {
   "cell_type": "markdown",
   "id": "f6f8c98c",
   "metadata": {},
   "source": [
    "## 17.2. best parameters and best estimator"
   ]
  },
  {
   "cell_type": "code",
   "execution_count": null,
   "id": "2327bbdd",
   "metadata": {},
   "outputs": [],
   "source": [
    "# Get the best parameters and best estimator\n",
    "best_params = grid_search_decsT.best_params_\n",
    "best_estimator = grid_search_decsT.best_estimator_\n",
    "print(f'\\033[1;31m  \\033[1m  best hyperparameter for DecisionTreeClassifier:',best_params)\n",
    "print()\n",
    "print(f'\\033[1;31m  \\033[1m  best estimator for DecisionTreeClassifier:',best_estimator)\n"
   ]
  },
  {
   "cell_type": "markdown",
   "id": "c798c0cd",
   "metadata": {},
   "source": [
    "## 17.3. Fit the grid search on the training data"
   ]
  },
  {
   "cell_type": "code",
   "execution_count": null,
   "id": "9bf3b59c",
   "metadata": {},
   "outputs": [],
   "source": [
    "\n",
    "# Fit the grid search on the training data\n",
    "grid_search_decsT.fit(x_train, y_train)"
   ]
  },
  {
   "cell_type": "markdown",
   "id": "6fce3450",
   "metadata": {},
   "source": [
    "## 17.4. Make Predictions/ Test model"
   ]
  },
  {
   "cell_type": "code",
   "execution_count": null,
   "id": "5a1e2c09",
   "metadata": {},
   "outputs": [],
   "source": [
    "# Make predictions on the test data using the best estimator\n",
    "y_pred_decsT = best_estimator.predict(x_test)\n",
    "# The predicted labels are stored in the variable 'y_pred'.\n",
    "y_pred_decsT"
   ]
  },
  {
   "cell_type": "code",
   "execution_count": null,
   "id": "bb1a9467",
   "metadata": {},
   "outputs": [],
   "source": [
    "# Making predictions on the training data using the trained DecisionTreeClassifier.\n",
    "y_pred_decsT_train = best_estimator.predict(x_train)\n",
    "y_pred_decsT_train"
   ]
  },
  {
   "cell_type": "markdown",
   "id": "826fa758",
   "metadata": {},
   "source": [
    "## 17.5. Decision Tree Regressor Visualization"
   ]
  },
  {
   "cell_type": "markdown",
   "id": "0ff649f2",
   "metadata": {},
   "source": [
    " **we are going to used the DecisionTreeRegressor from scikit-learn to fit a decision tree regression model and visualize the resulting tree structure.**"
   ]
  },
  {
   "cell_type": "code",
   "execution_count": null,
   "id": "223df47c",
   "metadata": {},
   "outputs": [],
   "source": [
    "# Import necessary libraries\n",
    "from sklearn import tree\n",
    "\n",
    "# Specify the target column and feature columns\n",
    "target_col = \"class\"\n",
    "use_cols = list(set(df_copy_2.columns) - set([target_col]))\n",
    "len(use_cols)\n",
    "\n",
    "# Create a Decision Tree Regressor with max depth of 3\n",
    "tree_reg = tree.DecisionTreeRegressor(max_depth=3)\n",
    "tree_reg.fit(x_train, y_train)\n",
    "\n",
    "# Plot the Decision Tree\n",
    "fig = plt.figure(figsize=(20, 5))\n",
    "tree.plot_tree(tree_reg, feature_names=use_cols, filled=True)\n",
    "plt.show()"
   ]
  },
  {
   "cell_type": "markdown",
   "id": "8743da6c",
   "metadata": {},
   "source": [
    "### **Decision Tree Regressor Analysis**\n",
    "\n",
    ">- The Decision Tree Regressor, with a depth of 3, provides a simple and interpretable model for regression tasks. It allows for an understanding of how different features contribute to predictions. Further tuning and exploration of different tree depths may be considered to optimize the model's performance."
   ]
  },
  {
   "cell_type": "markdown",
   "id": "87a34f78",
   "metadata": {},
   "source": [
    "# 17.6. Evaluating the Model"
   ]
  },
  {
   "cell_type": "markdown",
   "id": "795ff039",
   "metadata": {},
   "source": [
    "## 17.6.1. Confusion Matrix"
   ]
  },
  {
   "cell_type": "markdown",
   "id": "d37e4bd8",
   "metadata": {},
   "source": [
    ">- Creating a ConfusionMatrixDisplay object and visualize the confusion matrix by providing the true labels and predicted labels"
   ]
  },
  {
   "cell_type": "code",
   "execution_count": null,
   "id": "8ac99350",
   "metadata": {},
   "outputs": [],
   "source": [
    "# Plot non-normalized confusion matrix\n",
    "# Define titles and options for confusion matrix display\n",
    "titles_options = [\n",
    "    (\"Confusion matrix, without normalization\", None),\n",
    "    (\"Normalized confusion matrix\", \"true\"),\n",
    "]\n",
    "\n",
    "# Loop through each title and normalization option\n",
    "for title, normalize in titles_options:\n",
    "    # Fit the grid search on the training data and create a confusion matrix display\n",
    "    disp = ConfusionMatrixDisplay.from_estimator(\n",
    "        grid_search_decsT.fit(x_train, y_train),# Fit the grid search on the training data\n",
    "        x_test,# Test features\n",
    "        y_test,# True labels for the test set\n",
    "        display_labels=['1', '2', '3', '4','5','6'],# Class labels\n",
    "        cmap=plt.cm.Greens, # Color map for the display\n",
    "        normalize=normalize, # Normalization option\n",
    "    )\n",
    "    disp.ax_.set_title(title) # Set the title for the confusion matrix display\n",
    "\n",
    "    print(title)# Print title and confusion matrix\n",
    "    print(disp.confusion_matrix)\n",
    "\n",
    "plt.show() # Show the plots"
   ]
  },
  {
   "cell_type": "markdown",
   "id": "0cfab416",
   "metadata": {},
   "source": [
    "## Confusion Matrix Report Interpretation:\n",
    "\n",
    "1. **Psoriasis (Class 1):**\n",
    "   - True Positives (TP): 34\n",
    "   - No False Positives (FP), False Negatives (FN), or True Negatives (TN).\n",
    "\n",
    "2. **Seboreic Dermatitis (Class 2):**\n",
    "   - TP: 12\n",
    "   - No FP, FN, or TN.\n",
    "\n",
    "3. **Lichen Planus (Class 3):**\n",
    "   - TP: 16\n",
    "   - One False Positive (misclassified as Class 2), and no FN or TN.\n",
    "\n",
    "4. **Pityriasis Rosea (Class 4):**\n",
    "   - TP: 11\n",
    "   - No FP, FN, or TN.\n",
    "\n",
    "5. **Cronic Dermatitis (Class 5):**\n",
    "   - TP: 14\n",
    "   - No FP, FN, or TN.\n",
    "\n",
    "6. **Pityriasis Rubra Pilaris (Class 6):**\n",
    "   - TP: 3\n",
    "   - One False Positive (misclassified as Class 5), and no FN or TN.\n",
    "\n"
   ]
  },
  {
   "cell_type": "markdown",
   "id": "b4e2aa6b",
   "metadata": {},
   "source": [
    "### Plot the comparison report to show where the datapoint misclassified"
   ]
  },
  {
   "cell_type": "code",
   "execution_count": null,
   "id": "87debd50",
   "metadata": {},
   "outputs": [],
   "source": [
    "# Plot the comparison between the actual and predicted Skin Disorder count\n",
    "plt.figure(figsize=(10,6))\n",
    "plt.scatter(y_test, y_pred_decsT, color='blue', label='Data points')\n",
    "plt.plot([y_test.min(), y_test.max()], [y_test.min(), y_test.max()], color='red', label='Diagonal line')\n",
    "plt.xlabel('Actual Skin Disorder')\n",
    "plt.ylabel('Predicted Skin Disorder')\n",
    "plt.title('Comparison between actual and predicted Skin Disorder')\n",
    "plt.legend()\n",
    "plt.show()"
   ]
  },
  {
   "cell_type": "markdown",
   "id": "857aa21a",
   "metadata": {},
   "source": [
    "#### Insights of confusion_matrix"
   ]
  },
  {
   "cell_type": "markdown",
   "id": "78223399",
   "metadata": {},
   "source": [
    "**This confusion matrix gives a lot of information about the model’s performance:**\n",
    "    \n",
    ">- As usual, the diagonal elements are the correctly predicted samples. A total of 89 samples were correctly predicted out of the total 92 samples. Thus, the overall accuracy is 96.73 %.\n",
    "\n",
    ">- M_32=2 implies that the model does confuse samples originally belonging to class-3 with class-2, i.e., the classification boundary between classes 3 and 2 was not learned well by the classifier.\n",
    "\n",
    ">- M_62=1 implies that the model does confuse samples originally belonging to class-6 with class-2, i.e., the classification boundary between classes 6 and 2 was not learned well by the classifier."
   ]
  },
  {
   "cell_type": "markdown",
   "id": "6a13d223",
   "metadata": {},
   "source": [
    "## 17.6.2. Mean Squared Error , r2_score , Mean Absolute Error , Root Mean Squared Error"
   ]
  },
  {
   "cell_type": "code",
   "execution_count": null,
   "id": "50ea51a5",
   "metadata": {},
   "outputs": [],
   "source": [
    "# Evaluate the performance of the model\n",
    "mse = metrics.mean_squared_error(y_test,y_pred_decsT)\n",
    "r2 = metrics.r2_score(y_test, y_pred_decsT)\n",
    "mae = metrics.mean_absolute_error(y_test, y_pred_decsT)\n",
    "rmse = metrics.mean_squared_error(y_test, y_pred_decsT, squared=False) \n",
    "\n",
    "\n",
    "\n",
    "print(f'\\033[1;31m  \\033[1m  Mean Squared Error: {mse:.2f}')\n",
    "print(f'\\033[1;31m  \\033[1m  R-squared Score: {r2:.2f}')\n",
    "print(f'\\033[1;31m  \\033[1m  Mean Absolute Error: {mae:.2f}')\n",
    "print(\"\\033[1;31m  \\033[1m  Root Mean Squared Error:\", rmse)"
   ]
  },
  {
   "cell_type": "markdown",
   "id": "e5d21997",
   "metadata": {},
   "source": [
    "**observation :-**\n",
    " \n",
    ">- MSE: The closer the MSE is to zero, the better the model's predictions align with the actual values.   \n",
    "\n",
    ">- R-squared Score (R2): A higher R2 indicates that a larger proportion of the variance in the target variable is explained by the model.\n",
    "\n",
    ">- MAE: Similar to MSE, a lower MAE indicates better performance. It provides a measure of average prediction error.\n",
    "    \n",
    ">- RMSE: Like MSE, lower RMSE values indicate better model performance. It is in the same scale as the target variable.    "
   ]
  },
  {
   "cell_type": "markdown",
   "id": "0c5ddbac",
   "metadata": {},
   "source": [
    "## 17.6.3. Accuracy Score"
   ]
  },
  {
   "cell_type": "markdown",
   "id": "2eab8c98",
   "metadata": {},
   "source": [
    ">- It will print the accuracy scores for training and testing sets using KNeighborsClassifier."
   ]
  },
  {
   "cell_type": "code",
   "execution_count": null,
   "id": "920fe80f",
   "metadata": {},
   "outputs": [],
   "source": [
    "#accuracy of DecisionTreeClassifier for testing set\n",
    "accuracy_decsT = accuracy_score(y_test, y_pred_decsT)\n",
    "#accuracy of DecisionTreeClassifier for training set\n",
    "accuracy_decsT_train = accuracy_score(y_train, y_pred_decsT_train)\n",
    "print(f'\\033[1;31m  \\033[1m  accuracy of DecisionTreeClassifier for testing set :',accuracy_decsT)\n",
    "print(f'\\033[1;31m  \\033[1m  accuracy of DecisionTreeClassifier for training set:',accuracy_decsT_train)"
   ]
  },
  {
   "cell_type": "markdown",
   "id": "8bd44c1b",
   "metadata": {},
   "source": [
    "## 17.6.4. Precision Score"
   ]
  },
  {
   "cell_type": "markdown",
   "id": "f972cca2",
   "metadata": {},
   "source": [
    ">- It will calculate the weighted precision score for the model(testing set)."
   ]
  },
  {
   "cell_type": "code",
   "execution_count": null,
   "id": "35a90e30",
   "metadata": {},
   "outputs": [],
   "source": [
    "precision=precision_score(y_test,y_pred_decsT, average='weighted')\n",
    "print(f'\\033[1;31m  \\033[1m  precision_score of DecisionTreeClassifier:',precision)"
   ]
  },
  {
   "cell_type": "markdown",
   "id": "bbc05dce",
   "metadata": {},
   "source": [
    "## 17.6.5. f1 score"
   ]
  },
  {
   "cell_type": "markdown",
   "id": "9879a848",
   "metadata": {},
   "source": [
    ">- It will calculate the weighted f1 score for the testing set."
   ]
  },
  {
   "cell_type": "code",
   "execution_count": null,
   "id": "49d6a370",
   "metadata": {},
   "outputs": [],
   "source": [
    "from sklearn.metrics import f1_score\n",
    "f1_score=f1_score(y_test, y_pred_decsT, average = 'weighted')\n",
    "print(f'\\033[1;31m  \\033[1m  f1_score of DecisionTreeClassifier:',f1_score)"
   ]
  },
  {
   "cell_type": "markdown",
   "id": "187b3e47",
   "metadata": {},
   "source": [
    "## 17.6.6. Recall Score"
   ]
  },
  {
   "cell_type": "markdown",
   "id": "1bcadd37",
   "metadata": {},
   "source": [
    ">- It will calculate the weighted recall score for the model (testing set)."
   ]
  },
  {
   "cell_type": "code",
   "execution_count": null,
   "id": "e55fd026",
   "metadata": {},
   "outputs": [],
   "source": [
    "recall=recall_score(y_test,y_pred_decsT, average = 'weighted')\n",
    "print(f'\\033[1;31m  \\033[1m  recall_score of DecisionTreeClassifier:',recall)"
   ]
  },
  {
   "cell_type": "markdown",
   "id": "e8843df8",
   "metadata": {},
   "source": [
    "## 17.7. Classification Report"
   ]
  },
  {
   "cell_type": "code",
   "execution_count": null,
   "id": "0455f4df",
   "metadata": {},
   "outputs": [],
   "source": [
    "print(classification_report(y_test,y_pred_decsT, target_names=\n",
    "                            ['psoriasis','seboreic_dermatitis','lichen_planus','pityriasis_rosea','cronic_dermatitis',\n",
    "                             'pityriasis_rubra_pilaris']))"
   ]
  },
  {
   "cell_type": "markdown",
   "id": "e15242a6",
   "metadata": {},
   "source": [
    "### Decision Tree Classifier Report\n",
    "\n",
    "\n",
    "1. **Psoriasis:**\n",
    "   - Perfect precision, recall, and F1-Score (all 1.00), indicating accurate and reliable predictions for psoriasis.\n",
    "\n",
    "2. **Seboreic Dermatitis:**\n",
    "   - High precision (0.92) and perfect recall and F1-Score (both 1.00), showcasing strong performance.\n",
    "\n",
    "3. **Lichen Planus:**\n",
    "   - Perfect precision, recall, and F1-Score (all 1.00), demonstrating accurate predictions for lichen planus.\n",
    "\n",
    "4. **Pityriasis Rosea:**\n",
    "   - Perfect precision, recall, and F1-Score (all 1.00), reflecting precise predictions for pityriasis rosea.\n",
    "\n",
    "5. **Cronic Dermatitis:**\n",
    "   - Perfect precision, recall, and F1-Score (all 1.00), indicating excellent performance for cronic dermatitis.\n",
    "\n",
    "6. **Pityriasis Rubra Pilaris:**\n",
    "   - High precision (1.00) but lower recall (0.75) and F1-Score (0.86), suggesting some room for improvement.\n",
    "\n",
    "#### Model Evaluation Metrics:\n",
    "\n",
    "1. **Accuracy:**\n",
    "   - Overall accuracy of 99%, indicating a highly reliable model.\n",
    "\n",
    "2. **Macro Average:**\n",
    "   - Macro-average precision, recall, and F1-Score are 0.99, 0.96, and 0.97, respectively, showcasing consistent performance across classes.\n",
    "\n",
    "3. **Weighted Average:**\n",
    "   - Weighted-average precision, recall, and F1-Score are 0.99, 0.99, and 0.99, respectively, reflecting robust performance considering class imbalances.\n"
   ]
  },
  {
   "cell_type": "markdown",
   "id": "8c6a803e",
   "metadata": {},
   "source": [
    "### Conclusion:\n",
    "\n",
    "The Decision Tree Classifier, with its high accuracy and balanced precision-recall performance, proves to be a valuable model for predicting skin diseases. It provides detailed insights into each class's predictive capabilities and can be considered a reliable tool in a dermatological diagnostic setting."
   ]
  },
  {
   "cell_type": "code",
   "execution_count": null,
   "id": "c032c0ba",
   "metadata": {},
   "outputs": [],
   "source": []
  },
  {
   "cell_type": "markdown",
   "id": "254fe7fe",
   "metadata": {},
   "source": [
    "# 18. Random Forest Classifier "
   ]
  },
  {
   "cell_type": "markdown",
   "id": "c9698289",
   "metadata": {},
   "source": [
    "## Model Building"
   ]
  },
  {
   "cell_type": "code",
   "execution_count": null,
   "id": "d41f765b",
   "metadata": {},
   "outputs": [],
   "source": [
    "from sklearn.ensemble import RandomForestClassifier\n"
   ]
  },
  {
   "cell_type": "markdown",
   "id": "ea9808e1",
   "metadata": {},
   "source": [
    "## 18.1. Model creation"
   ]
  },
  {
   "cell_type": "markdown",
   "id": "85603638",
   "metadata": {},
   "source": [
    "**For creating a RandomForestClassifier model, we have performed hyperparameter tuning for a Random Forest Classifier using Grid Search.**"
   ]
  },
  {
   "cell_type": "markdown",
   "id": "f91d9a61",
   "metadata": {},
   "source": [
    "**Random Forest Classifier:**\n",
    "\n",
    ">- Create an instance of the Random Forest Classifier (rf_classifier) with a specified random state.\n",
    "\n",
    "**Hyperparameter Grid:**\n",
    "\n",
    ">- Define a hyperparameter grid (param_rf) that includes options for the number of estimators, maximum features, and whether to bootstrap.\n",
    "\n",
    "**GridSearchCV:**\n",
    "\n",
    ">- Create an instance of the GridSearchCV class (grid_search_rf) to perform a search over the hyperparameter grid.\n",
    ">- Set the estimator to the Random Forest Classifier, the hyperparameter grid to param_rf, and use 5-fold cross-validation (cv=5).\n",
    ">- return_train_score=True ensures that training scores are also returned.\n",
    "\n",
    "**Model Training:**\n",
    "\n",
    ">- Fit the grid search on the training data (x_train, y_train).\n",
    "\n",
    "**Print Best Results:**\n",
    "\n",
    ">- Print the best score achieved by the model and the corresponding best hyperparameters."
   ]
  },
  {
   "cell_type": "code",
   "execution_count": null,
   "id": "846d41d1",
   "metadata": {},
   "outputs": [],
   "source": [
    "# Random Forest Classifier Hyperparameter Tuning and Grid Search\n",
    "# Create a Random Forest Classifier\n",
    "rf_classifier = RandomForestClassifier(random_state=42)\n",
    "\n",
    "# Define the parameter grid for hyperparameter tuning\n",
    "param_rf = {\n",
    "    \"n_estimators\": [10, 50, 100],\n",
    "    \"max_features\": [\"auto\", \"log2\", \"sqrt\"],\n",
    "    \"bootstrap\": [True, False]\n",
    "}\n",
    "\n",
    "\n",
    "# Create an instance of the GridSearchCV class\n",
    "grid_search_rf = GridSearchCV(estimator=rf_classifier,\n",
    "                    param_grid=param_rf,\n",
    "                    return_train_score=True,\n",
    "                    cv=5)\n",
    "\n",
    "# Fit the grid search on the training data\n",
    "grid_search_rf.fit(x_train, y_train)\n",
    "print(f\" Best score is: {grid_search_rf.best_score_} with parameters: {grid_search_rf.best_params_}\")\n"
   ]
  },
  {
   "cell_type": "markdown",
   "id": "bec7ed43",
   "metadata": {},
   "source": [
    "## 18.2. best parameters and best estimator"
   ]
  },
  {
   "cell_type": "code",
   "execution_count": null,
   "id": "2b74d44b",
   "metadata": {},
   "outputs": [],
   "source": [
    "# Get the best parameters and best estimator\n",
    "best_params =grid_search_rf.best_params_\n",
    "best_estimator = grid_search_rf.best_estimator_\n",
    "print(f'\\033[1;31m  \\033[1m  best hyperparameter for RandomForestClassifier:',best_params)\n",
    "print()\n",
    "print(f'\\033[1;31m  \\033[1m  best estimator for RandomForestClassifier:',best_estimator)\n"
   ]
  },
  {
   "cell_type": "markdown",
   "id": "3320296a",
   "metadata": {},
   "source": [
    "## 18.3. Fit the grid search on the training data"
   ]
  },
  {
   "cell_type": "code",
   "execution_count": null,
   "id": "5bacddcc",
   "metadata": {},
   "outputs": [],
   "source": [
    "# Fit the grid search on the training data\n",
    "grid_search_rf.fit(x_train, y_train)"
   ]
  },
  {
   "cell_type": "markdown",
   "id": "c7c4f4f7",
   "metadata": {},
   "source": [
    "## 18.4. Make Predictions/ Test model"
   ]
  },
  {
   "cell_type": "code",
   "execution_count": null,
   "id": "654d75ce",
   "metadata": {},
   "outputs": [],
   "source": [
    "# Make predictions on the test data using the best estimator\n",
    "y_pred_rf = best_estimator.predict(x_test)\n",
    "# The predicted labels are stored in the variable 'y_pred'.\n",
    "y_pred_rf"
   ]
  },
  {
   "cell_type": "code",
   "execution_count": null,
   "id": "c88ff842",
   "metadata": {},
   "outputs": [],
   "source": [
    "# Making predictions on the training data using the trained RandomForestClassifier\n",
    "y_pred_rf_train = best_estimator.predict(x_train)\n",
    "y_pred_rf_train"
   ]
  },
  {
   "cell_type": "markdown",
   "id": "90d14439",
   "metadata": {},
   "source": [
    "## 18.5. Evaluating the Model"
   ]
  },
  {
   "cell_type": "markdown",
   "id": "8ca3602d",
   "metadata": {},
   "source": [
    "### 18.5.1 Confusion Matrix"
   ]
  },
  {
   "cell_type": "markdown",
   "id": "0df592cb",
   "metadata": {},
   "source": [
    ">- Creating a ConfusionMatrixDisplay object and visualize the confusion matrix by providing the true labels (y_test) and predicted labels (y_test_pred).\n",
    "\n"
   ]
  },
  {
   "cell_type": "code",
   "execution_count": null,
   "id": "4b0f56b9",
   "metadata": {},
   "outputs": [],
   "source": [
    "# Plot non-normalized confusion matrix\n",
    "# Define titles and options for confusion matrix display\n",
    "titles_options = [\n",
    "    (\"Confusion matrix, without normalization\", None),\n",
    "    (\"Normalized confusion matrix\", \"true\"),\n",
    "]\n",
    "# Loop through each title and normalization option\n",
    "for title, normalize in titles_options:\n",
    "    # Fit the grid search on the training data and create a confusion matrix display\n",
    "    disp = ConfusionMatrixDisplay.from_estimator(\n",
    "        grid_search_rf.fit(x_train, y_train),# Fit the grid search on the training data\n",
    "        x_test,# Test features\n",
    "        y_test,# True labels for the test set\n",
    "        display_labels=['1', '2', '3', '4','5','6'],# Class labels\n",
    "        cmap=plt.cm.Greens,# Color map for the display\n",
    "        normalize=normalize,# Normalization option\n",
    "    )\n",
    "    disp.ax_.set_title(title)# Set the title for the confusion matrix display\n",
    "\n",
    "    print(title)# Print title and confusion matrix\n",
    "    print(disp.confusion_matrix)\n",
    "\n",
    "plt.show()# Show the plots"
   ]
  },
  {
   "cell_type": "markdown",
   "id": "1572540f",
   "metadata": {},
   "source": [
    "## Confusion Matrix Report Interpretation:\n",
    "\n",
    "1. **Psoriasis (Class 1):**\n",
    "   - True Positives (TP): 34\n",
    "   - No False Positives (FP), False Negatives (FN), or True Negatives (TN).\n",
    "\n",
    "2. **Seboreic Dermatitis (Class 2):**\n",
    "   - TP: 12\n",
    "   - No FP, FN, or TN.\n",
    "\n",
    "3. **Lichen Planus (Class 3):**\n",
    "   - TP: 17\n",
    "   - No FP, FN, or TN.\n",
    "\n",
    "4. **Pityriasis Rosea (Class 4):**\n",
    "   - TP: 10\n",
    "   - One False Positive (misclassified as Class 3), and no FN or TN.\n",
    "\n",
    "5. **Cronic Dermatitis (Class 5):**\n",
    "   - TP: 14\n",
    "   - No FP, FN, or TN.\n",
    "\n",
    "6. **Pityriasis Rubra Pilaris (Class 6):**\n",
    "   - TP: 3\n",
    "   - No FP, FN, or TN.\n",
    "\n"
   ]
  },
  {
   "cell_type": "markdown",
   "id": "8c245a6e",
   "metadata": {},
   "source": [
    "### Plot the comparison report to show where the datapoint misclassified"
   ]
  },
  {
   "cell_type": "code",
   "execution_count": null,
   "id": "b91183e0",
   "metadata": {},
   "outputs": [],
   "source": [
    "# Plot the comparison between the actual and predicted Skin Disorder\n",
    "\n",
    "plt.figure(figsize=(10,6))\n",
    "plt.scatter(y_test, y_pred_rf, color='blue', label='Data points')\n",
    "plt.plot([y_test.min(), y_test.max()], [y_test.min(), y_test.max()], color='red', label='Diagonal line')\n",
    "plt.xlabel('Actual Skin Disorder')\n",
    "plt.ylabel('Predicted Skin Disorder')\n",
    "plt.title('Comparison between actual and predicted Skin Disorder')\n",
    "plt.legend()\n",
    "plt.show()"
   ]
  },
  {
   "cell_type": "markdown",
   "id": "4103db38",
   "metadata": {},
   "source": [
    "#### Insights of confusion_matrix"
   ]
  },
  {
   "cell_type": "markdown",
   "id": "09cfa118",
   "metadata": {},
   "source": [
    "**This confusion matrix gives a lot of information about the model’s performance:**\n",
    "\n",
    ">- As usual, the diagonal elements are the correctly predicted samples. A total of 90 samples were correctly predicted out of the total 92 samples. Thus, the overall accuracy is 97.82 %.\n",
    "\n",
    ">- M_42=1 implies that the model does confuse samples originally belonging to class-4 with class-2, i.e., the classification boundary between classes 4 and 2 was not learned well by the classifier.\n",
    "\n",
    ">- M_61=1 implies that the model does confuse samples originally belonging to class-6 with class-1, i.e., the classification boundary between classes 6 and 1 was not learned well by the classifier."
   ]
  },
  {
   "cell_type": "markdown",
   "id": "a5721ce2",
   "metadata": {},
   "source": [
    "## 18.5.2. Mean Squared Error , r2_score , Mean Absolute Error , Root Mean Squared Error"
   ]
  },
  {
   "cell_type": "code",
   "execution_count": null,
   "id": "3fb8953e",
   "metadata": {},
   "outputs": [],
   "source": [
    "# Evaluate the performance of the model\n",
    "mse = metrics.mean_squared_error(y_test,y_pred_rf)\n",
    "r2 = metrics.r2_score(y_test, y_pred_rf)\n",
    "mae = metrics.mean_absolute_error(y_test,y_pred_rf)\n",
    "rmse = metrics.mean_squared_error(y_test,y_pred_rf, squared=False) \n",
    "\n",
    "\n",
    "\n",
    "print(f'\\033[1;31m  \\033[1m  Mean Squared Error: {mse:.2f}')\n",
    "print(f'\\033[1;31m  \\033[1m  R-squared Score: {r2:.2f}')\n",
    "print(f'\\033[1;31m  \\033[1m  Mean Absolute Error: {mae:.2f}')\n",
    "print(\"\\033[1;31m  \\033[1m  Root Mean Squared Error:\", rmse)"
   ]
  },
  {
   "cell_type": "markdown",
   "id": "9d4198f6",
   "metadata": {},
   "source": [
    "**observation :-**\n",
    " \n",
    ">- MSE: The closer the MSE is to zero, the better the model's predictions align with the actual values.   \n",
    "\n",
    ">- R-squared Score (R2): A higher R2 indicates that a larger proportion of the variance in the target variable is explained by the model.\n",
    "\n",
    ">- MAE: Similar to MSE, a lower MAE indicates better performance. It provides a measure of average prediction error.\n",
    "    \n",
    ">- RMSE: Like MSE, lower RMSE values indicate better model performance. It is in the same scale as the target variable.    "
   ]
  },
  {
   "cell_type": "markdown",
   "id": "71ba9c7a",
   "metadata": {},
   "source": [
    "## 18.5.3.Accuracy Score"
   ]
  },
  {
   "cell_type": "markdown",
   "id": "95fbdd5b",
   "metadata": {},
   "source": [
    ">- It will print the accuracy scores for training and testing sets using RandomForestClassifier."
   ]
  },
  {
   "cell_type": "code",
   "execution_count": null,
   "id": "75e97fd4",
   "metadata": {},
   "outputs": [],
   "source": [
    "accuracy_rf = accuracy_score(y_test, y_pred_rf)\n",
    "accuracy_rf_train = accuracy_score(y_train, y_pred_rf_train)\n",
    "print(f'\\033[1;31m  \\033[1m  accuracy of RandomForestClassifier for testing set :',accuracy_rf)\n",
    "print(f'\\033[1;31m  \\033[1m  accuracy of RandomForestClassifier for  training set:',accuracy_rf_train)"
   ]
  },
  {
   "cell_type": "markdown",
   "id": "10e54960",
   "metadata": {},
   "source": [
    "## 18.5.4. Precision Score"
   ]
  },
  {
   "cell_type": "markdown",
   "id": "77f8c81b",
   "metadata": {},
   "source": [
    ">- It will calculate the weighted precision score for the model(testing set)."
   ]
  },
  {
   "cell_type": "code",
   "execution_count": null,
   "id": "e4d76061",
   "metadata": {},
   "outputs": [],
   "source": [
    "precision=precision_score(y_test, y_pred_rf, average='weighted')\n",
    "print(f'\\033[1;31m  \\033[1m  precision_score of RandomForestClassifier:',precision)"
   ]
  },
  {
   "cell_type": "markdown",
   "id": "ff60c4c2",
   "metadata": {},
   "source": [
    "## 18.5.5. f1 score"
   ]
  },
  {
   "cell_type": "markdown",
   "id": "790147ab",
   "metadata": {},
   "source": [
    ">- It will calculate the weighted f1 score for the testing set."
   ]
  },
  {
   "cell_type": "code",
   "execution_count": null,
   "id": "a6eb62e7",
   "metadata": {},
   "outputs": [],
   "source": [
    "from sklearn.metrics import f1_score\n",
    "f1_score=f1_score(y_test, y_pred_rf, average = 'weighted')\n",
    "print(f'\\033[1;31m  \\033[1m  f1_score of RandomForestClassifier:',f1_score)"
   ]
  },
  {
   "cell_type": "markdown",
   "id": "b944697a",
   "metadata": {},
   "source": [
    "## 18.5.6. Recall Score"
   ]
  },
  {
   "cell_type": "markdown",
   "id": "edbfeef2",
   "metadata": {},
   "source": [
    ">- It will calculate the weighted recall score for the model (testing set)."
   ]
  },
  {
   "cell_type": "code",
   "execution_count": null,
   "id": "e00a9d08",
   "metadata": {},
   "outputs": [],
   "source": [
    "recall=recall_score(y_test, y_pred_rf, average = 'weighted')\n",
    "print(f'\\033[1;31m  \\033[1m  recall_score of RandomForestClassifier:',recall)"
   ]
  },
  {
   "cell_type": "markdown",
   "id": "81cb8636",
   "metadata": {},
   "source": [
    "## 18.6 Classification Report"
   ]
  },
  {
   "cell_type": "code",
   "execution_count": null,
   "id": "fa46b91c",
   "metadata": {},
   "outputs": [],
   "source": [
    "print(classification_report(y_test, y_pred_rf, target_names=\n",
    "                            ['psoriasis','seboreic_dermatitis','lichen_planus','pityriasis_rosea','cronic_dermatitis',\n",
    "                             'pityriasis_rubra_pilaris']))"
   ]
  },
  {
   "cell_type": "markdown",
   "id": "4becf67f",
   "metadata": {},
   "source": [
    "### Random Forest Classifier Report\n",
    "\n",
    "#### Class-specific Analysis:\n",
    "\n",
    "1. **Psoriasis:**\n",
    "   - High precision (0.97) and perfect recall and F1-Score (both 1.00), indicating accurate and reliable predictions for psoriasis.\n",
    "\n",
    "2. **Seboreic Dermatitis:**\n",
    "   - High precision (0.92) and perfect recall and F1-Score (both 1.00), showcasing strong performance.\n",
    "\n",
    "3. **Lichen Planus:**\n",
    "   - Perfect precision, recall, and F1-Score (all 1.00), demonstrating accurate predictions for lichen planus.\n",
    "\n",
    "4. **Pityriasis Rosea:**\n",
    "   - High precision (1.00) and recall (0.91), resulting in a balanced F1-Score of 0.95.\n",
    "\n",
    "5. **Cronic Dermatitis:**\n",
    "   - Perfect precision, recall, and F1-Score (all 1.00), indicating excellent performance for cronic dermatitis.\n",
    "\n",
    "6. **Pityriasis Rubra Pilaris:**\n",
    "   - High precision (1.00) but lower recall (0.75) and F1-Score (0.86), suggesting some room for improvement.\n",
    "\n",
    "#### Model Evaluation Metrics:\n",
    "\n",
    "1. **Accuracy:**\n",
    "   - Overall accuracy of 98%, indicating a highly reliable model.\n",
    "\n",
    "2. **Macro Average:**\n",
    "   - Macro-average precision, recall, and F1-Score are 0.98, 0.94, and 0.96, respectively, showcasing consistent performance across classes.\n",
    "\n",
    "3. **Weighted Average:**\n",
    "   - Weighted-average precision, recall, and F1-Score are 0.98, 0.98, and 0.98, respectively, reflecting robust performance considering class imbalances.\n",
    "\n",
    "\n"
   ]
  },
  {
   "cell_type": "markdown",
   "id": "bcb19915",
   "metadata": {},
   "source": [
    "### Conclusion:\n",
    "\n",
    "The Random Forest Classifier proves to be a highly effective and accurate model for predicting skin diseases. With balanced precision and recall scores across various classes, it can serve as a reliable tool in a dermatological diagnostic setting. Further investigation into feature importance can provide insights into the key factors influencing the model's predictions."
   ]
  },
  {
   "cell_type": "code",
   "execution_count": null,
   "id": "0afb67b0",
   "metadata": {},
   "outputs": [],
   "source": []
  },
  {
   "cell_type": "code",
   "execution_count": null,
   "id": "1fe61514",
   "metadata": {},
   "outputs": [],
   "source": []
  },
  {
   "cell_type": "markdown",
   "id": "81a479c4",
   "metadata": {},
   "source": [
    "# 19 Gradient Boosting Classifier"
   ]
  },
  {
   "cell_type": "markdown",
   "id": "e6098fee",
   "metadata": {},
   "source": [
    "## Model Building"
   ]
  },
  {
   "cell_type": "code",
   "execution_count": null,
   "id": "567f58d9",
   "metadata": {},
   "outputs": [],
   "source": [
    "# Importing GradientBoostingClassifier from 'sklearn.ensemble'.\n",
    "from sklearn.ensemble import GradientBoostingClassifier\n",
    "from sklearn.model_selection import GridSearchCV\n",
    "from sklearn.preprocessing import StandardScaler\n",
    "from sklearn.pipeline import Pipeline"
   ]
  },
  {
   "cell_type": "markdown",
   "id": "d8062868",
   "metadata": {},
   "source": [
    "## 19.1. Model creation"
   ]
  },
  {
   "cell_type": "markdown",
   "id": "9278b32b",
   "metadata": {},
   "source": [
    "**For creating a  Gradient Boosting Classifier model, we have performed hyperparameter tuning for a Gradient Boosting Classifier using Grid Search within a pipeline.**"
   ]
  },
  {
   "cell_type": "markdown",
   "id": "1bb89f85",
   "metadata": {},
   "source": [
    "**1. Import Libraries:**\n",
    "\n",
    ">- Import necessary libraries, including GradientBoostingClassifier, GridSearchCV, StandardScaler, and Pipeline from scikit-learn.\n",
    "\n",
    "**2. Pipeline Creation:**\n",
    "\n",
    ">- Create a pipeline (pipeline_GBC) with two steps:\n",
    "    - Step 1 ('scaler'): Standardize the features using StandardScaler.\n",
    "    - Step 2 ('classifier'): Apply the Gradient Boosting Classifier using GradientBoostingClassifier().\n",
    "\n",
    "**3. Hyperparameter Grid:**\n",
    "\n",
    ">- Define a hyperparameter grid (param_GBC) for the Gradient Boosting Classifier, including options for the number of estimators, learning rate, and maximum depth.\n",
    "\n",
    "**4.GridSearchCV:**\n",
    "\n",
    ">- Create an instance of the GridSearchCV class (grid_search_GBC) to perform a search over the hyperparameter grid within the defined pipeline.\n",
    ">- Set the estimator to the pipeline (pipeline_GBC), the hyperparameter grid to param_GBC, use 5-fold cross-validation (cv=5), and choose accuracy as the scoring metric.\n",
    "\n",
    "**5. Model Training:**\n",
    "\n",
    ">- Fit the grid search on the training data (x_train, y_train).\n",
    "\n",
    "**6. Print Best Results:**\n",
    "\n",
    ">- Print the best score achieved by the model and the corresponding best hyperparameters."
   ]
  },
  {
   "cell_type": "code",
   "execution_count": null,
   "id": "e06d4fb9",
   "metadata": {},
   "outputs": [],
   "source": [
    "# Create a pipeline with StandardScaler and GradientBoostingClassifier\n",
    "pipeline_GBC = Pipeline([\n",
    "    ('scaler', StandardScaler()),  # You can customize preprocessing steps here\n",
    "    ('classifier', GradientBoostingClassifier())  # Step 2: GradientBoostingClassifier model\n",
    "])\n",
    "\n",
    "# Define the parameter grid for GridSearchCV\n",
    "param_GBC = {\n",
    "    'classifier__n_estimators': [50, 100, 200],  # Number of boosting stages to be run\n",
    "    'classifier__learning_rate': [0.01, 0.1, 0.2],  # Step size shrinkage to prevent overfitting\n",
    "    'classifier__max_depth': [3, 4, 5]  # Maximum depth of the individual trees\n",
    "}\n",
    "\n",
    "# Create GridSearchCV object\n",
    "grid_search_GBC = GridSearchCV(estimator=pipeline_GBC,\n",
    "                               param_grid=param_GBC,\n",
    "                               cv=5,\n",
    "                               scoring='accuracy')\n",
    "grid_search_GBC.fit(x_train, y_train)\n",
    "print(f\" Best score is: {grid_search_GBC.best_score_} with parameters: {grid_search_GBC.best_params_}\")\n"
   ]
  },
  {
   "cell_type": "markdown",
   "id": "60946b08",
   "metadata": {},
   "source": [
    "## 19.2. best parameters and best estimator"
   ]
  },
  {
   "cell_type": "code",
   "execution_count": null,
   "id": "d60cee98",
   "metadata": {},
   "outputs": [],
   "source": [
    "# Get the best parameters and best estimator\n",
    "best_params =grid_search_GBC.best_params_\n",
    "best_estimator = grid_search_GBC.best_estimator_\n",
    "print(f'\\033[1;31m  \\033[1m  best hyperparameter for GradientBoostingClassifier:',best_params)\n",
    "print()\n",
    "print(f'\\033[1;31m  \\033[1m  best estimator for GradientBoostingClassifier:',best_estimator)\n"
   ]
  },
  {
   "cell_type": "markdown",
   "id": "a20d8876",
   "metadata": {},
   "source": [
    "## 19.3 Fit the grid search on the training data"
   ]
  },
  {
   "cell_type": "code",
   "execution_count": null,
   "id": "ef9ca442",
   "metadata": {},
   "outputs": [],
   "source": [
    "\n",
    "# Fit the grid search on the training data\n",
    "grid_search_GBC.fit(x_train, y_train)"
   ]
  },
  {
   "cell_type": "markdown",
   "id": "7d0654a9",
   "metadata": {},
   "source": [
    "## 19.4. Make Predictions/ Test model"
   ]
  },
  {
   "cell_type": "code",
   "execution_count": null,
   "id": "68854c40",
   "metadata": {},
   "outputs": [],
   "source": [
    "# Make predictions on the test data using the best estimator\n",
    "y_pred_GBC = best_estimator.predict(x_test)\n",
    "# The predicted labels are stored in the variable 'y_pred'.\n",
    "y_pred_GBC"
   ]
  },
  {
   "cell_type": "code",
   "execution_count": null,
   "id": "9dbb4413",
   "metadata": {},
   "outputs": [],
   "source": [
    "# Making predictions on the training data using the trained GradientBoostingClassifier.\n",
    "y_pred_GBC_train = best_estimator.predict(x_train)\n",
    "y_pred_GBC_train"
   ]
  },
  {
   "cell_type": "markdown",
   "id": "339a9a2b",
   "metadata": {},
   "source": [
    "# 19.5 Evaluating the Model"
   ]
  },
  {
   "cell_type": "markdown",
   "id": "b593122e",
   "metadata": {},
   "source": [
    "## 19.5.1. Confusion Matrix"
   ]
  },
  {
   "cell_type": "markdown",
   "id": "7219bd7c",
   "metadata": {},
   "source": [
    ">- Creating a ConfusionMatrixDisplay object and visualize the confusion matrix by providing the true labels and predicted labels ."
   ]
  },
  {
   "cell_type": "code",
   "execution_count": null,
   "id": "e8b35a6a",
   "metadata": {},
   "outputs": [],
   "source": [
    "# Plot non-normalized confusion matrix\n",
    "titles_options = [\n",
    "    (\"Confusion matrix, without normalization\", None),\n",
    "    (\"Normalized confusion matrix\", \"true\"),\n",
    "]\n",
    "for title, normalize in titles_options:\n",
    "    disp = ConfusionMatrixDisplay.from_estimator(\n",
    "        grid_search_GBC.fit(x_train, y_train),\n",
    "        x_test,\n",
    "        y_test,\n",
    "        display_labels=['1', '2', '3', '4','5','6'],\n",
    "        cmap=plt.cm.Greens,\n",
    "        normalize=normalize,\n",
    "    )\n",
    "    disp.ax_.set_title(title)\n",
    "\n",
    "    print(title)\n",
    "    print(disp.confusion_matrix)\n",
    "\n",
    "plt.show()"
   ]
  },
  {
   "cell_type": "markdown",
   "id": "ffedd465",
   "metadata": {},
   "source": [
    "## Confusion Matrix Report Interpretation:\n",
    "\n",
    "1. **Psoriasis (Class 1):**\n",
    "   - True Positives (TP): 34\n",
    "   - No False Positives (FP), False Negatives (FN), or True Negatives (TN).\n",
    "\n",
    "2. **Seboreic Dermatitis (Class 2):**\n",
    "   - TP: 12\n",
    "   - No FP, FN, or TN.\n",
    "\n",
    "3. **Lichen Planus (Class 3):**\n",
    "   - TP: 17\n",
    "   - No FP, FN, or TN.\n",
    "\n",
    "4. **Pityriasis Rosea (Class 4):**\n",
    "   - TP: 10\n",
    "   - One False Positive (misclassified as Class 3), and no FN or TN.\n",
    "\n",
    "5. **Cronic Dermatitis (Class 5):**\n",
    "   - TP: 14\n",
    "   - No FP, FN, or TN.\n",
    "\n",
    "6. **Pityriasis Rubra Pilaris (Class 6):**\n",
    "   - TP: 4\n",
    "   - No FP, FN, or TN.\n",
    "\n"
   ]
  },
  {
   "cell_type": "markdown",
   "id": "16287fa8",
   "metadata": {},
   "source": [
    "### Plot the comparison report to show where the datapoint misclassified "
   ]
  },
  {
   "cell_type": "code",
   "execution_count": null,
   "id": "d4b6cede",
   "metadata": {},
   "outputs": [],
   "source": [
    "# Plot the comparison between the actual and predicted bike rental count\n",
    "plt.figure(figsize=(10,6))\n",
    "plt.scatter(y_test, y_pred_GBC, color='blue', label='Data points')\n",
    "plt.plot([y_test.min(), y_test.max()], [y_test.min(), y_test.max()], color='red', label='Diagonal line')\n",
    "plt.xlabel('Actual Skin Disorder')\n",
    "plt.ylabel('Predicted Skin Disorder')\n",
    "plt.title('Comparison between actual and predicted Skin Disorder')\n",
    "plt.legend()\n",
    "plt.show()"
   ]
  },
  {
   "cell_type": "markdown",
   "id": "c6f527bf",
   "metadata": {},
   "source": [
    "#### Insights of confusion_matrix"
   ]
  },
  {
   "cell_type": "markdown",
   "id": "aa0519e9",
   "metadata": {},
   "source": [
    "**This confusion matrix gives a lot of information about the model’s performance:**\n",
    "\n",
    ">- As usual, the diagonal elements are the correctly predicted samples. A total of 91 samples were correctly predicted out of the total 92 samples. Thus, the overall accuracy is 98.91 %.\n",
    "\n",
    ">- M_42=1 implies that the model does confuse samples originally belonging to class-4 with class-2, i.e., the classification boundary between classes 4 and 2 was not learned well by the classifier.\n",
    "    "
   ]
  },
  {
   "cell_type": "markdown",
   "id": "d1637fe6",
   "metadata": {},
   "source": [
    "## 19.5.2. Mean Squared Error , r2_score , Mean Absolute Error , Root Mean Squared Error"
   ]
  },
  {
   "cell_type": "code",
   "execution_count": null,
   "id": "cc6f6d73",
   "metadata": {},
   "outputs": [],
   "source": [
    "# Evaluate the performance of the model\n",
    "mse = metrics.mean_squared_error(y_test, y_pred_GBC)\n",
    "r2 = metrics.r2_score(y_test,  y_pred_GBC)\n",
    "mae = metrics.mean_absolute_error(y_test,  y_pred_GBC)\n",
    "rmse = metrics.mean_squared_error(y_test,  y_pred_GBC, squared=False) \n",
    "\n",
    "\n",
    "\n",
    "print(f'\\033[1;31m  \\033[1m  Mean Squared Error: {mse:.2f}')\n",
    "print(f'\\033[1;31m  \\033[1m  R-squared Score: {r2:.2f}')\n",
    "print(f'\\033[1;31m  \\033[1m  Mean Absolute Error: {mae:.2f}')\n",
    "print(\"\\033[1;31m  \\033[1m  Root Mean Squared Error:\", rmse)"
   ]
  },
  {
   "cell_type": "markdown",
   "id": "6e41a819",
   "metadata": {},
   "source": [
    "**observation :-**\n",
    " \n",
    ">- MSE: The closer the MSE is to zero, the better the model's predictions align with the actual values.   \n",
    "\n",
    ">- R-squared Score (R2): A higher R2 indicates that a larger proportion of the variance in the target variable is explained by the model.\n",
    "\n",
    ">- MAE: Similar to MSE, a lower MAE indicates better performance. It provides a measure of average prediction error.\n",
    "    \n",
    ">- RMSE: Like MSE, lower RMSE values indicate better model performance. It is in the same scale as the target variable.    "
   ]
  },
  {
   "cell_type": "markdown",
   "id": "31c56305",
   "metadata": {},
   "source": [
    "## 19.5.3. Accuracy Score"
   ]
  },
  {
   "cell_type": "markdown",
   "id": "c7c6d36d",
   "metadata": {},
   "source": [
    ">- It will print the accuracy scores for training and testing sets using GradientBoostingClassifier."
   ]
  },
  {
   "cell_type": "code",
   "execution_count": null,
   "id": "29190359",
   "metadata": {},
   "outputs": [],
   "source": [
    "accuracy_GBC = accuracy_score(y_test, y_pred_GBC)\n",
    "accuracy_GBC_train = accuracy_score(y_train, y_pred_GBC_train)\n",
    "print(f'\\033[1;31m  \\033[1m  accuracy of GradientBoostingClassifier for testing set.:',accuracy_GBC)\n",
    "print(f'\\033[1;31m  \\033[1m  accuracy of GradientBoostingClassifier for training set.:',accuracy_GBC_train)"
   ]
  },
  {
   "cell_type": "markdown",
   "id": "b9779903",
   "metadata": {},
   "source": [
    "## 19.5.4. Precision Score"
   ]
  },
  {
   "cell_type": "markdown",
   "id": "abf99d0f",
   "metadata": {},
   "source": [
    ">- It will calculate the weighted precision score for the model(testing set)."
   ]
  },
  {
   "cell_type": "code",
   "execution_count": null,
   "id": "82d850ac",
   "metadata": {},
   "outputs": [],
   "source": [
    "precision=precision_score(y_test, y_pred_GBC, average='weighted')\n",
    "print(f'\\033[1;31m  \\033[1m  precision_score of GradientBoostingClassifier:',precision)"
   ]
  },
  {
   "cell_type": "markdown",
   "id": "49b56113",
   "metadata": {},
   "source": [
    "## 19.5.5. Recall Score"
   ]
  },
  {
   "cell_type": "markdown",
   "id": "893c06ab",
   "metadata": {},
   "source": [
    ">- It will calculate the weighted recall score for the model (testing set)."
   ]
  },
  {
   "cell_type": "code",
   "execution_count": null,
   "id": "d6730c14",
   "metadata": {},
   "outputs": [],
   "source": [
    "recall=recall_score(y_test, y_pred_GBC, average = 'weighted')\n",
    "print(f'\\033[1;31m  \\033[1m  recall_score of GradientBoostingClassifier:',recall)"
   ]
  },
  {
   "cell_type": "markdown",
   "id": "4b80f98d",
   "metadata": {},
   "source": [
    "## 19.5.6. f1 score"
   ]
  },
  {
   "cell_type": "markdown",
   "id": "817c16da",
   "metadata": {},
   "source": [
    ">- It will calculate the weighted f1 score for the testing set."
   ]
  },
  {
   "cell_type": "code",
   "execution_count": null,
   "id": "f80b18be",
   "metadata": {},
   "outputs": [],
   "source": [
    "from sklearn.metrics import f1_score\n",
    "f1_score=f1_score(y_test, y_pred_GBC, average = 'weighted')\n",
    "print(f'\\033[1;31m  \\033[1m  f1_score of GradientBoostingClassifier:',f1_score)"
   ]
  },
  {
   "cell_type": "markdown",
   "id": "7d616018",
   "metadata": {},
   "source": [
    "# 19.6. Classification Report"
   ]
  },
  {
   "cell_type": "code",
   "execution_count": null,
   "id": "1536fb28",
   "metadata": {},
   "outputs": [],
   "source": [
    "print(classification_report(y_test, y_pred_GBC, target_names=\n",
    "                            ['psoriasis','seboreic_dermatitis','lichen_planus','pityriasis_rosea','cronic_dermatitis',\n",
    "                             'pityriasis_rubra_pilaris']))"
   ]
  },
  {
   "cell_type": "markdown",
   "id": "b69ea644",
   "metadata": {},
   "source": [
    "### Gradient Boosting Classifier Report\n",
    "\n",
    "#### Class-specific Analysis:\n",
    "\n",
    "1. **Psoriasis:**\n",
    "   - High precision (1.00) and perfect recall and F1-Score (both 1.00), indicating accurate and reliable predictions for psoriasis.\n",
    "\n",
    "2. **Seboreic Dermatitis:**\n",
    "   - High precision (0.86) and perfect recall and F1-Score (both 1.00), showcasing strong performance.\n",
    "\n",
    "3. **Lichen Planus:**\n",
    "   - Perfect precision, recall, and F1-Score (all 1.00), demonstrating accurate predictions for lichen planus.\n",
    "\n",
    "4. **Pityriasis Rosea:**\n",
    "   - High precision (1.00) and recall (0.82), resulting in a balanced F1-Score of 0.90.\n",
    "\n",
    "5. **Cronic Dermatitis:**\n",
    "   - Perfect precision, recall, and F1-Score (all 1.00), indicating excellent performance for cronic dermatitis.\n",
    "\n",
    "6. **Pityriasis Rubra Pilaris:**\n",
    "   - Perfect precision, recall, and F1-Score (all 1.00), demonstrating accurate predictions.\n",
    "\n",
    "#### Model Evaluation Metrics:\n",
    "\n",
    "1. **Accuracy:**\n",
    "   - Overall accuracy of 98%, indicating a highly reliable model.\n",
    "\n",
    "2. **Macro Average:**\n",
    "   - Macro-average precision, recall, and F1-Score are 0.98, 0.97, and 0.97, respectively, showcasing consistent performance across classes.\n",
    "\n",
    "3. **Weighted Average:**\n",
    "   - Weighted-average precision, recall, and F1-Score are 0.98, 0.98, and 0.98, respectively, reflecting robust performance considering class imbalances.\n"
   ]
  },
  {
   "cell_type": "markdown",
   "id": "249f6437",
   "metadata": {},
   "source": [
    "### Conclusion:\n",
    "\n",
    "The Gradient Boosting Classifier proves to be a highly effective and accurate model for predicting skin diseases. With balanced precision and recall scores across various classes, it can serve as a reliable tool in a dermatological diagnostic setting. Further investigation into feature importance can provide insights into the key factors influencing the model's predictions."
   ]
  },
  {
   "cell_type": "code",
   "execution_count": null,
   "id": "c7dd7da6",
   "metadata": {},
   "outputs": [],
   "source": []
  },
  {
   "cell_type": "markdown",
   "id": "2093ef7f",
   "metadata": {},
   "source": [
    "# 20. Model Comparison Report"
   ]
  },
  {
   "cell_type": "markdown",
   "id": "205f20c6",
   "metadata": {},
   "source": [
    "**We are going to creat a DataFrame for Model_Comparison to compare the train and test scores of different machine learning models. The train and test scores represent the accuracy of each model on the training and test datasets.**"
   ]
  },
  {
   "cell_type": "code",
   "execution_count": null,
   "id": "1932dbab",
   "metadata": {},
   "outputs": [],
   "source": [
    "# Creating a DataFrame with model names, train scores, and test scores.\n",
    "Model_Comparison = pd.DataFrame({'Model':['Logistic Regressor ()',\n",
    "                                         'KNN Classifier ()',\n",
    "                                         'Support Vector Classifier(Tuned) ',\n",
    "                                         'Decision Tree Classifier()',\n",
    "                                         'Random Forest Classifier',\n",
    "                                         'Gradient Boosting Classifier()',\n",
    "                                         \n",
    "                                         ],\n",
    "\n",
    "                                'Train Score':[accuracy_LR_train,\n",
    "                                               accuracy_knn_train,\n",
    "                                               accuracy_svm_train,\n",
    "                                               accuracy_decsT_train,\n",
    "                                               accuracy_rf_train,\n",
    "                                               accuracy_GBC_train,\n",
    "                                               ],\n",
    "                                               \n",
    "                                'Test Score':[accuracy_LR,\n",
    "                                              accuracy_knn,\n",
    "                                              accuracy_svm,\n",
    "                                              accuracy_decsT,\n",
    "                                              accuracy_rf,\n",
    "                                              accuracy_GBC,\n",
    "                                              ]})\n",
    "# Adjusting the index to start from 1.\n",
    "Model_Comparison.index = Model_Comparison.index + 1\n",
    "\n",
    "# It will display the DataFrame.\n",
    "Model_Comparison"
   ]
  },
  {
   "cell_type": "markdown",
   "id": "20c5e6cf",
   "metadata": {},
   "source": [
    "**This comparison table provides a quick overview of the relative performance of different machine learning models, helping to identify best model for further analysis or deployment based on their accuracy scores on both training and test data.**"
   ]
  },
  {
   "cell_type": "markdown",
   "id": "c7107ef8",
   "metadata": {},
   "source": [
    "**Analysis:**\n",
    "\n",
    ">- Models with a train score close to 1.0 indicate strong performance on the training data.\n",
    "\n",
    ">- Decision Tree Classifier achieved a high accuracy on both the training and test sets, suggesting good generalization.\n",
    "\n",
    ">- Random Forest Classifier, Support Vector Classifier (Tuned), and Gradient Boosting Classifier also show high train and test scores."
   ]
  },
  {
   "cell_type": "markdown",
   "id": "4e9b071c",
   "metadata": {},
   "source": [
    "# 21. Model Evaluation Metrics: Jaccard Score and F1-Score\n"
   ]
  },
  {
   "cell_type": "markdown",
   "id": "42634db3",
   "metadata": {},
   "source": [
    "**Jaccard Score and F1-Score are calculated for the evaluation of various machine learning models**"
   ]
  },
  {
   "cell_type": "markdown",
   "id": "fd5f4ea3",
   "metadata": {},
   "source": [
    "**Jaccard Score:**\n",
    "\n",
    ">- The Jaccard Score is a measure of the similarity between the predicted and true labels, with a range from 0 to 1. A higher score indicates better similarity.\n",
    "\n",
    "**F1-Score:**\n",
    "\n",
    ">- The F1-Score is the harmonic mean of precision and recall, ranging from 0 to 1. A higher F1-Score indicates better balance between precision and recall.\n"
   ]
  },
  {
   "cell_type": "code",
   "execution_count": null,
   "id": "4332856e",
   "metadata": {},
   "outputs": [],
   "source": [
    "from sklearn.metrics import jaccard_score\n",
    "from sklearn.metrics import f1_score\n",
    "from sklearn.metrics import log_loss\n",
    "\n",
    "# Evaluate Logistic Regression\n",
    "jc1 = (jaccard_score(y_test, y_pred_LR, average='weighted'))\n",
    "fs1 = (f1_score(y_test, y_pred_LR, average='weighted'))\n",
    "\n",
    "\n",
    "\n",
    "# Evaluate KNN \n",
    "jc2 = (jaccard_score(y_test, y_pred_knn, average='weighted'))\n",
    "fs2 = (f1_score(y_test, y_pred_knn,average='weighted'))\n",
    "\n",
    "# Evaluate SVM\n",
    "jc3 = (jaccard_score(y_test, y_pred_svm, average='weighted'))\n",
    "fs3 = (f1_score(y_test, y_pred_svm, average='weighted'))\n",
    "\n",
    "# Evaluate Decision Trees\n",
    "jc4 = (jaccard_score(y_test, y_pred_decsT, average='weighted'))\n",
    "fs4 = (f1_score(y_test, y_pred_decsT, average='weighted'))\n",
    "\n",
    "\n",
    "# Evaluate Random Forest Classifier\n",
    "jc5 = (jaccard_score(y_test, y_pred_rf, average='weighted'))\n",
    "fs5 = (f1_score(y_test, y_pred_rf, average='weighted'))\n",
    "\n",
    "# Evaluate Gradient Boosting Classifier\n",
    "jc6 = (jaccard_score(y_test, y_pred_GBC, average='weighted'))\n",
    "fs6 = (f1_score(y_test, y_pred_GBC, average='weighted'))\n",
    "\n",
    "\n",
    "\n",
    "list_jc = [jc1, jc2, jc3, jc4 ,jc5 ,jc6]\n",
    "list_fs = [fs1, fs2, fs3, fs4 ,fs5 ,fs6]\n"
   ]
  },
  {
   "cell_type": "code",
   "execution_count": null,
   "id": "12ee770b",
   "metadata": {},
   "outputs": [],
   "source": [
    "# fomulate the report format\n",
    "report = pd.DataFrame( list_jc,index=['Logistic Regression','KNN','SVM','Decision Tree','Random Forest Classifier','Gradient Boosting Classifier'])\n",
    "report.columns = ['Jaccard']\n",
    "report.insert(loc=1, column='F1-score', value=list_fs)\n",
    "#report.insert(loc=2, column='LogLoss', value=list_ll)\n",
    "report.columns.name = 'Algorithm'\n",
    "report"
   ]
  },
  {
   "cell_type": "markdown",
   "id": "3d55ee11",
   "metadata": {},
   "source": [
    "**Analysis:**\n",
    "\n",
    ">- Decision Tree achieved the highest Jaccard Score among the models.\n",
    "\n",
    ">- Decision Tree also achieved the highest F1-Score among the models.\n",
    "\n",
    ">- Decision Tree outperformed other models in terms of both Jaccard Score and F1-Score.\n",
    "\n",
    ">- KNN showed slightly lower performance compared to other models.\n",
    "\n",
    ">- SVM, Logistic Regression, Random Forest Classifier, and Gradient Boosting Classifier had similar Jaccard and F1-Score values."
   ]
  },
  {
   "cell_type": "markdown",
   "id": "e9386e1c",
   "metadata": {},
   "source": [
    "**Note (what we can do next) : -**\n",
    "\n",
    ">- The Decision Tree model appears to be the most effective based on the provided evaluation metrics. Consider exploring its interpretability and feature importance for further insights.\n",
    "\n",
    ">- Check for potential overfitting or underfitting in models with perfect Jaccard Scores, especially Decision Tree, Random Forest, and Gradient Boosting.\n",
    "\n",
    ">- Experiment with adjusting hyperparameters or exploring other algorithms to improve model performance, especially if there is a need for better generalization.\n"
   ]
  },
  {
   "cell_type": "code",
   "execution_count": null,
   "id": "4eadeea6",
   "metadata": {},
   "outputs": [],
   "source": []
  },
  {
   "cell_type": "markdown",
   "id": "94e87981",
   "metadata": {},
   "source": [
    "# 22. Grid Search Time Analysis"
   ]
  },
  {
   "cell_type": "markdown",
   "id": "e8b0032c",
   "metadata": {},
   "source": [
    "**The time analysis of the grid search process for different machine learning models**"
   ]
  },
  {
   "cell_type": "markdown",
   "id": "3eb868ab",
   "metadata": {},
   "source": [
    "**Time for Fit:**\n",
    "\n",
    ">- Represents the total time taken for fitting the model during grid search.\n",
    "\n",
    "**Time for Score:**\n",
    "\n",
    ">- Represents the total time taken for scoring the model during grid search.\n",
    "\n",
    "**Time per k-fold:**\n",
    "\n",
    ">- Represents the average time taken per k-fold during grid search.\n",
    "\n",
    "**Total Time:**\n",
    "\n",
    ">- Represents the total time for both fit and score over the entire grid search process."
   ]
  },
  {
   "cell_type": "code",
   "execution_count": null,
   "id": "e968fe31",
   "metadata": {},
   "outputs": [],
   "source": [
    "# Calculate the total time for fitting the models during the grid search process. \n",
    "# it sums up the mean fit times obtained from the cross-validation results.\n",
    "\n",
    "grid_search_LR.fit = grid_search_LR.cv_results_['mean_fit_time'].sum()\n",
    "grid_search_knn.fit = grid_search_knn.cv_results_['mean_fit_time'].sum()\n",
    "grid_svm_fit = grid_search_svm.cv_results_['mean_fit_time'].sum()\n",
    "grid_decsT_fit = grid_search_decsT.cv_results_['mean_fit_time'].sum()\n",
    "grid_rf_fit = grid_search_rf.cv_results_['mean_fit_time'].sum()\n",
    "grid_GBC_fit = grid_search_GBC.cv_results_['mean_fit_time'].sum()\n",
    "\n",
    "#Calculate the total time for scoring the models during the grid search process. \n",
    "# It sums up the mean score times obtained from the cross-validation results.\n",
    "\n",
    "lr_score = grid_search_LR.cv_results_['mean_score_time'].sum()\n",
    "knn_score = grid_search_knn.cv_results_['mean_score_time'].sum()\n",
    "svm_score = grid_search_svm.cv_results_['mean_score_time'].sum()\n",
    "decsT_score = grid_search_decsT.cv_results_['mean_score_time'].sum()\n",
    "rf_score = grid_search_rf.cv_results_['mean_score_time'].sum()\n",
    "GBC_score = grid_search_GBC.cv_results_['mean_score_time'].sum()\n",
    "\n",
    "#Calculate the total time for both fit and score for each model.\n",
    "\n",
    "time_lr = grid_search_LR.fit + lr_score\n",
    "time_knn = grid_search_knn.fit + knn_score\n",
    "time_svm = grid_svm_fit + svm_score\n",
    "time_decsT = grid_decsT_fit + decsT_score\n",
    "time_rf =grid_rf_fit + rf_score\n",
    "time_GBC = grid_GBC_fit + GBC_score\n",
    "\n",
    "#time_fit: List containing the total time for fitting each model.\n",
    "#time_score: List containing the total time for scoring each model.\n",
    "#total_time: List containing the total time for both fit and score multiplied by 5 (assuming 5-fold cross-validation).\n",
    "\n",
    "time_fit = [grid_search_LR.fit, grid_search_knn.fit , grid_svm_fit ,  grid_decsT_fit , grid_rf_fit, grid_GBC_fit]\n",
    "time_score = [lr_score, knn_score, svm_score, decsT_score, rf_score, GBC_score]\n",
    "time_fit = [time_lr, time_knn, time_svm, time_decsT, time_rf, time_GBC]\n",
    "total_time = [5*x for x in time_fit]\n",
    "\n",
    "#time_report: DataFrame summarizing the fitting and scoring times for each model. It \n",
    "time_report = pd.DataFrame( time_fit,index=['Logistic Regression','KNN','SVM','Decision Tree','Random Forest Classifier','Gradient Boosting Classifier'])\n",
    "time_report.columns = ['Time for fit']\n",
    "time_report.insert(loc=1, column='Time for score', value=time_score)\n",
    "time_report.insert(loc=2, column='Time per k-fold', value=time_fit)\n",
    "time_report.insert(loc=3, column='Total time', value=total_time)\n",
    "time_report.columns.name = 'Algorithm'\n",
    "time_report.style.format(\"{:.2f}\")#The code uses style.format(\"{:.2f}\") to format the output with two decimal places.\n",
    "\n"
   ]
  },
  {
   "cell_type": "markdown",
   "id": "9208d40e",
   "metadata": {},
   "source": [
    "**Analysis:**\n",
    "\n",
    ">- Logistic Regression and Decision Tree models show relatively lower times, indicating faster grid search.\n",
    "\n",
    ">- Gradient Boosting Classifier takes significantly more time compared to other models, suggesting higher computational requirements.\n",
    "\n",
    ">- Time per k-fold is proportional to the complexity of the model, with more complex models taking longer."
   ]
  },
  {
   "cell_type": "markdown",
   "id": "5c2c9803",
   "metadata": {},
   "source": [
    "**Note (what we can do next) : -**\n",
    "\n",
    ">- Consider the trade-off between model complexity and computational resources. If the time is a critical factor, simpler models like Logistic Regression or Decision Trees might be preferred.\n",
    "\n",
    ">- Evaluate the importance of hyperparameter tuning. If the grid search time is significantly impacting overall workflow efficiency, explore strategies such as reducing the hyperparameter search space or optimizing the code for parallel processing.\n",
    "\n",
    ">- For models with long grid search times, consider using distributed computing or parallel processing to speed up the tuning process.\n",
    "\n"
   ]
  },
  {
   "cell_type": "code",
   "execution_count": null,
   "id": "66f4154e",
   "metadata": {},
   "outputs": [],
   "source": []
  },
  {
   "cell_type": "markdown",
   "id": "5ee7aba5",
   "metadata": {},
   "source": [
    "# 23. plot comparing the train and test scores of different classification models. "
   ]
  },
  {
   "cell_type": "code",
   "execution_count": null,
   "id": "89b2e780",
   "metadata": {},
   "outputs": [],
   "source": [
    "# Extracting model names, train scores, and test scores from the DataFrame.\n",
    "model_names = Model_Comparison['Model'].tolist()\n",
    "train_scores = Model_Comparison['Train Score'].tolist()\n",
    "test_scores = Model_Comparison['Test Score'].tolist()\n",
    "\n",
    "# Here, We are setting up the size of the plot.\n",
    "plt.figure(figsize=(12,6))\n",
    "\n",
    "# Plotting the train scores for each model with blue color.\n",
    "plt.plot(model_names, train_scores, label='Train Score', color='#0590DA')\n",
    "\n",
    "# Plotting the test scores for each model with orange color.\n",
    "plt.plot(model_names, test_scores, label='Test Score', color='#FF6600')\n",
    "\n",
    "# Adding a legend to the plot.\n",
    "plt.legend()\n",
    "\n",
    "# Rotating x-axis labels for better readability.\n",
    "plt.xticks(rotation = 90)\n",
    "\n",
    "# Adding labels to the x and y axes.\n",
    "plt.xlabel('Model')\n",
    "plt.ylabel('Score')\n",
    "\n",
    "# Setting y-axis limits for better visualization.\n",
    "plt.ylim(0.900, 1.05)\n",
    "\n",
    "\n",
    "# Adding a title to the plot.\n",
    "plt.title('Comparison between Train and Test Scores of each Classification Model')\n",
    "\n",
    "# Displaying the plot.\n",
    "plt.show()"
   ]
  },
  {
   "cell_type": "markdown",
   "id": "1a35b5c9",
   "metadata": {},
   "source": [
    "**Analysis:**\n",
    "\n",
    ">- The plot allows visualizing and comparing the performance of different models on both training and test datasets.\n",
    "\n",
    ">- The height of each bar indicates the corresponding score for each model.\n",
    "\n",
    ">- Models with similar train and test scores are likely to generalize well to unseen data.\n",
    "\n",
    ">- Discrepancies between train and test scores can provide insights into potential overfitting or underfitting."
   ]
  },
  {
   "cell_type": "markdown",
   "id": "fb7edae8",
   "metadata": {},
   "source": [
    "# 24. Creating a bar plot to visualize Accuracy scores for different algorithms"
   ]
  },
  {
   "cell_type": "code",
   "execution_count": null,
   "id": "234184e7",
   "metadata": {},
   "outputs": [],
   "source": [
    "# Creating a list of Accuracy score for different algorithms\n",
    "scores = [accuracy_LR, accuracy_knn, accuracy_svm, accuracy_decsT, accuracy_rf , accuracy_GBC]\n",
    "\n",
    "# List of algorithm names.\n",
    "algorithms = [\"Logistic Regression\", \"KNN Classifier\", \"Support Vector Classifier\", \"Decision Tree Classifier\", \"Random Forest Classifier\", \"Gradient Boosting Classifier\"]\n",
    "\n",
    "# Looping through each algorithm and printing its Accuracy Score.\n",
    "for i in range(len(algorithms)) :\n",
    "    \n",
    "    print(\"The accuracy score achieved using \"+ algorithms[i]+\" is: \"+str(scores[i])+\"%\")\n"
   ]
  },
  {
   "cell_type": "code",
   "execution_count": null,
   "id": "abef1df9",
   "metadata": {},
   "outputs": [],
   "source": [
    "# Here, We are setting the figure size of the plot.\n",
    "plt.figure(figsize=(10,6))\n",
    "\n",
    "# Adding labels to the axes.\n",
    "plt.xlabel(\"Algorithms\", fontsize = 15)\n",
    "plt.ylabel(\"Accuracy Score\", fontsize = 15)\n",
    "\n",
    "# Using seaborn to creat a bar plot.\n",
    "ax = sns.barplot(x = algorithms, y = scores)\n",
    "\n",
    "# Adding labels to the each bar in the plot.\n",
    "for label in ax.containers:\n",
    "    ax.bar_label(label)\n",
    "    \n",
    "# Ensuring tight layout for a clean presentation.\n",
    "plt.tight_layout()\n",
    "\n",
    "# it will rotate the x-tick labels by 90 degree for better readability.\n",
    "plt.xticks(rotation = 90)\n",
    "\n",
    "# Adjusting tick label font size for better readability.\n",
    "plt.tick_params(labelsize = 14)\n",
    "\n",
    "# It will display the plot.\n",
    "plt.show()"
   ]
  },
  {
   "cell_type": "code",
   "execution_count": null,
   "id": "34597ea9",
   "metadata": {},
   "outputs": [],
   "source": []
  },
  {
   "cell_type": "markdown",
   "id": "627f1e94",
   "metadata": {},
   "source": [
    "# 25. Summary Report on Skin Disease Classification Models:"
   ]
  },
  {
   "cell_type": "markdown",
   "id": "2d05b221",
   "metadata": {},
   "source": [
    "### **1. Logistic Regression:**\n",
    "   >- **Overall Performance:**\n",
    "     - Accuracy: 98%\n",
    "   \n",
    "   >- **Class-wise Evaluation:**\n",
    "     - High precision, recall, and F1-score for all classes.\n",
    "     - Particularly effective for Psoriasis, Lichen Planus, and Chronic Dermatitis.\n",
    "   \n",
    "   >- **Doctor's Insight:**\n",
    "     - Reliable performance across various skin conditions.\n",
    "     - Suitable for quick and accurate initial assessments.\n"
   ]
  },
  {
   "cell_type": "markdown",
   "id": "deabda1d",
   "metadata": {},
   "source": [
    "### **2. KNN (K Nearest Neighbors) Classifier:**\n",
    "   >- **Overall Performance:**\n",
    "     - Accuracy: 97%\n",
    "   \n",
    "   >- **Class-wise Evaluation:**\n",
    "     - High precision, recall, and F1-score for most classes.\n",
    "     - Slightly lower performance for Seborrheic Dermatitis and Pityriasis Rosea.\n",
    "   \n",
    "   >- **Doctor's Insight:**\n",
    "     - Robust performance but potential improvements in specific conditions.\n",
    "     - Considerable accuracy for diverse cases."
   ]
  },
  {
   "cell_type": "markdown",
   "id": "88515a1e",
   "metadata": {},
   "source": [
    "### **3. Support Vector Classifier:**\n",
    "   >- **Overall Performance:**\n",
    "     - Accuracy: 98%\n",
    "   \n",
    "   >- **Class-wise Evaluation:**\n",
    "     - Similar to Logistic Regression, high scores for all classes.\n",
    "   \n",
    "   >- **Doctor's Insight:**\n",
    "     - Consistent with Logistic Regression.\n",
    "     - Suitable for diverse skin disease identification."
   ]
  },
  {
   "cell_type": "markdown",
   "id": "05975e9f",
   "metadata": {},
   "source": [
    "### **4. Decision Tree:**\n",
    "   >- **Overall Performance:**\n",
    "     - Accuracy: 99%\n",
    "   \n",
    "   >- **Class-wise Evaluation:**\n",
    "     - Outstanding precision, recall, and F1-score for most classes.\n",
    "     - Slightly lower recall for Pityriasis Rubra Pilaris.\n",
    "   \n",
    "   >- **Doctor's Insight:**\n",
    "     - Excellent overall performance, especially for common skin conditions.\n",
    "     - Potential improvement in rare conditions."
   ]
  },
  {
   "cell_type": "markdown",
   "id": "99ee387d",
   "metadata": {},
   "source": [
    "### **5. Random Forest Classifier:**\n",
    "   >- **Overall Performance:**\n",
    "     - Accuracy: 98%\n",
    "   \n",
    "   >- **Class-wise Evaluation:**\n",
    "     - High precision, recall, and F1-score, similar to Logistic Regression.\n",
    "   \n",
    "   >- **Doctor's Insight:**\n",
    "     - Comparable to Logistic Regression.\n",
    "     - Reliable choice for skin disease classification.\n"
   ]
  },
  {
   "cell_type": "markdown",
   "id": "40a56e92",
   "metadata": {},
   "source": [
    "### **6. Gradient Boosting Classifier:**\n",
    "   >- **Overall Performance:**\n",
    "     - Accuracy: 98%\n",
    "   \n",
    "   >- **Class-wise Evaluation:**\n",
    "     - Similar to Logistic Regression and Support Vector Classifier.\n",
    "   \n",
    "   >- **Doctor's Insight:**\n",
    "     - Consistent and reliable, similar to other models.\n",
    "     - Effective for a diverse range of skin conditions.\n"
   ]
  },
  {
   "cell_type": "markdown",
   "id": "8147b8cf",
   "metadata": {},
   "source": [
    "# 26. **Conclusion:**\n",
    ">- All models demonstrate high accuracy, indicating their effectiveness in skin disease classification.\n",
    "\n",
    ">- Decision Tree stands out with exceptional overall performance.\n",
    "\n",
    ">- Logistic Regression, Support Vector Classifier, and Random Forest Classifier show consistent and reliable results.\n",
    "\n",
    ">- KNN and Gradient Boosting Classifier exhibit slightly lower accuracy but remain suitable for diverse cases.\n"
   ]
  },
  {
   "cell_type": "markdown",
   "id": "e437ddb0",
   "metadata": {},
   "source": [
    "# 27. **Challenges:**\n",
    "\n",
    "**Class Imbalance:**\n",
    ">- The dataset might have imbalanced class distributions, impacting the model's performance on minority classes.\n",
    ">- Continuous monitoring and model updates are essential for evolving skin disease patterns.\n",
    "\n",
    "**Specificity for Rare Classes:**\n",
    ">- Achieving high performance on rare classes like 'Pityriasis Rubra Pilaris' may be challenging due to limited data.\n",
    ">- Potential improvements for specific skin conditions, especially in rare cases.\n",
    "\n",
    "**Interpretability:**\n",
    ">- While metrics provide insights, understanding the reasons behind model predictions, especially for misclassifications, is crucial for practical application.\n",
    ">- Interpretability of Decision Tree might be challenging for doctors.\n"
   ]
  },
  {
   "cell_type": "markdown",
   "id": "831a3feb",
   "metadata": {},
   "source": [
    "**These models collectively offer doctors valuable tools for early identification and classification of various skin diseases, enhancing the efficiency of diagnosis and treatment planning. The choice of a specific model can be tailored based on the healthcare setting and the specific skin conditions prevalent in the population.**"
   ]
  },
  {
   "cell_type": "code",
   "execution_count": null,
   "id": "7e93fd7b",
   "metadata": {},
   "outputs": [],
   "source": []
  },
  {
   "cell_type": "code",
   "execution_count": null,
   "id": "8c6eb066",
   "metadata": {},
   "outputs": [],
   "source": []
  }
 ],
 "metadata": {
  "kernelspec": {
   "display_name": "Python 3 (ipykernel)",
   "language": "python",
   "name": "python3"
  },
  "language_info": {
   "codemirror_mode": {
    "name": "ipython",
    "version": 3
   },
   "file_extension": ".py",
   "mimetype": "text/x-python",
   "name": "python",
   "nbconvert_exporter": "python",
   "pygments_lexer": "ipython3",
   "version": "3.9.7"
  }
 },
 "nbformat": 4,
 "nbformat_minor": 5
}
